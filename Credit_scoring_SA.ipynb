{
 "cells": [
  {
   "cell_type": "markdown",
   "metadata": {},
   "source": [
    "# Menganalisis risiko peminjam gagal membayar\n",
    "\n",
    "Proyek Anda ialah menyiapkan laporan untuk bank bagian kredit. Anda harus mencari tahu pengaruh status perkawinan seorang nasabah dan jumlah anak terhadap probabilitas ketepatan waktu dalam melunasi pinjaman. Bank sudah memiliki beberapa data mengenai kelayakan kredit nasabah.\n",
    "\n",
    "Laporan Anda akan dipertimbangkan pada saat membuat **penilaian kredit** untuk calon nasabah. **Penilaian kredit** digunakan untuk mengevaluasi kemampuan calon peminjam untuk melunasi pinjaman mereka.\n",
    "\n"
   ]
  },
  {
   "cell_type": "code",
   "execution_count": 2,
   "metadata": {},
   "outputs": [],
   "source": [
    "# Memuat semua perpustakaan\n",
    "import pandas as pd\n",
    "import numpy as np"
   ]
  },
  {
   "cell_type": "code",
   "execution_count": 4,
   "metadata": {},
   "outputs": [],
   "source": [
    "# muat data\n",
    "try:\n",
    "    data = pd.read_csv('data/credit_scoring_eng.csv')\n",
    "except:\n",
    "    data = pd.read_csv('/datasets/credit_scoring_eng.csv')"
   ]
  },
  {
   "cell_type": "markdown",
   "metadata": {},
   "source": [
    "## Soal 1. Eksplorasi Data\n",
    "\n",
    "**Deskripsi Data**\n",
    "- *`children`* - jumlah anak dalam keluarga\n",
    "- *`days_employed`* - pengalaman kerja dalam hari\n",
    "- *`dob_years`* - usia klien dalam tahun\n",
    "- *`education`* - pendidikan klien\n",
    "- *`education_id`* - tanda pengenal pendidikan\n",
    "- *`family_status`* - status perkawinan\n",
    "- *`family_status_id`* - tanda pengenal status perkawinan\n",
    "- *`gender`* - jenis kelamin klien\n",
    "- *`income_type`* - jenis pekerjaan\n",
    "- *`debt`* - apakah klien memiliki hutang pembayaran pinjaman\n",
    "- *`total_income`* - pendapatan bulanan\n",
    "- *`purpose`* - tujuan mendapatkan pinjaman"
   ]
  },
  {
   "cell_type": "code",
   "execution_count": 5,
   "metadata": {},
   "outputs": [
    {
     "data": {
      "text/plain": [
       "(21525, 12)"
      ]
     },
     "execution_count": 5,
     "metadata": {},
     "output_type": "execute_result"
    }
   ],
   "source": [
    "# Mari kita lihat berapa banyak baris dan kolom yang dimiliki oleh dataset kita\n",
    "data.shape"
   ]
  },
  {
   "cell_type": "markdown",
   "metadata": {},
   "source": [
    "<div class=\"alert alert-block alert-info\">\n",
    "<b> Note</b> <a class=\"tocSkip\"></a>\n",
    "    \n",
    "Terdapat 21,525 baris dan 12 Kolom\n",
    "</div>\n"
   ]
  },
  {
   "cell_type": "code",
   "execution_count": 7,
   "metadata": {
    "scrolled": true
   },
   "outputs": [
    {
     "data": {
      "text/html": [
       "<div>\n",
       "<style scoped>\n",
       "    .dataframe tbody tr th:only-of-type {\n",
       "        vertical-align: middle;\n",
       "    }\n",
       "\n",
       "    .dataframe tbody tr th {\n",
       "        vertical-align: top;\n",
       "    }\n",
       "\n",
       "    .dataframe thead th {\n",
       "        text-align: right;\n",
       "    }\n",
       "</style>\n",
       "<table border=\"1\" class=\"dataframe\">\n",
       "  <thead>\n",
       "    <tr style=\"text-align: right;\">\n",
       "      <th></th>\n",
       "      <th>children</th>\n",
       "      <th>days_employed</th>\n",
       "      <th>dob_years</th>\n",
       "      <th>education</th>\n",
       "      <th>education_id</th>\n",
       "      <th>family_status</th>\n",
       "      <th>family_status_id</th>\n",
       "      <th>gender</th>\n",
       "      <th>income_type</th>\n",
       "      <th>debt</th>\n",
       "      <th>total_income</th>\n",
       "      <th>purpose</th>\n",
       "    </tr>\n",
       "  </thead>\n",
       "  <tbody>\n",
       "    <tr>\n",
       "      <th>0</th>\n",
       "      <td>1</td>\n",
       "      <td>-8437.673028</td>\n",
       "      <td>42</td>\n",
       "      <td>bachelor's degree</td>\n",
       "      <td>0</td>\n",
       "      <td>married</td>\n",
       "      <td>0</td>\n",
       "      <td>F</td>\n",
       "      <td>employee</td>\n",
       "      <td>0</td>\n",
       "      <td>40620.102</td>\n",
       "      <td>purchase of the house</td>\n",
       "    </tr>\n",
       "    <tr>\n",
       "      <th>1</th>\n",
       "      <td>1</td>\n",
       "      <td>-4024.803754</td>\n",
       "      <td>36</td>\n",
       "      <td>secondary education</td>\n",
       "      <td>1</td>\n",
       "      <td>married</td>\n",
       "      <td>0</td>\n",
       "      <td>F</td>\n",
       "      <td>employee</td>\n",
       "      <td>0</td>\n",
       "      <td>17932.802</td>\n",
       "      <td>car purchase</td>\n",
       "    </tr>\n",
       "    <tr>\n",
       "      <th>2</th>\n",
       "      <td>0</td>\n",
       "      <td>-5623.422610</td>\n",
       "      <td>33</td>\n",
       "      <td>Secondary Education</td>\n",
       "      <td>1</td>\n",
       "      <td>married</td>\n",
       "      <td>0</td>\n",
       "      <td>M</td>\n",
       "      <td>employee</td>\n",
       "      <td>0</td>\n",
       "      <td>23341.752</td>\n",
       "      <td>purchase of the house</td>\n",
       "    </tr>\n",
       "    <tr>\n",
       "      <th>3</th>\n",
       "      <td>3</td>\n",
       "      <td>-4124.747207</td>\n",
       "      <td>32</td>\n",
       "      <td>secondary education</td>\n",
       "      <td>1</td>\n",
       "      <td>married</td>\n",
       "      <td>0</td>\n",
       "      <td>M</td>\n",
       "      <td>employee</td>\n",
       "      <td>0</td>\n",
       "      <td>42820.568</td>\n",
       "      <td>supplementary education</td>\n",
       "    </tr>\n",
       "    <tr>\n",
       "      <th>4</th>\n",
       "      <td>0</td>\n",
       "      <td>340266.072047</td>\n",
       "      <td>53</td>\n",
       "      <td>secondary education</td>\n",
       "      <td>1</td>\n",
       "      <td>civil partnership</td>\n",
       "      <td>1</td>\n",
       "      <td>F</td>\n",
       "      <td>retiree</td>\n",
       "      <td>0</td>\n",
       "      <td>25378.572</td>\n",
       "      <td>to have a wedding</td>\n",
       "    </tr>\n",
       "    <tr>\n",
       "      <th>5</th>\n",
       "      <td>0</td>\n",
       "      <td>-926.185831</td>\n",
       "      <td>27</td>\n",
       "      <td>bachelor's degree</td>\n",
       "      <td>0</td>\n",
       "      <td>civil partnership</td>\n",
       "      <td>1</td>\n",
       "      <td>M</td>\n",
       "      <td>business</td>\n",
       "      <td>0</td>\n",
       "      <td>40922.170</td>\n",
       "      <td>purchase of the house</td>\n",
       "    </tr>\n",
       "    <tr>\n",
       "      <th>6</th>\n",
       "      <td>0</td>\n",
       "      <td>-2879.202052</td>\n",
       "      <td>43</td>\n",
       "      <td>bachelor's degree</td>\n",
       "      <td>0</td>\n",
       "      <td>married</td>\n",
       "      <td>0</td>\n",
       "      <td>F</td>\n",
       "      <td>business</td>\n",
       "      <td>0</td>\n",
       "      <td>38484.156</td>\n",
       "      <td>housing transactions</td>\n",
       "    </tr>\n",
       "    <tr>\n",
       "      <th>7</th>\n",
       "      <td>0</td>\n",
       "      <td>-152.779569</td>\n",
       "      <td>50</td>\n",
       "      <td>SECONDARY EDUCATION</td>\n",
       "      <td>1</td>\n",
       "      <td>married</td>\n",
       "      <td>0</td>\n",
       "      <td>M</td>\n",
       "      <td>employee</td>\n",
       "      <td>0</td>\n",
       "      <td>21731.829</td>\n",
       "      <td>education</td>\n",
       "    </tr>\n",
       "    <tr>\n",
       "      <th>8</th>\n",
       "      <td>2</td>\n",
       "      <td>-6929.865299</td>\n",
       "      <td>35</td>\n",
       "      <td>BACHELOR'S DEGREE</td>\n",
       "      <td>0</td>\n",
       "      <td>civil partnership</td>\n",
       "      <td>1</td>\n",
       "      <td>F</td>\n",
       "      <td>employee</td>\n",
       "      <td>0</td>\n",
       "      <td>15337.093</td>\n",
       "      <td>having a wedding</td>\n",
       "    </tr>\n",
       "    <tr>\n",
       "      <th>9</th>\n",
       "      <td>0</td>\n",
       "      <td>-2188.756445</td>\n",
       "      <td>41</td>\n",
       "      <td>secondary education</td>\n",
       "      <td>1</td>\n",
       "      <td>married</td>\n",
       "      <td>0</td>\n",
       "      <td>M</td>\n",
       "      <td>employee</td>\n",
       "      <td>0</td>\n",
       "      <td>23108.150</td>\n",
       "      <td>purchase of the house for my family</td>\n",
       "    </tr>\n",
       "  </tbody>\n",
       "</table>\n",
       "</div>"
      ],
      "text/plain": [
       "   children  days_employed  dob_years            education  education_id  \\\n",
       "0         1   -8437.673028         42    bachelor's degree             0   \n",
       "1         1   -4024.803754         36  secondary education             1   \n",
       "2         0   -5623.422610         33  Secondary Education             1   \n",
       "3         3   -4124.747207         32  secondary education             1   \n",
       "4         0  340266.072047         53  secondary education             1   \n",
       "5         0    -926.185831         27    bachelor's degree             0   \n",
       "6         0   -2879.202052         43    bachelor's degree             0   \n",
       "7         0    -152.779569         50  SECONDARY EDUCATION             1   \n",
       "8         2   -6929.865299         35    BACHELOR'S DEGREE             0   \n",
       "9         0   -2188.756445         41  secondary education             1   \n",
       "\n",
       "       family_status  family_status_id gender income_type  debt  total_income  \\\n",
       "0            married                 0      F    employee     0     40620.102   \n",
       "1            married                 0      F    employee     0     17932.802   \n",
       "2            married                 0      M    employee     0     23341.752   \n",
       "3            married                 0      M    employee     0     42820.568   \n",
       "4  civil partnership                 1      F     retiree     0     25378.572   \n",
       "5  civil partnership                 1      M    business     0     40922.170   \n",
       "6            married                 0      F    business     0     38484.156   \n",
       "7            married                 0      M    employee     0     21731.829   \n",
       "8  civil partnership                 1      F    employee     0     15337.093   \n",
       "9            married                 0      M    employee     0     23108.150   \n",
       "\n",
       "                               purpose  \n",
       "0                purchase of the house  \n",
       "1                         car purchase  \n",
       "2                purchase of the house  \n",
       "3              supplementary education  \n",
       "4                    to have a wedding  \n",
       "5                purchase of the house  \n",
       "6                 housing transactions  \n",
       "7                            education  \n",
       "8                     having a wedding  \n",
       "9  purchase of the house for my family  "
      ]
     },
     "execution_count": 7,
     "metadata": {},
     "output_type": "execute_result"
    }
   ],
   "source": [
    "# mari menampilkan 10 baris pertama\n",
    "data.head(10)"
   ]
  },
  {
   "cell_type": "markdown",
   "metadata": {},
   "source": [
    "<div class=\"alert alert-block alert-info\">\n",
    "<b>Note.</b> <a class=\"tocSkip\"></a><br/>\n",
    "    \n",
    "\n",
    "Berdasarkan hasil pengamatan:<br/>\n",
    "- Terdapat data yang hilang <br/>\n",
    "- Value education yang terlihat mirip namun berbeda penulisan besar dan kecilnya.<br/>\n",
    "- Terdapat nilai negative pada value days_employed atau durasi lama bekerja.\n",
    "</div>"
   ]
  },
  {
   "cell_type": "code",
   "execution_count": 8,
   "metadata": {
    "scrolled": false
   },
   "outputs": [
    {
     "name": "stdout",
     "output_type": "stream",
     "text": [
      "<class 'pandas.core.frame.DataFrame'>\n",
      "RangeIndex: 21525 entries, 0 to 21524\n",
      "Data columns (total 12 columns):\n",
      " #   Column            Non-Null Count  Dtype  \n",
      "---  ------            --------------  -----  \n",
      " 0   children          21525 non-null  int64  \n",
      " 1   days_employed     19351 non-null  float64\n",
      " 2   dob_years         21525 non-null  int64  \n",
      " 3   education         21525 non-null  object \n",
      " 4   education_id      21525 non-null  int64  \n",
      " 5   family_status     21525 non-null  object \n",
      " 6   family_status_id  21525 non-null  int64  \n",
      " 7   gender            21525 non-null  object \n",
      " 8   income_type       21525 non-null  object \n",
      " 9   debt              21525 non-null  int64  \n",
      " 10  total_income      19351 non-null  float64\n",
      " 11  purpose           21525 non-null  object \n",
      "dtypes: float64(2), int64(5), object(5)\n",
      "memory usage: 2.0+ MB\n"
     ]
    }
   ],
   "source": [
    "# Mendapatkan informasi data\n",
    "data.info()"
   ]
  },
  {
   "cell_type": "markdown",
   "metadata": {},
   "source": [
    "<div class=\"alert alert-block alert-info\">\n",
    "<b>Note</b> <a class=\"tocSkip\"></a>\n",
    "\n",
    "Terdapat 2 kolom yang terdapat nilai yang hilang yaitu kolom days_employed dan total_income dengan jumlah yang sama\n",
    "</div>"
   ]
  },
  {
   "cell_type": "code",
   "execution_count": 9,
   "metadata": {
    "scrolled": true
   },
   "outputs": [
    {
     "data": {
      "text/html": [
       "<div>\n",
       "<style scoped>\n",
       "    .dataframe tbody tr th:only-of-type {\n",
       "        vertical-align: middle;\n",
       "    }\n",
       "\n",
       "    .dataframe tbody tr th {\n",
       "        vertical-align: top;\n",
       "    }\n",
       "\n",
       "    .dataframe thead th {\n",
       "        text-align: right;\n",
       "    }\n",
       "</style>\n",
       "<table border=\"1\" class=\"dataframe\">\n",
       "  <thead>\n",
       "    <tr style=\"text-align: right;\">\n",
       "      <th></th>\n",
       "      <th>children</th>\n",
       "      <th>days_employed</th>\n",
       "      <th>dob_years</th>\n",
       "      <th>education</th>\n",
       "      <th>education_id</th>\n",
       "      <th>family_status</th>\n",
       "      <th>family_status_id</th>\n",
       "      <th>gender</th>\n",
       "      <th>income_type</th>\n",
       "      <th>debt</th>\n",
       "      <th>total_income</th>\n",
       "      <th>purpose</th>\n",
       "    </tr>\n",
       "  </thead>\n",
       "  <tbody>\n",
       "    <tr>\n",
       "      <th>12</th>\n",
       "      <td>0</td>\n",
       "      <td>NaN</td>\n",
       "      <td>65</td>\n",
       "      <td>secondary education</td>\n",
       "      <td>1</td>\n",
       "      <td>civil partnership</td>\n",
       "      <td>1</td>\n",
       "      <td>M</td>\n",
       "      <td>retiree</td>\n",
       "      <td>0</td>\n",
       "      <td>NaN</td>\n",
       "      <td>to have a wedding</td>\n",
       "    </tr>\n",
       "    <tr>\n",
       "      <th>26</th>\n",
       "      <td>0</td>\n",
       "      <td>NaN</td>\n",
       "      <td>41</td>\n",
       "      <td>secondary education</td>\n",
       "      <td>1</td>\n",
       "      <td>married</td>\n",
       "      <td>0</td>\n",
       "      <td>M</td>\n",
       "      <td>civil servant</td>\n",
       "      <td>0</td>\n",
       "      <td>NaN</td>\n",
       "      <td>education</td>\n",
       "    </tr>\n",
       "    <tr>\n",
       "      <th>29</th>\n",
       "      <td>0</td>\n",
       "      <td>NaN</td>\n",
       "      <td>63</td>\n",
       "      <td>secondary education</td>\n",
       "      <td>1</td>\n",
       "      <td>unmarried</td>\n",
       "      <td>4</td>\n",
       "      <td>F</td>\n",
       "      <td>retiree</td>\n",
       "      <td>0</td>\n",
       "      <td>NaN</td>\n",
       "      <td>building a real estate</td>\n",
       "    </tr>\n",
       "    <tr>\n",
       "      <th>41</th>\n",
       "      <td>0</td>\n",
       "      <td>NaN</td>\n",
       "      <td>50</td>\n",
       "      <td>secondary education</td>\n",
       "      <td>1</td>\n",
       "      <td>married</td>\n",
       "      <td>0</td>\n",
       "      <td>F</td>\n",
       "      <td>civil servant</td>\n",
       "      <td>0</td>\n",
       "      <td>NaN</td>\n",
       "      <td>second-hand car purchase</td>\n",
       "    </tr>\n",
       "    <tr>\n",
       "      <th>55</th>\n",
       "      <td>0</td>\n",
       "      <td>NaN</td>\n",
       "      <td>54</td>\n",
       "      <td>secondary education</td>\n",
       "      <td>1</td>\n",
       "      <td>civil partnership</td>\n",
       "      <td>1</td>\n",
       "      <td>F</td>\n",
       "      <td>retiree</td>\n",
       "      <td>1</td>\n",
       "      <td>NaN</td>\n",
       "      <td>to have a wedding</td>\n",
       "    </tr>\n",
       "    <tr>\n",
       "      <th>...</th>\n",
       "      <td>...</td>\n",
       "      <td>...</td>\n",
       "      <td>...</td>\n",
       "      <td>...</td>\n",
       "      <td>...</td>\n",
       "      <td>...</td>\n",
       "      <td>...</td>\n",
       "      <td>...</td>\n",
       "      <td>...</td>\n",
       "      <td>...</td>\n",
       "      <td>...</td>\n",
       "      <td>...</td>\n",
       "    </tr>\n",
       "    <tr>\n",
       "      <th>21489</th>\n",
       "      <td>2</td>\n",
       "      <td>NaN</td>\n",
       "      <td>47</td>\n",
       "      <td>Secondary Education</td>\n",
       "      <td>1</td>\n",
       "      <td>married</td>\n",
       "      <td>0</td>\n",
       "      <td>M</td>\n",
       "      <td>business</td>\n",
       "      <td>0</td>\n",
       "      <td>NaN</td>\n",
       "      <td>purchase of a car</td>\n",
       "    </tr>\n",
       "    <tr>\n",
       "      <th>21495</th>\n",
       "      <td>1</td>\n",
       "      <td>NaN</td>\n",
       "      <td>50</td>\n",
       "      <td>secondary education</td>\n",
       "      <td>1</td>\n",
       "      <td>civil partnership</td>\n",
       "      <td>1</td>\n",
       "      <td>F</td>\n",
       "      <td>employee</td>\n",
       "      <td>0</td>\n",
       "      <td>NaN</td>\n",
       "      <td>wedding ceremony</td>\n",
       "    </tr>\n",
       "    <tr>\n",
       "      <th>21497</th>\n",
       "      <td>0</td>\n",
       "      <td>NaN</td>\n",
       "      <td>48</td>\n",
       "      <td>BACHELOR'S DEGREE</td>\n",
       "      <td>0</td>\n",
       "      <td>married</td>\n",
       "      <td>0</td>\n",
       "      <td>F</td>\n",
       "      <td>business</td>\n",
       "      <td>0</td>\n",
       "      <td>NaN</td>\n",
       "      <td>building a property</td>\n",
       "    </tr>\n",
       "    <tr>\n",
       "      <th>21502</th>\n",
       "      <td>1</td>\n",
       "      <td>NaN</td>\n",
       "      <td>42</td>\n",
       "      <td>secondary education</td>\n",
       "      <td>1</td>\n",
       "      <td>married</td>\n",
       "      <td>0</td>\n",
       "      <td>F</td>\n",
       "      <td>employee</td>\n",
       "      <td>0</td>\n",
       "      <td>NaN</td>\n",
       "      <td>building a real estate</td>\n",
       "    </tr>\n",
       "    <tr>\n",
       "      <th>21510</th>\n",
       "      <td>2</td>\n",
       "      <td>NaN</td>\n",
       "      <td>28</td>\n",
       "      <td>secondary education</td>\n",
       "      <td>1</td>\n",
       "      <td>married</td>\n",
       "      <td>0</td>\n",
       "      <td>F</td>\n",
       "      <td>employee</td>\n",
       "      <td>0</td>\n",
       "      <td>NaN</td>\n",
       "      <td>car purchase</td>\n",
       "    </tr>\n",
       "  </tbody>\n",
       "</table>\n",
       "<p>2174 rows × 12 columns</p>\n",
       "</div>"
      ],
      "text/plain": [
       "       children  days_employed  dob_years            education  education_id  \\\n",
       "12            0            NaN         65  secondary education             1   \n",
       "26            0            NaN         41  secondary education             1   \n",
       "29            0            NaN         63  secondary education             1   \n",
       "41            0            NaN         50  secondary education             1   \n",
       "55            0            NaN         54  secondary education             1   \n",
       "...         ...            ...        ...                  ...           ...   \n",
       "21489         2            NaN         47  Secondary Education             1   \n",
       "21495         1            NaN         50  secondary education             1   \n",
       "21497         0            NaN         48    BACHELOR'S DEGREE             0   \n",
       "21502         1            NaN         42  secondary education             1   \n",
       "21510         2            NaN         28  secondary education             1   \n",
       "\n",
       "           family_status  family_status_id gender    income_type  debt  \\\n",
       "12     civil partnership                 1      M        retiree     0   \n",
       "26               married                 0      M  civil servant     0   \n",
       "29             unmarried                 4      F        retiree     0   \n",
       "41               married                 0      F  civil servant     0   \n",
       "55     civil partnership                 1      F        retiree     1   \n",
       "...                  ...               ...    ...            ...   ...   \n",
       "21489            married                 0      M       business     0   \n",
       "21495  civil partnership                 1      F       employee     0   \n",
       "21497            married                 0      F       business     0   \n",
       "21502            married                 0      F       employee     0   \n",
       "21510            married                 0      F       employee     0   \n",
       "\n",
       "       total_income                   purpose  \n",
       "12              NaN         to have a wedding  \n",
       "26              NaN                 education  \n",
       "29              NaN    building a real estate  \n",
       "41              NaN  second-hand car purchase  \n",
       "55              NaN         to have a wedding  \n",
       "...             ...                       ...  \n",
       "21489           NaN         purchase of a car  \n",
       "21495           NaN          wedding ceremony  \n",
       "21497           NaN       building a property  \n",
       "21502           NaN    building a real estate  \n",
       "21510           NaN              car purchase  \n",
       "\n",
       "[2174 rows x 12 columns]"
      ]
     },
     "execution_count": 9,
     "metadata": {},
     "output_type": "execute_result"
    }
   ],
   "source": [
    "# Mari kita melihat tabel yang telah difilter dengan nilai yang hilang di kolom pertama dengan data yang hilang\n",
    "data.loc[data['days_employed'].isna()]"
   ]
  },
  {
   "cell_type": "markdown",
   "metadata": {},
   "source": [
    "<div class=\"alert alert-block alert-info\">\n",
    "<b>Note.</b> <a class=\"tocSkip\"></a>\n",
    "\n",
    "Berdasarkan hasil pengamatan, <br/>\n",
    "setiap index value days_employed yang hilang terdapat value total income yang hilang.\n",
    "</div>"
   ]
  },
  {
   "cell_type": "code",
   "execution_count": 10,
   "metadata": {},
   "outputs": [
    {
     "name": "stdout",
     "output_type": "stream",
     "text": [
      "(2174, 12)\n"
     ]
    }
   ],
   "source": [
    "# Mari kita menerapkan beberapa persyaratan untuk memfilter data dan melihat jumlah baris dalam tabel yang difilter.\n",
    "data_null = data.loc[(data['days_employed'].isna()) & (data['total_income'].isna())]\n",
    "print(data_null.shape)"
   ]
  },
  {
   "cell_type": "markdown",
   "metadata": {},
   "source": [
    "<div class=\"alert alert-block alert-info\">\n",
    "<b>Note.</b> <a class=\"tocSkip\"></a>\n",
    "\n",
    "Dapat dipastikan kedua kolom yang memiliki data yang hilang berada di baris yang sama.\n",
    "</div>"
   ]
  },
  {
   "cell_type": "code",
   "execution_count": 11,
   "metadata": {},
   "outputs": [
    {
     "name": "stdout",
     "output_type": "stream",
     "text": [
      "10.099883855981417\n"
     ]
    }
   ],
   "source": [
    "print(len(data_null) / len(data)*100)"
   ]
  },
  {
   "cell_type": "markdown",
   "metadata": {},
   "source": [
    "<div class=\"alert alert-block alert-info\">\n",
    "<b>Note.</b> <a class=\"tocSkip\"></a>\n",
    "\n",
    "dataset nilai yang hilang sebesar 10.09%\n",
    "</div>"
   ]
  },
  {
   "cell_type": "markdown",
   "metadata": {},
   "source": [
    "**Kesimpulan menengah**\n",
    "\n",
    "\n",
    "<div class=\"alert alert-block alert-info\">\n",
    "<b>Note</b> <a class=\"tocSkip\"></a>\n",
    "\n",
    "dataset yang hilang terdapat di baris yang sama, sehingga selanjutnya akan dilakukan exploring data seperti mencari pola dan lakukan pengelompokan data untuk manipulasi data yang hilang bila diperlukan.\n",
    "</div>"
   ]
  },
  {
   "cell_type": "code",
   "execution_count": 12,
   "metadata": {},
   "outputs": [
    {
     "data": {
      "text/html": [
       "<div>\n",
       "<style scoped>\n",
       "    .dataframe tbody tr th:only-of-type {\n",
       "        vertical-align: middle;\n",
       "    }\n",
       "\n",
       "    .dataframe tbody tr th {\n",
       "        vertical-align: top;\n",
       "    }\n",
       "\n",
       "    .dataframe thead th {\n",
       "        text-align: right;\n",
       "    }\n",
       "</style>\n",
       "<table border=\"1\" class=\"dataframe\">\n",
       "  <thead>\n",
       "    <tr style=\"text-align: right;\">\n",
       "      <th></th>\n",
       "      <th>children</th>\n",
       "      <th>days_employed</th>\n",
       "      <th>dob_years</th>\n",
       "      <th>education_id</th>\n",
       "      <th>family_status_id</th>\n",
       "      <th>debt</th>\n",
       "      <th>total_income</th>\n",
       "    </tr>\n",
       "  </thead>\n",
       "  <tbody>\n",
       "    <tr>\n",
       "      <th>count</th>\n",
       "      <td>19351.000000</td>\n",
       "      <td>19351.000000</td>\n",
       "      <td>19351.000000</td>\n",
       "      <td>19351.000000</td>\n",
       "      <td>19351.000000</td>\n",
       "      <td>19351.000000</td>\n",
       "      <td>19351.000000</td>\n",
       "    </tr>\n",
       "    <tr>\n",
       "      <th>mean</th>\n",
       "      <td>0.537388</td>\n",
       "      <td>63046.497661</td>\n",
       "      <td>43.255336</td>\n",
       "      <td>0.819079</td>\n",
       "      <td>0.972249</td>\n",
       "      <td>0.081184</td>\n",
       "      <td>26787.568355</td>\n",
       "    </tr>\n",
       "    <tr>\n",
       "      <th>std</th>\n",
       "      <td>1.371408</td>\n",
       "      <td>140827.311974</td>\n",
       "      <td>12.579170</td>\n",
       "      <td>0.550104</td>\n",
       "      <td>1.420596</td>\n",
       "      <td>0.273125</td>\n",
       "      <td>16475.450632</td>\n",
       "    </tr>\n",
       "    <tr>\n",
       "      <th>min</th>\n",
       "      <td>-1.000000</td>\n",
       "      <td>-18388.949901</td>\n",
       "      <td>0.000000</td>\n",
       "      <td>0.000000</td>\n",
       "      <td>0.000000</td>\n",
       "      <td>0.000000</td>\n",
       "      <td>3306.762000</td>\n",
       "    </tr>\n",
       "    <tr>\n",
       "      <th>25%</th>\n",
       "      <td>0.000000</td>\n",
       "      <td>-2747.423625</td>\n",
       "      <td>33.000000</td>\n",
       "      <td>1.000000</td>\n",
       "      <td>0.000000</td>\n",
       "      <td>0.000000</td>\n",
       "      <td>16488.504500</td>\n",
       "    </tr>\n",
       "    <tr>\n",
       "      <th>50%</th>\n",
       "      <td>0.000000</td>\n",
       "      <td>-1203.369529</td>\n",
       "      <td>42.000000</td>\n",
       "      <td>1.000000</td>\n",
       "      <td>0.000000</td>\n",
       "      <td>0.000000</td>\n",
       "      <td>23202.870000</td>\n",
       "    </tr>\n",
       "    <tr>\n",
       "      <th>75%</th>\n",
       "      <td>1.000000</td>\n",
       "      <td>-291.095954</td>\n",
       "      <td>53.000000</td>\n",
       "      <td>1.000000</td>\n",
       "      <td>1.000000</td>\n",
       "      <td>0.000000</td>\n",
       "      <td>32549.611000</td>\n",
       "    </tr>\n",
       "    <tr>\n",
       "      <th>max</th>\n",
       "      <td>20.000000</td>\n",
       "      <td>401755.400475</td>\n",
       "      <td>75.000000</td>\n",
       "      <td>4.000000</td>\n",
       "      <td>4.000000</td>\n",
       "      <td>1.000000</td>\n",
       "      <td>362496.645000</td>\n",
       "    </tr>\n",
       "  </tbody>\n",
       "</table>\n",
       "</div>"
      ],
      "text/plain": [
       "           children  days_employed     dob_years  education_id  \\\n",
       "count  19351.000000   19351.000000  19351.000000  19351.000000   \n",
       "mean       0.537388   63046.497661     43.255336      0.819079   \n",
       "std        1.371408  140827.311974     12.579170      0.550104   \n",
       "min       -1.000000  -18388.949901      0.000000      0.000000   \n",
       "25%        0.000000   -2747.423625     33.000000      1.000000   \n",
       "50%        0.000000   -1203.369529     42.000000      1.000000   \n",
       "75%        1.000000    -291.095954     53.000000      1.000000   \n",
       "max       20.000000  401755.400475     75.000000      4.000000   \n",
       "\n",
       "       family_status_id          debt   total_income  \n",
       "count      19351.000000  19351.000000   19351.000000  \n",
       "mean           0.972249      0.081184   26787.568355  \n",
       "std            1.420596      0.273125   16475.450632  \n",
       "min            0.000000      0.000000    3306.762000  \n",
       "25%            0.000000      0.000000   16488.504500  \n",
       "50%            0.000000      0.000000   23202.870000  \n",
       "75%            1.000000      0.000000   32549.611000  \n",
       "max            4.000000      1.000000  362496.645000  "
      ]
     },
     "execution_count": 12,
     "metadata": {},
     "output_type": "execute_result"
    }
   ],
   "source": [
    "# Mari kita memeriksa klien yang tidak memiliki data tentang karakteristik yang teridentifikasi dan kolom dengan nilai yang hilang\n",
    "data_clean = data.loc[~(data['days_employed'].isna()) & ~(data['total_income'].isna())]\n",
    "data_clean.describe()"
   ]
  },
  {
   "cell_type": "code",
   "execution_count": 13,
   "metadata": {},
   "outputs": [
    {
     "data": {
      "text/html": [
       "<div>\n",
       "<style scoped>\n",
       "    .dataframe tbody tr th:only-of-type {\n",
       "        vertical-align: middle;\n",
       "    }\n",
       "\n",
       "    .dataframe tbody tr th {\n",
       "        vertical-align: top;\n",
       "    }\n",
       "\n",
       "    .dataframe thead th {\n",
       "        text-align: right;\n",
       "    }\n",
       "</style>\n",
       "<table border=\"1\" class=\"dataframe\">\n",
       "  <thead>\n",
       "    <tr style=\"text-align: right;\">\n",
       "      <th></th>\n",
       "      <th>children</th>\n",
       "      <th>days_employed</th>\n",
       "      <th>dob_years</th>\n",
       "      <th>education_id</th>\n",
       "      <th>family_status_id</th>\n",
       "      <th>debt</th>\n",
       "      <th>total_income</th>\n",
       "    </tr>\n",
       "  </thead>\n",
       "  <tbody>\n",
       "    <tr>\n",
       "      <th>count</th>\n",
       "      <td>21525.000000</td>\n",
       "      <td>19351.000000</td>\n",
       "      <td>21525.000000</td>\n",
       "      <td>21525.000000</td>\n",
       "      <td>21525.000000</td>\n",
       "      <td>21525.000000</td>\n",
       "      <td>19351.000000</td>\n",
       "    </tr>\n",
       "    <tr>\n",
       "      <th>mean</th>\n",
       "      <td>0.538908</td>\n",
       "      <td>63046.497661</td>\n",
       "      <td>43.293380</td>\n",
       "      <td>0.817236</td>\n",
       "      <td>0.972544</td>\n",
       "      <td>0.080883</td>\n",
       "      <td>26787.568355</td>\n",
       "    </tr>\n",
       "    <tr>\n",
       "      <th>std</th>\n",
       "      <td>1.381587</td>\n",
       "      <td>140827.311974</td>\n",
       "      <td>12.574584</td>\n",
       "      <td>0.548138</td>\n",
       "      <td>1.420324</td>\n",
       "      <td>0.272661</td>\n",
       "      <td>16475.450632</td>\n",
       "    </tr>\n",
       "    <tr>\n",
       "      <th>min</th>\n",
       "      <td>-1.000000</td>\n",
       "      <td>-18388.949901</td>\n",
       "      <td>0.000000</td>\n",
       "      <td>0.000000</td>\n",
       "      <td>0.000000</td>\n",
       "      <td>0.000000</td>\n",
       "      <td>3306.762000</td>\n",
       "    </tr>\n",
       "    <tr>\n",
       "      <th>25%</th>\n",
       "      <td>0.000000</td>\n",
       "      <td>-2747.423625</td>\n",
       "      <td>33.000000</td>\n",
       "      <td>1.000000</td>\n",
       "      <td>0.000000</td>\n",
       "      <td>0.000000</td>\n",
       "      <td>16488.504500</td>\n",
       "    </tr>\n",
       "    <tr>\n",
       "      <th>50%</th>\n",
       "      <td>0.000000</td>\n",
       "      <td>-1203.369529</td>\n",
       "      <td>42.000000</td>\n",
       "      <td>1.000000</td>\n",
       "      <td>0.000000</td>\n",
       "      <td>0.000000</td>\n",
       "      <td>23202.870000</td>\n",
       "    </tr>\n",
       "    <tr>\n",
       "      <th>75%</th>\n",
       "      <td>1.000000</td>\n",
       "      <td>-291.095954</td>\n",
       "      <td>53.000000</td>\n",
       "      <td>1.000000</td>\n",
       "      <td>1.000000</td>\n",
       "      <td>0.000000</td>\n",
       "      <td>32549.611000</td>\n",
       "    </tr>\n",
       "    <tr>\n",
       "      <th>max</th>\n",
       "      <td>20.000000</td>\n",
       "      <td>401755.400475</td>\n",
       "      <td>75.000000</td>\n",
       "      <td>4.000000</td>\n",
       "      <td>4.000000</td>\n",
       "      <td>1.000000</td>\n",
       "      <td>362496.645000</td>\n",
       "    </tr>\n",
       "  </tbody>\n",
       "</table>\n",
       "</div>"
      ],
      "text/plain": [
       "           children  days_employed     dob_years  education_id  \\\n",
       "count  21525.000000   19351.000000  21525.000000  21525.000000   \n",
       "mean       0.538908   63046.497661     43.293380      0.817236   \n",
       "std        1.381587  140827.311974     12.574584      0.548138   \n",
       "min       -1.000000  -18388.949901      0.000000      0.000000   \n",
       "25%        0.000000   -2747.423625     33.000000      1.000000   \n",
       "50%        0.000000   -1203.369529     42.000000      1.000000   \n",
       "75%        1.000000    -291.095954     53.000000      1.000000   \n",
       "max       20.000000  401755.400475     75.000000      4.000000   \n",
       "\n",
       "       family_status_id          debt   total_income  \n",
       "count      21525.000000  21525.000000   19351.000000  \n",
       "mean           0.972544      0.080883   26787.568355  \n",
       "std            1.420324      0.272661   16475.450632  \n",
       "min            0.000000      0.000000    3306.762000  \n",
       "25%            0.000000      0.000000   16488.504500  \n",
       "50%            0.000000      0.000000   23202.870000  \n",
       "75%            1.000000      0.000000   32549.611000  \n",
       "max            4.000000      1.000000  362496.645000  "
      ]
     },
     "execution_count": 13,
     "metadata": {},
     "output_type": "execute_result"
    }
   ],
   "source": [
    "# Memeriksa distribusi\n",
    "data.describe()"
   ]
  },
  {
   "cell_type": "markdown",
   "metadata": {},
   "source": [
    "<div class=\"alert alert-block alert-info\">\n",
    "<b>Note</b> <a class=\"tocSkip\"></a>\n",
    "\n",
    "Sejauh ini tidak ditemukan perbedaan yang signifikan antara perbandingan data 'dengan dan tanpa' nilai yang hilang\n",
    "    \n",
    "Dugaan sementara, \n",
    "- Nilai yang hilang terjadi karena beberapa pelanggan yang enggan konfirmasi lama bekerja dan income karena harus menyertakan bukti lampiran dari tempat kerja terkait dan setelah mendapatkan bukti tersebut pelanggan lakukan input ulang.\n",
    "- proses input nilai yang hilang dihold dan menunggu konfirmasi selanjutnya dari nasabah.\n",
    "penanggulangan data tersebut dapat dilakukan pengecekan data duplikat dan melakukan pengkategorian untuk hasil yang lebih akurat.\n",
    "    \n",
    "Namun sebelum penanggulanggan dilakukan, kita akan melakukan exploring pattern dengan dataset lainnya.\n",
    "</div>"
   ]
  },
  {
   "cell_type": "code",
   "execution_count": 14,
   "metadata": {},
   "outputs": [
    {
     "name": "stdout",
     "output_type": "stream",
     "text": [
      "debt\n",
      "0    2004\n",
      "1     170\n",
      "Name: count, dtype: int64\n"
     ]
    }
   ],
   "source": [
    "# Periksa penyebab dan pola lain yang dapat mengakibatkan nilai yang hilang\n",
    "print(data_null['debt'].value_counts())"
   ]
  },
  {
   "cell_type": "markdown",
   "metadata": {},
   "source": [
    "**Kesimpulan menengah**\n",
    "\n",
    "<div class=\"alert alert-block alert-info\">\n",
    "<b>Note.</b> <a class=\"tocSkip\"></a>\n",
    "    \n",
    "Tidak terdapat pola terhadap riwayat nasabah pernah gagal melunasi pinjaman atau tidak.\n",
    "</div>"
   ]
  },
  {
   "cell_type": "code",
   "execution_count": 15,
   "metadata": {
    "scrolled": true
   },
   "outputs": [
    {
     "name": "stdout",
     "output_type": "stream",
     "text": [
      "family_status_id\n",
      "family_status_id\n",
      "0    1237\n",
      "1     442\n",
      "4     288\n",
      "3     112\n",
      "2      95\n",
      "Name: count, dtype: int64\n",
      "\n",
      "education_id\n",
      "education_id\n",
      "1    1540\n",
      "0     544\n",
      "2      69\n",
      "3      21\n",
      "Name: count, dtype: int64\n",
      "\n",
      "gender\n",
      "gender\n",
      "F    1484\n",
      "M     690\n",
      "Name: count, dtype: int64\n",
      "\n",
      "children\n",
      "children\n",
      " 0     1439\n",
      " 1      475\n",
      " 2      204\n",
      " 3       36\n",
      " 20       9\n",
      " 4        7\n",
      "-1        3\n",
      " 5        1\n",
      "Name: count, dtype: int64\n",
      "\n"
     ]
    }
   ],
   "source": [
    "# Memeriksa pola lainnya - jelaskan pola tersebut\n",
    "pattern_exploring = ['family_status_id', 'education_id', 'gender', 'children']\n",
    "for column in pattern_exploring:\n",
    "    print(column)\n",
    "    print(data_null[column].value_counts())\n",
    "    print()"
   ]
  },
  {
   "cell_type": "markdown",
   "metadata": {},
   "source": [
    "**Kesimpulan**\n",
    "\n",
    "<div class=\"alert alert-block alert-info\">\n",
    "<b>Note</b> <a class=\"tocSkip\"></a>\n",
    "\n",
    "Tidak ditemukan pola pada kolom lainnya.\n",
    "\n",
    "Karena tidak ditemukannya pola pada data format data yang hilang. sehingga selanjutnya penanggulangan data yang hilang akan dilakukan yaitu:\n",
    "- Melakukan pengecekan duplikat data\n",
    "- Melakukan pengkategorian data\n",
    "    \n",
    "</div>"
   ]
  },
  {
   "cell_type": "markdown",
   "metadata": {},
   "source": [
    "## Transformasi data"
   ]
  },
  {
   "cell_type": "code",
   "execution_count": 16,
   "metadata": {},
   "outputs": [
    {
     "name": "stdout",
     "output_type": "stream",
     "text": [
      "education\n",
      "secondary education    13750\n",
      "bachelor's degree       4718\n",
      "SECONDARY EDUCATION      772\n",
      "Secondary Education      711\n",
      "some college             668\n",
      "BACHELOR'S DEGREE        274\n",
      "Bachelor's Degree        268\n",
      "primary education        250\n",
      "Some College              47\n",
      "SOME COLLEGE              29\n",
      "PRIMARY EDUCATION         17\n",
      "Primary Education         15\n",
      "graduate degree            4\n",
      "Graduate Degree            1\n",
      "GRADUATE DEGREE            1\n",
      "Name: count, dtype: int64\n"
     ]
    }
   ],
   "source": [
    "# Mari kita lihat semua nilai di kolom pendidikan untuk memeriksa ejaan apa yang perlu diperbaiki\n",
    "print(data['education'].value_counts())"
   ]
  },
  {
   "cell_type": "code",
   "execution_count": 17,
   "metadata": {
    "scrolled": true
   },
   "outputs": [],
   "source": [
    "# Perbaiki register\n",
    "data['education'] = data['education'].str.lower()"
   ]
  },
  {
   "cell_type": "code",
   "execution_count": 18,
   "metadata": {},
   "outputs": [
    {
     "name": "stdout",
     "output_type": "stream",
     "text": [
      "education\n",
      "secondary education    15233\n",
      "bachelor's degree       5260\n",
      "some college             744\n",
      "primary education        282\n",
      "graduate degree            6\n",
      "Name: count, dtype: int64\n"
     ]
    }
   ],
   "source": [
    "# Memeriksa semua nilai di kolom untuk memastikan kita telah memperbaikinya\n",
    "print(data['education'].value_counts())"
   ]
  },
  {
   "cell_type": "code",
   "execution_count": 19,
   "metadata": {},
   "outputs": [
    {
     "name": "stdout",
     "output_type": "stream",
     "text": [
      "count    21525.000000\n",
      "mean         0.538908\n",
      "std          1.381587\n",
      "min         -1.000000\n",
      "25%          0.000000\n",
      "50%          0.000000\n",
      "75%          1.000000\n",
      "max         20.000000\n",
      "Name: children, dtype: float64\n",
      "\n",
      "children\n",
      " 0     14149\n",
      " 1      4818\n",
      " 2      2055\n",
      " 3       330\n",
      " 20       76\n",
      "-1        47\n",
      " 4        41\n",
      " 5         9\n",
      "Name: count, dtype: int64\n"
     ]
    }
   ],
   "source": [
    "# Mari kita lihat distribusi nilai pada kolom `children`\n",
    "print(data['children'].describe())\n",
    "print()\n",
    "print(data['children'].value_counts())"
   ]
  },
  {
   "cell_type": "markdown",
   "metadata": {},
   "source": [
    "<div class=\"alert alert-block alert-info\">\n",
    "<b>Note.</b> <a class=\"tocSkip\"></a>\n",
    "\n",
    "Terdapat hal aneh pada kolom 'children' yaitu pada Value -1 dan 20. kemungkinan besar terdapat typo penulisan value tersebut. dan solusinya akan diperbaiki dengan nilai yang mendekati yaitu :\n",
    "- Value -1 menjadi 1\n",
    "- Value 20 menjadi 2\n",
    "    \n",
    "</div>"
   ]
  },
  {
   "cell_type": "code",
   "execution_count": 20,
   "metadata": {},
   "outputs": [],
   "source": [
    "# [perbaiki data berdasarkan keputusan Anda]\n",
    "data.loc[data['children'] == -1, 'children'] = 1\n",
    "data.loc[data['children'] == 20, 'children'] = 2"
   ]
  },
  {
   "cell_type": "code",
   "execution_count": 21,
   "metadata": {},
   "outputs": [
    {
     "data": {
      "text/plain": [
       "children\n",
       "0    14149\n",
       "1     4865\n",
       "2     2131\n",
       "3      330\n",
       "4       41\n",
       "5        9\n",
       "Name: count, dtype: int64"
      ]
     },
     "execution_count": 21,
     "metadata": {},
     "output_type": "execute_result"
    }
   ],
   "source": [
    "# Periksa kembali kolom `children` untuk memastikan semua telah diperbaiki\n",
    "data['children'].value_counts()"
   ]
  },
  {
   "cell_type": "code",
   "execution_count": 22,
   "metadata": {},
   "outputs": [
    {
     "name": "stdout",
     "output_type": "stream",
     "text": [
      "0.7389547038327526\n"
     ]
    }
   ],
   "source": [
    "# Temukan data yang bermasalah di `days_employed`, jika terdapat masalah, dan hitung persentasenya\n",
    "print(len(data[data['days_employed'] < 0]) / len(data))"
   ]
  },
  {
   "cell_type": "markdown",
   "metadata": {},
   "source": [
    "<div class=\"alert alert-block alert-info\">\n",
    "<b>Note.</b> <a class=\"tocSkip\"></a>\n",
    "\n",
    "Persentase nilai negatif pada data days_employed mencapai 73.89% yang merupakan nilai yang tinggi\n",
    "    \n",
    "</div>"
   ]
  },
  {
   "cell_type": "code",
   "execution_count": 23,
   "metadata": {},
   "outputs": [
    {
     "name": "stdout",
     "output_type": "stream",
     "text": [
      "0.16004645760743322\n"
     ]
    }
   ],
   "source": [
    "print (len(data[data['days_employed'] > 36500]) / len(data))"
   ]
  },
  {
   "cell_type": "markdown",
   "metadata": {},
   "source": [
    "<div class=\"alert alert-block alert-info\">\n",
    "<b>Note.</b> <a class=\"tocSkip\"></a>\n",
    "\n",
    "Persentase nilai yang melebihi 36500 Days atau 100 Tahun pada data days_employed mencapai 16% dari data\n",
    "    \n",
    "</div>"
   ]
  },
  {
   "cell_type": "markdown",
   "metadata": {},
   "source": [
    "<div class=\"alert alert-block alert-info\">\n",
    "<b>Note.</b> <a class=\"tocSkip\"></a>\n",
    "\n",
    "Penanggulangan atas data tersebut yaitu :\n",
    "1. Untuk nilai negatif akan dijadikan nilai yang positif.\n",
    "2. Untuk nilai yang kurang masuk akal seperti lama bekerja lebih dari 100 Tahun akan dilakukan replace dengan nilai yang lebih masuk akal dengan metode:\n",
    "- Melakukan convert hari menjadi tahun pada kolom baru dengan nama kolom ['experience']\n",
    "- Melakukan perbandingan antara usia nasabah ['dob_years'] dengan ['experience'] dengan metode usia nasabah dikurangi dengan lama bekerja sehingga mendapatkan nilai mulai kerja nasabah ['start_career']  \n",
    "- Melakukan perubahan untuk nilai mulai nasabah bekerja yang kurang dari 16 Tahun dan dimanipulasi menjadi 16 tahun, dengan alasan sebagian besar nasabah memiliki pendidikan akhir 'secondary education'. yang artinya lulus diusia 16 tahun dengan asumsi nasabah langsung bekerja setelah lulus.\n",
    "</div>"
   ]
  },
  {
   "cell_type": "code",
   "execution_count": 24,
   "metadata": {},
   "outputs": [],
   "source": [
    "# Atasi nilai yang bermasalah, jika ada\n",
    "data['days_employed'] = data['days_employed'].abs()"
   ]
  },
  {
   "cell_type": "markdown",
   "metadata": {},
   "source": [
    "<div class=\"alert alert-block alert-info\">\n",
    "<b>Note.</b> <a class=\"tocSkip\"></a>\n",
    "\n",
    "Melakukan perubahan nilai negatif menjadi nilai positif\n"
   ]
  },
  {
   "cell_type": "code",
   "execution_count": 25,
   "metadata": {},
   "outputs": [],
   "source": [
    "data['experience'] = round(data['days_employed'] / 365, 0)"
   ]
  },
  {
   "cell_type": "markdown",
   "metadata": {},
   "source": [
    "<div class=\"alert alert-block alert-info\">\n",
    "<b>Note.</b> <a class=\"tocSkip\"></a>\n",
    "\n",
    "Melakukan convert hari menjadi tahun."
   ]
  },
  {
   "cell_type": "code",
   "execution_count": 26,
   "metadata": {},
   "outputs": [],
   "source": [
    "data['start_career'] = data['dob_years'] - data['experience']"
   ]
  },
  {
   "cell_type": "markdown",
   "metadata": {},
   "source": [
    "<div class=\"alert alert-block alert-info\">\n",
    "<b>Note.</b> <a class=\"tocSkip\"></a>\n",
    "\n",
    "Melakukan perbandingan antara usia nasabah ['dob_years'] dengan ['experience']"
   ]
  },
  {
   "cell_type": "code",
   "execution_count": 27,
   "metadata": {},
   "outputs": [],
   "source": [
    "data.loc[data['start_career'] <= 16, 'days_employed'] = 2190.0"
   ]
  },
  {
   "cell_type": "markdown",
   "metadata": {},
   "source": [
    "<div class=\"alert alert-block alert-info\">\n",
    "<b>Note.</b> <a class=\"tocSkip\"></a>\n",
    "\n",
    "Melakukan manipulasi untuk nilai mulai nasabah bekerja yang kurang dari 16 Tahun."
   ]
  },
  {
   "cell_type": "code",
   "execution_count": 28,
   "metadata": {},
   "outputs": [
    {
     "name": "stdout",
     "output_type": "stream",
     "text": [
      "0    8437.673028\n",
      "1    4024.803754\n",
      "2    5623.422610\n",
      "3    4124.747207\n",
      "4    2190.000000\n",
      "5     926.185831\n",
      "6    2879.202052\n",
      "7     152.779569\n",
      "8    2190.000000\n",
      "9    2188.756445\n",
      "Name: days_employed, dtype: float64\n"
     ]
    }
   ],
   "source": [
    "# Periksa hasilnya - pastikan telah diperbaiki\n",
    "print(data['days_employed'].head(10))"
   ]
  },
  {
   "cell_type": "markdown",
   "metadata": {},
   "source": [
    "<div class=\"alert alert-block alert-info\">\n",
    "<b>Note.</b> <a class=\"tocSkip\"></a>\n",
    "\n",
    "Data jauh lebih baik dibanding sebelumnya."
   ]
  },
  {
   "cell_type": "code",
   "execution_count": 29,
   "metadata": {
    "scrolled": false
   },
   "outputs": [
    {
     "name": "stdout",
     "output_type": "stream",
     "text": [
      "[42 36 33 32 53 27 43 50 35 41 40 65 54 56 26 48 24 21 57 67 28 63 62 47\n",
      " 34 68 25 31 30 20 49 37 45 61 64 44 52 46 23 38 39 51  0 59 29 60 55 58\n",
      " 71 22 73 66 69 19 72 70 74 75]\n"
     ]
    }
   ],
   "source": [
    "# Periksa `dob_years` untuk nilai yang mencurigakan dan hitung persentasenya\n",
    "print(data['dob_years'].unique())"
   ]
  },
  {
   "cell_type": "code",
   "execution_count": 30,
   "metadata": {},
   "outputs": [
    {
     "name": "stdout",
     "output_type": "stream",
     "text": [
      "0.004692218350754936\n"
     ]
    }
   ],
   "source": [
    "print(len(data.loc[data['dob_years'] == 0]) / len(data))"
   ]
  },
  {
   "cell_type": "markdown",
   "metadata": {},
   "source": [
    "<div class=\"alert alert-block alert-info\">\n",
    "<b>Note.</b> <a class=\"tocSkip\"></a>\n",
    " \n",
    "Terdapat nilai yang berisi 0 pada data dengan persentase 0.4% dari data. Solusinya data tersebut akan dimanipulasi dengan nilai median."
   ]
  },
  {
   "cell_type": "code",
   "execution_count": 31,
   "metadata": {},
   "outputs": [
    {
     "data": {
      "text/plain": [
       "42.0"
      ]
     },
     "execution_count": 31,
     "metadata": {},
     "output_type": "execute_result"
    }
   ],
   "source": [
    "# Atasi masalah pada kolom `dob_years`, jika terdapat masalah\n",
    "data['dob_years'].median()"
   ]
  },
  {
   "cell_type": "code",
   "execution_count": 32,
   "metadata": {},
   "outputs": [],
   "source": [
    "data.loc[data['dob_years'] == 0, 'dob_years'] = 42"
   ]
  },
  {
   "cell_type": "code",
   "execution_count": 33,
   "metadata": {},
   "outputs": [
    {
     "name": "stdout",
     "output_type": "stream",
     "text": [
      "[42 36 33 32 53 27 43 50 35 41 40 65 54 56 26 48 24 21 57 67 28 63 62 47\n",
      " 34 68 25 31 30 20 49 37 45 61 64 44 52 46 23 38 39 51 59 29 60 55 58 71\n",
      " 22 73 66 69 19 72 70 74 75]\n"
     ]
    }
   ],
   "source": [
    "# Periksa hasilnya - pastikan telah diperbaiki\n",
    "print(data['dob_years'].unique())"
   ]
  },
  {
   "cell_type": "code",
   "execution_count": 34,
   "metadata": {},
   "outputs": [
    {
     "data": {
      "text/plain": [
       "family_status\n",
       "married              12380\n",
       "civil partnership     4177\n",
       "unmarried             2813\n",
       "divorced              1195\n",
       "widow / widower        960\n",
       "Name: count, dtype: int64"
      ]
     },
     "execution_count": 34,
     "metadata": {},
     "output_type": "execute_result"
    }
   ],
   "source": [
    "# Mari kita lihat nilai untuk kolom\n",
    "data['family_status'].value_counts()"
   ]
  },
  {
   "cell_type": "markdown",
   "metadata": {},
   "source": [
    "<div class=\"alert alert-block alert-info\">\n",
    "<b>Note.</b> <a class=\"tocSkip\"></a>\n",
    "\n",
    "Tidak terdapat masalah pada kolom family_status"
   ]
  },
  {
   "cell_type": "code",
   "execution_count": 35,
   "metadata": {},
   "outputs": [
    {
     "data": {
      "text/plain": [
       "gender\n",
       "F      14236\n",
       "M       7288\n",
       "XNA        1\n",
       "Name: count, dtype: int64"
      ]
     },
     "execution_count": 35,
     "metadata": {},
     "output_type": "execute_result"
    }
   ],
   "source": [
    "# Mari kita melihat nilainya di kolom\n",
    "data['gender'].value_counts()\n"
   ]
  },
  {
   "cell_type": "code",
   "execution_count": 36,
   "metadata": {},
   "outputs": [
    {
     "data": {
      "text/html": [
       "<div>\n",
       "<style scoped>\n",
       "    .dataframe tbody tr th:only-of-type {\n",
       "        vertical-align: middle;\n",
       "    }\n",
       "\n",
       "    .dataframe tbody tr th {\n",
       "        vertical-align: top;\n",
       "    }\n",
       "\n",
       "    .dataframe thead th {\n",
       "        text-align: right;\n",
       "    }\n",
       "</style>\n",
       "<table border=\"1\" class=\"dataframe\">\n",
       "  <thead>\n",
       "    <tr style=\"text-align: right;\">\n",
       "      <th></th>\n",
       "      <th>children</th>\n",
       "      <th>days_employed</th>\n",
       "      <th>dob_years</th>\n",
       "      <th>education</th>\n",
       "      <th>education_id</th>\n",
       "      <th>family_status</th>\n",
       "      <th>family_status_id</th>\n",
       "      <th>gender</th>\n",
       "      <th>income_type</th>\n",
       "      <th>debt</th>\n",
       "      <th>total_income</th>\n",
       "      <th>purpose</th>\n",
       "      <th>experience</th>\n",
       "      <th>start_career</th>\n",
       "    </tr>\n",
       "  </thead>\n",
       "  <tbody>\n",
       "    <tr>\n",
       "      <th>10701</th>\n",
       "      <td>0</td>\n",
       "      <td>2358.600502</td>\n",
       "      <td>24</td>\n",
       "      <td>some college</td>\n",
       "      <td>2</td>\n",
       "      <td>civil partnership</td>\n",
       "      <td>1</td>\n",
       "      <td>XNA</td>\n",
       "      <td>business</td>\n",
       "      <td>0</td>\n",
       "      <td>32624.825</td>\n",
       "      <td>buy real estate</td>\n",
       "      <td>6.0</td>\n",
       "      <td>18.0</td>\n",
       "    </tr>\n",
       "  </tbody>\n",
       "</table>\n",
       "</div>"
      ],
      "text/plain": [
       "       children  days_employed  dob_years     education  education_id  \\\n",
       "10701         0    2358.600502         24  some college             2   \n",
       "\n",
       "           family_status  family_status_id gender income_type  debt  \\\n",
       "10701  civil partnership                 1    XNA    business     0   \n",
       "\n",
       "       total_income          purpose  experience  start_career  \n",
       "10701     32624.825  buy real estate         6.0          18.0  "
      ]
     },
     "execution_count": 36,
     "metadata": {},
     "output_type": "execute_result"
    }
   ],
   "source": [
    "data.loc[data['gender'] == 'XNA']"
   ]
  },
  {
   "cell_type": "markdown",
   "metadata": {},
   "source": [
    "<div class=\"alert alert-block alert-info\">\n",
    "<b>Noted.</b> <a class=\"tocSkip\"></a>\n",
    "    \n",
    "Terdapat 1 value yang memiliki nilai string 'XNA', Solusinya akan diubah menjadi nilai rata-rata pada kolom tersebut."
   ]
  },
  {
   "cell_type": "code",
   "execution_count": 37,
   "metadata": {},
   "outputs": [],
   "source": [
    "# Atasi nilai-nilai yang bermasalah\n",
    "data.loc[data['gender'] == 'XNA', 'gender'] = 'F'"
   ]
  },
  {
   "cell_type": "code",
   "execution_count": 38,
   "metadata": {},
   "outputs": [
    {
     "data": {
      "text/plain": [
       "gender\n",
       "F    14237\n",
       "M     7288\n",
       "Name: count, dtype: int64"
      ]
     },
     "execution_count": 38,
     "metadata": {},
     "output_type": "execute_result"
    }
   ],
   "source": [
    "# Periksa hasilnya - pastikan telah diperbaiki\n",
    "data['gender'].value_counts()"
   ]
  },
  {
   "cell_type": "code",
   "execution_count": 39,
   "metadata": {},
   "outputs": [
    {
     "data": {
      "text/plain": [
       "income_type\n",
       "employee                       11119\n",
       "business                        5085\n",
       "retiree                         3856\n",
       "civil servant                   1459\n",
       "unemployed                         2\n",
       "entrepreneur                       2\n",
       "student                            1\n",
       "paternity / maternity leave        1\n",
       "Name: count, dtype: int64"
      ]
     },
     "execution_count": 39,
     "metadata": {},
     "output_type": "execute_result"
    }
   ],
   "source": [
    "# Mari kita lihat nilai dalam kolom\n",
    "data['income_type'].value_counts()"
   ]
  },
  {
   "cell_type": "markdown",
   "metadata": {},
   "source": [
    "<div class=\"alert alert-block alert-info\">\n",
    "<b>Note.</b> <a class=\"tocSkip\"></a>\n",
    "\n",
    "Tidak terdapat masalah pada kolom income type"
   ]
  },
  {
   "cell_type": "code",
   "execution_count": 41,
   "metadata": {
    "scrolled": true
   },
   "outputs": [
    {
     "data": {
      "text/plain": [
       "72"
      ]
     },
     "execution_count": 41,
     "metadata": {},
     "output_type": "execute_result"
    }
   ],
   "source": [
    "# Memeriksa duplikat\n",
    "data.duplicated().sum()"
   ]
  },
  {
   "cell_type": "code",
   "execution_count": 42,
   "metadata": {},
   "outputs": [
    {
     "data": {
      "text/html": [
       "<div>\n",
       "<style scoped>\n",
       "    .dataframe tbody tr th:only-of-type {\n",
       "        vertical-align: middle;\n",
       "    }\n",
       "\n",
       "    .dataframe tbody tr th {\n",
       "        vertical-align: top;\n",
       "    }\n",
       "\n",
       "    .dataframe thead th {\n",
       "        text-align: right;\n",
       "    }\n",
       "</style>\n",
       "<table border=\"1\" class=\"dataframe\">\n",
       "  <thead>\n",
       "    <tr style=\"text-align: right;\">\n",
       "      <th></th>\n",
       "      <th>children</th>\n",
       "      <th>days_employed</th>\n",
       "      <th>dob_years</th>\n",
       "      <th>education</th>\n",
       "      <th>education_id</th>\n",
       "      <th>family_status</th>\n",
       "      <th>family_status_id</th>\n",
       "      <th>gender</th>\n",
       "      <th>income_type</th>\n",
       "      <th>debt</th>\n",
       "      <th>total_income</th>\n",
       "      <th>purpose</th>\n",
       "      <th>experience</th>\n",
       "      <th>start_career</th>\n",
       "    </tr>\n",
       "  </thead>\n",
       "  <tbody>\n",
       "    <tr>\n",
       "      <th>2849</th>\n",
       "      <td>0</td>\n",
       "      <td>NaN</td>\n",
       "      <td>41</td>\n",
       "      <td>secondary education</td>\n",
       "      <td>1</td>\n",
       "      <td>married</td>\n",
       "      <td>0</td>\n",
       "      <td>F</td>\n",
       "      <td>employee</td>\n",
       "      <td>0</td>\n",
       "      <td>NaN</td>\n",
       "      <td>purchase of the house for my family</td>\n",
       "      <td>NaN</td>\n",
       "      <td>NaN</td>\n",
       "    </tr>\n",
       "    <tr>\n",
       "      <th>3290</th>\n",
       "      <td>0</td>\n",
       "      <td>NaN</td>\n",
       "      <td>58</td>\n",
       "      <td>secondary education</td>\n",
       "      <td>1</td>\n",
       "      <td>civil partnership</td>\n",
       "      <td>1</td>\n",
       "      <td>F</td>\n",
       "      <td>retiree</td>\n",
       "      <td>0</td>\n",
       "      <td>NaN</td>\n",
       "      <td>to have a wedding</td>\n",
       "      <td>NaN</td>\n",
       "      <td>NaN</td>\n",
       "    </tr>\n",
       "    <tr>\n",
       "      <th>4182</th>\n",
       "      <td>1</td>\n",
       "      <td>NaN</td>\n",
       "      <td>34</td>\n",
       "      <td>bachelor's degree</td>\n",
       "      <td>0</td>\n",
       "      <td>civil partnership</td>\n",
       "      <td>1</td>\n",
       "      <td>F</td>\n",
       "      <td>employee</td>\n",
       "      <td>0</td>\n",
       "      <td>NaN</td>\n",
       "      <td>wedding ceremony</td>\n",
       "      <td>NaN</td>\n",
       "      <td>NaN</td>\n",
       "    </tr>\n",
       "    <tr>\n",
       "      <th>4851</th>\n",
       "      <td>0</td>\n",
       "      <td>NaN</td>\n",
       "      <td>60</td>\n",
       "      <td>secondary education</td>\n",
       "      <td>1</td>\n",
       "      <td>civil partnership</td>\n",
       "      <td>1</td>\n",
       "      <td>F</td>\n",
       "      <td>retiree</td>\n",
       "      <td>0</td>\n",
       "      <td>NaN</td>\n",
       "      <td>wedding ceremony</td>\n",
       "      <td>NaN</td>\n",
       "      <td>NaN</td>\n",
       "    </tr>\n",
       "    <tr>\n",
       "      <th>5557</th>\n",
       "      <td>0</td>\n",
       "      <td>NaN</td>\n",
       "      <td>58</td>\n",
       "      <td>secondary education</td>\n",
       "      <td>1</td>\n",
       "      <td>civil partnership</td>\n",
       "      <td>1</td>\n",
       "      <td>F</td>\n",
       "      <td>retiree</td>\n",
       "      <td>0</td>\n",
       "      <td>NaN</td>\n",
       "      <td>to have a wedding</td>\n",
       "      <td>NaN</td>\n",
       "      <td>NaN</td>\n",
       "    </tr>\n",
       "    <tr>\n",
       "      <th>6312</th>\n",
       "      <td>0</td>\n",
       "      <td>NaN</td>\n",
       "      <td>30</td>\n",
       "      <td>secondary education</td>\n",
       "      <td>1</td>\n",
       "      <td>married</td>\n",
       "      <td>0</td>\n",
       "      <td>M</td>\n",
       "      <td>employee</td>\n",
       "      <td>0</td>\n",
       "      <td>NaN</td>\n",
       "      <td>building a real estate</td>\n",
       "      <td>NaN</td>\n",
       "      <td>NaN</td>\n",
       "    </tr>\n",
       "    <tr>\n",
       "      <th>7808</th>\n",
       "      <td>0</td>\n",
       "      <td>NaN</td>\n",
       "      <td>57</td>\n",
       "      <td>secondary education</td>\n",
       "      <td>1</td>\n",
       "      <td>civil partnership</td>\n",
       "      <td>1</td>\n",
       "      <td>F</td>\n",
       "      <td>retiree</td>\n",
       "      <td>0</td>\n",
       "      <td>NaN</td>\n",
       "      <td>having a wedding</td>\n",
       "      <td>NaN</td>\n",
       "      <td>NaN</td>\n",
       "    </tr>\n",
       "    <tr>\n",
       "      <th>7921</th>\n",
       "      <td>0</td>\n",
       "      <td>NaN</td>\n",
       "      <td>64</td>\n",
       "      <td>bachelor's degree</td>\n",
       "      <td>0</td>\n",
       "      <td>civil partnership</td>\n",
       "      <td>1</td>\n",
       "      <td>F</td>\n",
       "      <td>retiree</td>\n",
       "      <td>0</td>\n",
       "      <td>NaN</td>\n",
       "      <td>having a wedding</td>\n",
       "      <td>NaN</td>\n",
       "      <td>NaN</td>\n",
       "    </tr>\n",
       "    <tr>\n",
       "      <th>7938</th>\n",
       "      <td>0</td>\n",
       "      <td>NaN</td>\n",
       "      <td>71</td>\n",
       "      <td>secondary education</td>\n",
       "      <td>1</td>\n",
       "      <td>civil partnership</td>\n",
       "      <td>1</td>\n",
       "      <td>F</td>\n",
       "      <td>retiree</td>\n",
       "      <td>0</td>\n",
       "      <td>NaN</td>\n",
       "      <td>having a wedding</td>\n",
       "      <td>NaN</td>\n",
       "      <td>NaN</td>\n",
       "    </tr>\n",
       "    <tr>\n",
       "      <th>8583</th>\n",
       "      <td>0</td>\n",
       "      <td>NaN</td>\n",
       "      <td>58</td>\n",
       "      <td>bachelor's degree</td>\n",
       "      <td>0</td>\n",
       "      <td>unmarried</td>\n",
       "      <td>4</td>\n",
       "      <td>F</td>\n",
       "      <td>retiree</td>\n",
       "      <td>0</td>\n",
       "      <td>NaN</td>\n",
       "      <td>supplementary education</td>\n",
       "      <td>NaN</td>\n",
       "      <td>NaN</td>\n",
       "    </tr>\n",
       "  </tbody>\n",
       "</table>\n",
       "</div>"
      ],
      "text/plain": [
       "      children  days_employed  dob_years            education  education_id  \\\n",
       "2849         0            NaN         41  secondary education             1   \n",
       "3290         0            NaN         58  secondary education             1   \n",
       "4182         1            NaN         34    bachelor's degree             0   \n",
       "4851         0            NaN         60  secondary education             1   \n",
       "5557         0            NaN         58  secondary education             1   \n",
       "6312         0            NaN         30  secondary education             1   \n",
       "7808         0            NaN         57  secondary education             1   \n",
       "7921         0            NaN         64    bachelor's degree             0   \n",
       "7938         0            NaN         71  secondary education             1   \n",
       "8583         0            NaN         58    bachelor's degree             0   \n",
       "\n",
       "          family_status  family_status_id gender income_type  debt  \\\n",
       "2849            married                 0      F    employee     0   \n",
       "3290  civil partnership                 1      F     retiree     0   \n",
       "4182  civil partnership                 1      F    employee     0   \n",
       "4851  civil partnership                 1      F     retiree     0   \n",
       "5557  civil partnership                 1      F     retiree     0   \n",
       "6312            married                 0      M    employee     0   \n",
       "7808  civil partnership                 1      F     retiree     0   \n",
       "7921  civil partnership                 1      F     retiree     0   \n",
       "7938  civil partnership                 1      F     retiree     0   \n",
       "8583          unmarried                 4      F     retiree     0   \n",
       "\n",
       "      total_income                              purpose  experience  \\\n",
       "2849           NaN  purchase of the house for my family         NaN   \n",
       "3290           NaN                    to have a wedding         NaN   \n",
       "4182           NaN                     wedding ceremony         NaN   \n",
       "4851           NaN                     wedding ceremony         NaN   \n",
       "5557           NaN                    to have a wedding         NaN   \n",
       "6312           NaN               building a real estate         NaN   \n",
       "7808           NaN                     having a wedding         NaN   \n",
       "7921           NaN                     having a wedding         NaN   \n",
       "7938           NaN                     having a wedding         NaN   \n",
       "8583           NaN              supplementary education         NaN   \n",
       "\n",
       "      start_career  \n",
       "2849           NaN  \n",
       "3290           NaN  \n",
       "4182           NaN  \n",
       "4851           NaN  \n",
       "5557           NaN  \n",
       "6312           NaN  \n",
       "7808           NaN  \n",
       "7921           NaN  \n",
       "7938           NaN  \n",
       "8583           NaN  "
      ]
     },
     "execution_count": 42,
     "metadata": {},
     "output_type": "execute_result"
    }
   ],
   "source": [
    "data[data.duplicated()].head(10)"
   ]
  },
  {
   "cell_type": "code",
   "execution_count": 43,
   "metadata": {},
   "outputs": [],
   "source": [
    "# Atasi duplikat,\n",
    "data = data.drop_duplicates().reset_index(drop=True)"
   ]
  },
  {
   "cell_type": "code",
   "execution_count": 44,
   "metadata": {},
   "outputs": [
    {
     "data": {
      "text/plain": [
       "0"
      ]
     },
     "execution_count": 44,
     "metadata": {},
     "output_type": "execute_result"
    }
   ],
   "source": [
    "# Memeriksa duplikat\n",
    "data.duplicated().sum()"
   ]
  },
  {
   "cell_type": "code",
   "execution_count": 45,
   "metadata": {},
   "outputs": [
    {
     "data": {
      "text/plain": [
       "(21453, 14)"
      ]
     },
     "execution_count": 45,
     "metadata": {},
     "output_type": "execute_result"
    }
   ],
   "source": [
    "# Periksa ukuran dataset yang sekarang Anda miliki setelah manipulasi pertama yang Anda lakukan\n",
    "data.shape"
   ]
  },
  {
   "cell_type": "markdown",
   "metadata": {},
   "source": [
    "<div class=\"alert alert-block alert-info\">\n",
    "<b>Note.</b> <a class=\"tocSkip\"></a>\n",
    "\n",
    "Terdapat pengurangan jumlah baris data sebanyak 72 baris dengan alasan terdapat data yang terduplikat / ganda dan terdapat penambahan 2 kolom kategori data yaitu :\n",
    "- *`experience`* - Lama nasabah bekerja (tahun)\n",
    "- *`start_career`* - Nasabah mulai bekerja"
   ]
  },
  {
   "cell_type": "markdown",
   "metadata": {},
   "source": [
    "# Bekerja dengan nilai yang hilang"
   ]
  },
  {
   "cell_type": "code",
   "execution_count": 46,
   "metadata": {},
   "outputs": [
    {
     "name": "stdout",
     "output_type": "stream",
     "text": [
      "[42 36 33 32 53 27 43 50 35 41 40 65 54 56 26 48 24 21 57 67 28 63 62 47\n",
      " 34 68 25 31 30 20 49 37 45 61 64 44 52 46 23 38 39 51 59 29 60 55 58 71\n",
      " 22 73 66 69 19 72 70 74 75]\n"
     ]
    }
   ],
   "source": [
    "# Temukan dictionary\n",
    "print(data['dob_years'].unique())"
   ]
  },
  {
   "cell_type": "markdown",
   "metadata": {},
   "source": [
    "<div class=\"alert alert-block alert-info\">\n",
    "<b>Note.</b> <a class=\"tocSkip\"></a>\n",
    "\n",
    "Tidak terdapat masalah pada kolom dob_years"
   ]
  },
  {
   "cell_type": "markdown",
   "metadata": {},
   "source": [
    "### Memperbaiki nilai yang hilang di `total_income`"
   ]
  },
  {
   "cell_type": "code",
   "execution_count": 47,
   "metadata": {},
   "outputs": [],
   "source": [
    "# Mari menulis fungsi untuk menghitung kategori usia\n",
    "def client_age(age):\n",
    "    if age >= 64:\n",
    "        return 'Old Adults'\n",
    "    if 25 <= age <= 63:\n",
    "        return 'Middle-aged Adults'\n",
    "    if age <= 24:\n",
    "        return 'Young Adults'"
   ]
  },
  {
   "cell_type": "code",
   "execution_count": 48,
   "metadata": {},
   "outputs": [
    {
     "name": "stdout",
     "output_type": "stream",
     "text": [
      "Young Adults\n",
      "Middle-aged Adults\n",
      "Old Adults\n"
     ]
    }
   ],
   "source": [
    "# Lakukan pengujian apakah fungsi bekerja atau tidak\n",
    "print(client_age(16))\n",
    "print(client_age(45))\n",
    "print(client_age(64))"
   ]
  },
  {
   "cell_type": "code",
   "execution_count": 49,
   "metadata": {},
   "outputs": [],
   "source": [
    "# Membuat kolom baru berdasarkan fungsi\n",
    "data['dob_years_category'] = data['dob_years'].apply(client_age)"
   ]
  },
  {
   "cell_type": "code",
   "execution_count": 50,
   "metadata": {},
   "outputs": [
    {
     "data": {
      "text/plain": [
       "dob_years_category\n",
       "Middle-aged Adults    19423\n",
       "Old Adults             1155\n",
       "Young Adults            875\n",
       "Name: count, dtype: int64"
      ]
     },
     "execution_count": 50,
     "metadata": {},
     "output_type": "execute_result"
    }
   ],
   "source": [
    "# Memeriksa bagaimana nilai di dalam kolom baru\n",
    "data['dob_years_category'].value_counts()"
   ]
  },
  {
   "cell_type": "code",
   "execution_count": 51,
   "metadata": {},
   "outputs": [],
   "source": [
    "# Membuat tabel tanpa nilai yang hilang dan menampilkan beberapa barisnya untuk memastikan semuanya berjalan dengan baik\n",
    "data_nan_filtered = data.loc[~(data['days_employed'].isna())]"
   ]
  },
  {
   "cell_type": "code",
   "execution_count": 52,
   "metadata": {},
   "outputs": [
    {
     "data": {
      "text/plain": [
       "26787.568354658673"
      ]
     },
     "execution_count": 52,
     "metadata": {},
     "output_type": "execute_result"
    }
   ],
   "source": [
    "# Perhatikan nilai rata-rata untuk pendapatan berdasarkan faktor yang telah Anda identifikasi\n",
    "data_nan_filtered['total_income'].mean()"
   ]
  },
  {
   "cell_type": "code",
   "execution_count": 53,
   "metadata": {
    "scrolled": true
   },
   "outputs": [
    {
     "data": {
      "text/plain": [
       "23202.87"
      ]
     },
     "execution_count": 53,
     "metadata": {},
     "output_type": "execute_result"
    }
   ],
   "source": [
    "# Perhatikan nilai median untuk pendapatan berdasarkan faktor yang telah Anda identifikasi\n",
    "data_nan_filtered['total_income'].median()"
   ]
  },
  {
   "cell_type": "code",
   "execution_count": 54,
   "metadata": {},
   "outputs": [
    {
     "data": {
      "text/plain": [
       "12390    362496.645\n",
       "19547    352136.354\n",
       "9159     276204.162\n",
       "20741    274402.943\n",
       "17136    273809.483\n",
       "17459    255618.158\n",
       "18320    248184.463\n",
       "18305    228469.514\n",
       "15233    216039.297\n",
       "11052    205804.960\n",
       "2224     204579.617\n",
       "7441     198426.400\n",
       "19753    195686.797\n",
       "15176    187593.573\n",
       "13066    180613.801\n",
       "9856     176552.869\n",
       "9989     175672.758\n",
       "18714    174817.312\n",
       "19282    174660.414\n",
       "1590     174259.249\n",
       "Name: total_income, dtype: float64"
      ]
     },
     "execution_count": 54,
     "metadata": {},
     "output_type": "execute_result"
    }
   ],
   "source": [
    "data_nan_filtered['total_income'].sort_values(ascending=False).head(20)"
   ]
  },
  {
   "cell_type": "markdown",
   "metadata": {},
   "source": [
    "<div class=\"alert alert-block alert-info\">\n",
    "<b>Note.</b> <a class=\"tocSkip\"></a>\n",
    "    \n",
    "Untuk menentukan nilai yang hilang pada value pendapatan lebih baik menggunakan median pendapatannya.\n",
    "    "
   ]
  },
  {
   "cell_type": "code",
   "execution_count": 55,
   "metadata": {},
   "outputs": [],
   "source": [
    "#  Tulis fungsi yang akan kita gunakan untuk mengisi nilai yang hilang\n",
    "def fill_value(data, column_filter, column_target, rules):\n",
    "    for rule in rules:\n",
    "        value = data.loc[(data[column_filter] == rule) & ~(data['days_employed'].isna()), column_target].median()\n",
    "        data.loc[(data[column_filter] == rule) & (data[column_target].isna()), column_target] = value\n",
    "    return data"
   ]
  },
  {
   "cell_type": "markdown",
   "metadata": {},
   "source": [
    "<div class=\"alert alert-block alert-info\">\n",
    "<b>Note.</b> <a class=\"tocSkip\"></a>\n",
    "    \n",
    "Membuat fungsi nilai median berdasarkan kategori"
   ]
  },
  {
   "cell_type": "code",
   "execution_count": 56,
   "metadata": {},
   "outputs": [],
   "source": [
    "# Memeriksa bagaimana nilai di dalam kolom baru\n",
    "data['total_income_missing'] = data['total_income']"
   ]
  },
  {
   "cell_type": "markdown",
   "metadata": {},
   "source": [
    "<div class=\"alert alert-block alert-info\">\n",
    "<b>Note.</b> <a class=\"tocSkip\"></a>\n",
    "    \n",
    "Membuat kolom baru untuk memeriksa hasil fungsi"
   ]
  },
  {
   "cell_type": "code",
   "execution_count": 57,
   "metadata": {},
   "outputs": [],
   "source": [
    "rules_age = data['dob_years_category'].unique()"
   ]
  },
  {
   "cell_type": "markdown",
   "metadata": {},
   "source": [
    "<div class=\"alert alert-block alert-info\">\n",
    "<b>Note.</b> <a class=\"tocSkip\"></a>\n",
    "    \n",
    "Kategori berdasarkan usia"
   ]
  },
  {
   "cell_type": "code",
   "execution_count": 58,
   "metadata": {},
   "outputs": [],
   "source": [
    "# Terapkan fungsi ke setiap baris\n",
    "data = fill_value(data, 'dob_years_category', 'total_income_missing', rules_age)"
   ]
  },
  {
   "cell_type": "code",
   "execution_count": 59,
   "metadata": {},
   "outputs": [
    {
     "name": "stdout",
     "output_type": "stream",
     "text": [
      "0\n"
     ]
    }
   ],
   "source": [
    "# Periksa apakah kita mendapatkan kesalahan\n",
    "print(data['total_income_missing'].isna().sum())"
   ]
  },
  {
   "cell_type": "code",
   "execution_count": 60,
   "metadata": {},
   "outputs": [
    {
     "name": "stdout",
     "output_type": "stream",
     "text": [
      "26437.169737892134\n"
     ]
    }
   ],
   "source": [
    "print(data['total_income_missing'].mean())"
   ]
  },
  {
   "cell_type": "code",
   "execution_count": 61,
   "metadata": {},
   "outputs": [
    {
     "name": "stdout",
     "output_type": "stream",
     "text": [
      "0        40620.102\n",
      "1        17932.802\n",
      "2        23341.752\n",
      "3        42820.568\n",
      "4        25378.572\n",
      "           ...    \n",
      "21448    35966.698\n",
      "21449    24959.969\n",
      "21450    14347.610\n",
      "21451    39054.888\n",
      "21452    13127.587\n",
      "Name: total_income_missing, Length: 21453, dtype: float64\n"
     ]
    }
   ],
   "source": [
    "print(data['total_income_missing'])"
   ]
  },
  {
   "cell_type": "code",
   "execution_count": 62,
   "metadata": {},
   "outputs": [
    {
     "name": "stdout",
     "output_type": "stream",
     "text": [
      "<class 'pandas.core.frame.DataFrame'>\n",
      "RangeIndex: 21453 entries, 0 to 21452\n",
      "Data columns (total 16 columns):\n",
      " #   Column                Non-Null Count  Dtype  \n",
      "---  ------                --------------  -----  \n",
      " 0   children              21453 non-null  int64  \n",
      " 1   days_employed         19351 non-null  float64\n",
      " 2   dob_years             21453 non-null  int64  \n",
      " 3   education             21453 non-null  object \n",
      " 4   education_id          21453 non-null  int64  \n",
      " 5   family_status         21453 non-null  object \n",
      " 6   family_status_id      21453 non-null  int64  \n",
      " 7   gender                21453 non-null  object \n",
      " 8   income_type           21453 non-null  object \n",
      " 9   debt                  21453 non-null  int64  \n",
      " 10  total_income          19351 non-null  float64\n",
      " 11  purpose               21453 non-null  object \n",
      " 12  experience            19351 non-null  float64\n",
      " 13  start_career          19351 non-null  float64\n",
      " 14  dob_years_category    21453 non-null  object \n",
      " 15  total_income_missing  21453 non-null  float64\n",
      "dtypes: float64(5), int64(5), object(6)\n",
      "memory usage: 2.6+ MB\n"
     ]
    }
   ],
   "source": [
    "# Memeriksa jumlah entri di kolom\n",
    "data.info()"
   ]
  },
  {
   "cell_type": "markdown",
   "metadata": {},
   "source": [
    "<div class=\"alert alert-block alert-info\">\n",
    "<b>Note.</b> <a class=\"tocSkip\"></a>\n",
    "    \n",
    "Data terlihat lebih baik dan tidak terdapat kendala"
   ]
  },
  {
   "cell_type": "markdown",
   "metadata": {},
   "source": [
    "###  Memperbaiki nilai di `days_employed`"
   ]
  },
  {
   "cell_type": "code",
   "execution_count": 63,
   "metadata": {
    "pycharm": {
     "name": "#%%\n"
    }
   },
   "outputs": [
    {
     "name": "stdout",
     "output_type": "stream",
     "text": [
      "dob_years_category\n",
      "Middle-aged Adults    2180.801412\n",
      "Old Adults            2190.000000\n",
      "Young Adults           744.542130\n",
      "Name: days_employed, dtype: float64\n",
      "\n",
      "gender\n",
      "F    2190.000000\n",
      "M    1681.233351\n",
      "Name: days_employed, dtype: float64\n",
      "\n"
     ]
    }
   ],
   "source": [
    "# Distribusi median dari `days_employed` berdasarkan parameter yang Anda identifikasi\n",
    "for column in ['dob_years_category', 'gender']:\n",
    "    print(data.groupby(column)['days_employed'].median())\n",
    "    print()"
   ]
  },
  {
   "cell_type": "code",
   "execution_count": 64,
   "metadata": {
    "scrolled": true
   },
   "outputs": [
    {
     "name": "stdout",
     "output_type": "stream",
     "text": [
      "dob_years_category\n",
      "Middle-aged Adults    2334.934694\n",
      "Old Adults            2480.543620\n",
      "Young Adults           855.827246\n",
      "Name: days_employed, dtype: float64\n",
      "\n",
      "gender\n",
      "F    2391.380975\n",
      "M    2074.283408\n",
      "Name: days_employed, dtype: float64\n",
      "\n"
     ]
    }
   ],
   "source": [
    "# Distribusi rata-rata dari `days_employed` berdasarkan parameter yang Anda identifikasi\n",
    "for column in ['dob_years_category', 'gender']:\n",
    "    print(data.groupby(column)['days_employed'].mean())\n",
    "    print()"
   ]
  },
  {
   "cell_type": "markdown",
   "metadata": {},
   "source": [
    "<div class=\"alert alert-block alert-info\">\n",
    "<b>Note.</b> <a class=\"tocSkip\"></a>\n",
    "    \n",
    "Nilai Nan akan diubah menjadi value median berdasarkan kategori usia dengan alasan data median lebih masuk akal."
   ]
  },
  {
   "cell_type": "code",
   "execution_count": 65,
   "metadata": {},
   "outputs": [],
   "source": [
    "# Mari tulis fungsi yang menghitung rata-rata atau median (tergantung keputusan Anda) berdasarkan parameter yang Anda identifikasi\n",
    "def clean_data(data, column_filter, column_selected, rules):\n",
    "    for rule in rules:\n",
    "        median = data.loc[(data[column_filter] == rule) & ~(data[column_selected].isna()), column_selected].median()\n",
    "        data.loc[(data[column_filter] == rule) & (data[column_selected].isna()), column_selected] = median\n",
    "    return data"
   ]
  },
  {
   "cell_type": "code",
   "execution_count": 66,
   "metadata": {},
   "outputs": [
    {
     "data": {
      "text/html": [
       "<div>\n",
       "<style scoped>\n",
       "    .dataframe tbody tr th:only-of-type {\n",
       "        vertical-align: middle;\n",
       "    }\n",
       "\n",
       "    .dataframe tbody tr th {\n",
       "        vertical-align: top;\n",
       "    }\n",
       "\n",
       "    .dataframe thead th {\n",
       "        text-align: right;\n",
       "    }\n",
       "</style>\n",
       "<table border=\"1\" class=\"dataframe\">\n",
       "  <thead>\n",
       "    <tr style=\"text-align: right;\">\n",
       "      <th></th>\n",
       "      <th>children</th>\n",
       "      <th>days_employed</th>\n",
       "      <th>dob_years</th>\n",
       "      <th>education</th>\n",
       "      <th>education_id</th>\n",
       "      <th>family_status</th>\n",
       "      <th>family_status_id</th>\n",
       "      <th>gender</th>\n",
       "      <th>income_type</th>\n",
       "      <th>debt</th>\n",
       "      <th>total_income</th>\n",
       "      <th>purpose</th>\n",
       "      <th>experience</th>\n",
       "      <th>start_career</th>\n",
       "      <th>dob_years_category</th>\n",
       "      <th>total_income_missing</th>\n",
       "    </tr>\n",
       "  </thead>\n",
       "  <tbody>\n",
       "    <tr>\n",
       "      <th>0</th>\n",
       "      <td>1</td>\n",
       "      <td>8437.673028</td>\n",
       "      <td>42</td>\n",
       "      <td>bachelor's degree</td>\n",
       "      <td>0</td>\n",
       "      <td>married</td>\n",
       "      <td>0</td>\n",
       "      <td>F</td>\n",
       "      <td>employee</td>\n",
       "      <td>0</td>\n",
       "      <td>40620.102</td>\n",
       "      <td>purchase of the house</td>\n",
       "      <td>23.0</td>\n",
       "      <td>19.0</td>\n",
       "      <td>Middle-aged Adults</td>\n",
       "      <td>40620.102</td>\n",
       "    </tr>\n",
       "    <tr>\n",
       "      <th>1</th>\n",
       "      <td>1</td>\n",
       "      <td>4024.803754</td>\n",
       "      <td>36</td>\n",
       "      <td>secondary education</td>\n",
       "      <td>1</td>\n",
       "      <td>married</td>\n",
       "      <td>0</td>\n",
       "      <td>F</td>\n",
       "      <td>employee</td>\n",
       "      <td>0</td>\n",
       "      <td>17932.802</td>\n",
       "      <td>car purchase</td>\n",
       "      <td>11.0</td>\n",
       "      <td>25.0</td>\n",
       "      <td>Middle-aged Adults</td>\n",
       "      <td>17932.802</td>\n",
       "    </tr>\n",
       "    <tr>\n",
       "      <th>2</th>\n",
       "      <td>0</td>\n",
       "      <td>5623.422610</td>\n",
       "      <td>33</td>\n",
       "      <td>secondary education</td>\n",
       "      <td>1</td>\n",
       "      <td>married</td>\n",
       "      <td>0</td>\n",
       "      <td>M</td>\n",
       "      <td>employee</td>\n",
       "      <td>0</td>\n",
       "      <td>23341.752</td>\n",
       "      <td>purchase of the house</td>\n",
       "      <td>15.0</td>\n",
       "      <td>18.0</td>\n",
       "      <td>Middle-aged Adults</td>\n",
       "      <td>23341.752</td>\n",
       "    </tr>\n",
       "    <tr>\n",
       "      <th>3</th>\n",
       "      <td>3</td>\n",
       "      <td>4124.747207</td>\n",
       "      <td>32</td>\n",
       "      <td>secondary education</td>\n",
       "      <td>1</td>\n",
       "      <td>married</td>\n",
       "      <td>0</td>\n",
       "      <td>M</td>\n",
       "      <td>employee</td>\n",
       "      <td>0</td>\n",
       "      <td>42820.568</td>\n",
       "      <td>supplementary education</td>\n",
       "      <td>11.0</td>\n",
       "      <td>21.0</td>\n",
       "      <td>Middle-aged Adults</td>\n",
       "      <td>42820.568</td>\n",
       "    </tr>\n",
       "    <tr>\n",
       "      <th>4</th>\n",
       "      <td>0</td>\n",
       "      <td>2190.000000</td>\n",
       "      <td>53</td>\n",
       "      <td>secondary education</td>\n",
       "      <td>1</td>\n",
       "      <td>civil partnership</td>\n",
       "      <td>1</td>\n",
       "      <td>F</td>\n",
       "      <td>retiree</td>\n",
       "      <td>0</td>\n",
       "      <td>25378.572</td>\n",
       "      <td>to have a wedding</td>\n",
       "      <td>932.0</td>\n",
       "      <td>-879.0</td>\n",
       "      <td>Middle-aged Adults</td>\n",
       "      <td>25378.572</td>\n",
       "    </tr>\n",
       "    <tr>\n",
       "      <th>...</th>\n",
       "      <td>...</td>\n",
       "      <td>...</td>\n",
       "      <td>...</td>\n",
       "      <td>...</td>\n",
       "      <td>...</td>\n",
       "      <td>...</td>\n",
       "      <td>...</td>\n",
       "      <td>...</td>\n",
       "      <td>...</td>\n",
       "      <td>...</td>\n",
       "      <td>...</td>\n",
       "      <td>...</td>\n",
       "      <td>...</td>\n",
       "      <td>...</td>\n",
       "      <td>...</td>\n",
       "      <td>...</td>\n",
       "    </tr>\n",
       "    <tr>\n",
       "      <th>21448</th>\n",
       "      <td>1</td>\n",
       "      <td>4529.316663</td>\n",
       "      <td>43</td>\n",
       "      <td>secondary education</td>\n",
       "      <td>1</td>\n",
       "      <td>civil partnership</td>\n",
       "      <td>1</td>\n",
       "      <td>F</td>\n",
       "      <td>business</td>\n",
       "      <td>0</td>\n",
       "      <td>35966.698</td>\n",
       "      <td>housing transactions</td>\n",
       "      <td>12.0</td>\n",
       "      <td>31.0</td>\n",
       "      <td>Middle-aged Adults</td>\n",
       "      <td>35966.698</td>\n",
       "    </tr>\n",
       "    <tr>\n",
       "      <th>21449</th>\n",
       "      <td>0</td>\n",
       "      <td>2190.000000</td>\n",
       "      <td>67</td>\n",
       "      <td>secondary education</td>\n",
       "      <td>1</td>\n",
       "      <td>married</td>\n",
       "      <td>0</td>\n",
       "      <td>F</td>\n",
       "      <td>retiree</td>\n",
       "      <td>0</td>\n",
       "      <td>24959.969</td>\n",
       "      <td>purchase of a car</td>\n",
       "      <td>942.0</td>\n",
       "      <td>-875.0</td>\n",
       "      <td>Old Adults</td>\n",
       "      <td>24959.969</td>\n",
       "    </tr>\n",
       "    <tr>\n",
       "      <th>21450</th>\n",
       "      <td>1</td>\n",
       "      <td>2113.346888</td>\n",
       "      <td>38</td>\n",
       "      <td>secondary education</td>\n",
       "      <td>1</td>\n",
       "      <td>civil partnership</td>\n",
       "      <td>1</td>\n",
       "      <td>M</td>\n",
       "      <td>employee</td>\n",
       "      <td>1</td>\n",
       "      <td>14347.610</td>\n",
       "      <td>property</td>\n",
       "      <td>6.0</td>\n",
       "      <td>32.0</td>\n",
       "      <td>Middle-aged Adults</td>\n",
       "      <td>14347.610</td>\n",
       "    </tr>\n",
       "    <tr>\n",
       "      <th>21451</th>\n",
       "      <td>3</td>\n",
       "      <td>3112.481705</td>\n",
       "      <td>38</td>\n",
       "      <td>secondary education</td>\n",
       "      <td>1</td>\n",
       "      <td>married</td>\n",
       "      <td>0</td>\n",
       "      <td>M</td>\n",
       "      <td>employee</td>\n",
       "      <td>1</td>\n",
       "      <td>39054.888</td>\n",
       "      <td>buying my own car</td>\n",
       "      <td>9.0</td>\n",
       "      <td>29.0</td>\n",
       "      <td>Middle-aged Adults</td>\n",
       "      <td>39054.888</td>\n",
       "    </tr>\n",
       "    <tr>\n",
       "      <th>21452</th>\n",
       "      <td>2</td>\n",
       "      <td>1984.507589</td>\n",
       "      <td>40</td>\n",
       "      <td>secondary education</td>\n",
       "      <td>1</td>\n",
       "      <td>married</td>\n",
       "      <td>0</td>\n",
       "      <td>F</td>\n",
       "      <td>employee</td>\n",
       "      <td>0</td>\n",
       "      <td>13127.587</td>\n",
       "      <td>to buy a car</td>\n",
       "      <td>5.0</td>\n",
       "      <td>35.0</td>\n",
       "      <td>Middle-aged Adults</td>\n",
       "      <td>13127.587</td>\n",
       "    </tr>\n",
       "  </tbody>\n",
       "</table>\n",
       "<p>21453 rows × 16 columns</p>\n",
       "</div>"
      ],
      "text/plain": [
       "       children  days_employed  dob_years            education  education_id  \\\n",
       "0             1    8437.673028         42    bachelor's degree             0   \n",
       "1             1    4024.803754         36  secondary education             1   \n",
       "2             0    5623.422610         33  secondary education             1   \n",
       "3             3    4124.747207         32  secondary education             1   \n",
       "4             0    2190.000000         53  secondary education             1   \n",
       "...         ...            ...        ...                  ...           ...   \n",
       "21448         1    4529.316663         43  secondary education             1   \n",
       "21449         0    2190.000000         67  secondary education             1   \n",
       "21450         1    2113.346888         38  secondary education             1   \n",
       "21451         3    3112.481705         38  secondary education             1   \n",
       "21452         2    1984.507589         40  secondary education             1   \n",
       "\n",
       "           family_status  family_status_id gender income_type  debt  \\\n",
       "0                married                 0      F    employee     0   \n",
       "1                married                 0      F    employee     0   \n",
       "2                married                 0      M    employee     0   \n",
       "3                married                 0      M    employee     0   \n",
       "4      civil partnership                 1      F     retiree     0   \n",
       "...                  ...               ...    ...         ...   ...   \n",
       "21448  civil partnership                 1      F    business     0   \n",
       "21449            married                 0      F     retiree     0   \n",
       "21450  civil partnership                 1      M    employee     1   \n",
       "21451            married                 0      M    employee     1   \n",
       "21452            married                 0      F    employee     0   \n",
       "\n",
       "       total_income                  purpose  experience  start_career  \\\n",
       "0         40620.102    purchase of the house        23.0          19.0   \n",
       "1         17932.802             car purchase        11.0          25.0   \n",
       "2         23341.752    purchase of the house        15.0          18.0   \n",
       "3         42820.568  supplementary education        11.0          21.0   \n",
       "4         25378.572        to have a wedding       932.0        -879.0   \n",
       "...             ...                      ...         ...           ...   \n",
       "21448     35966.698     housing transactions        12.0          31.0   \n",
       "21449     24959.969        purchase of a car       942.0        -875.0   \n",
       "21450     14347.610                 property         6.0          32.0   \n",
       "21451     39054.888        buying my own car         9.0          29.0   \n",
       "21452     13127.587             to buy a car         5.0          35.0   \n",
       "\n",
       "       dob_years_category  total_income_missing  \n",
       "0      Middle-aged Adults             40620.102  \n",
       "1      Middle-aged Adults             17932.802  \n",
       "2      Middle-aged Adults             23341.752  \n",
       "3      Middle-aged Adults             42820.568  \n",
       "4      Middle-aged Adults             25378.572  \n",
       "...                   ...                   ...  \n",
       "21448  Middle-aged Adults             35966.698  \n",
       "21449          Old Adults             24959.969  \n",
       "21450  Middle-aged Adults             14347.610  \n",
       "21451  Middle-aged Adults             39054.888  \n",
       "21452  Middle-aged Adults             13127.587  \n",
       "\n",
       "[21453 rows x 16 columns]"
      ]
     },
     "execution_count": 66,
     "metadata": {},
     "output_type": "execute_result"
    }
   ],
   "source": [
    "# Periksa bahwa fungsi bekerja\n",
    "clean_data(data, 'dob_years_category', 'total_income', rules_age)"
   ]
  },
  {
   "cell_type": "code",
   "execution_count": 67,
   "metadata": {},
   "outputs": [],
   "source": [
    "# Terapkan fungsi ke total_income\n",
    "data = clean_data(data, 'dob_years_category', 'total_income', rules_age)"
   ]
  },
  {
   "cell_type": "code",
   "execution_count": 68,
   "metadata": {},
   "outputs": [
    {
     "data": {
      "text/plain": [
       "children                   0\n",
       "days_employed           2102\n",
       "dob_years                  0\n",
       "education                  0\n",
       "education_id               0\n",
       "family_status              0\n",
       "family_status_id           0\n",
       "gender                     0\n",
       "income_type                0\n",
       "debt                       0\n",
       "total_income               0\n",
       "purpose                    0\n",
       "experience              2102\n",
       "start_career            2102\n",
       "dob_years_category         0\n",
       "total_income_missing       0\n",
       "dtype: int64"
      ]
     },
     "execution_count": 68,
     "metadata": {},
     "output_type": "execute_result"
    }
   ],
   "source": [
    "# Periksa bahwa fungsi bekerja\n",
    "data.isna().sum()"
   ]
  },
  {
   "cell_type": "code",
   "execution_count": 69,
   "metadata": {},
   "outputs": [],
   "source": [
    "# Mengganti nilai yang hilang\n",
    "data = clean_data(data, 'dob_years_category', 'days_employed', rules_age)"
   ]
  },
  {
   "cell_type": "code",
   "execution_count": 70,
   "metadata": {},
   "outputs": [
    {
     "data": {
      "text/plain": [
       "children                   0\n",
       "days_employed              0\n",
       "dob_years                  0\n",
       "education                  0\n",
       "education_id               0\n",
       "family_status              0\n",
       "family_status_id           0\n",
       "gender                     0\n",
       "income_type                0\n",
       "debt                       0\n",
       "total_income               0\n",
       "purpose                    0\n",
       "experience              2102\n",
       "start_career            2102\n",
       "dob_years_category         0\n",
       "total_income_missing       0\n",
       "dtype: int64"
      ]
     },
     "execution_count": 70,
     "metadata": {},
     "output_type": "execute_result"
    }
   ],
   "source": [
    "# Periksa entri di semua kolom - pastikan kita memperbaiki semua nilai yang hilang\n",
    "data.isna().sum()"
   ]
  },
  {
   "cell_type": "code",
   "execution_count": 71,
   "metadata": {},
   "outputs": [
    {
     "data": {
      "text/html": [
       "<div>\n",
       "<style scoped>\n",
       "    .dataframe tbody tr th:only-of-type {\n",
       "        vertical-align: middle;\n",
       "    }\n",
       "\n",
       "    .dataframe tbody tr th {\n",
       "        vertical-align: top;\n",
       "    }\n",
       "\n",
       "    .dataframe thead th {\n",
       "        text-align: right;\n",
       "    }\n",
       "</style>\n",
       "<table border=\"1\" class=\"dataframe\">\n",
       "  <thead>\n",
       "    <tr style=\"text-align: right;\">\n",
       "      <th></th>\n",
       "      <th>children</th>\n",
       "      <th>days_employed</th>\n",
       "      <th>dob_years</th>\n",
       "      <th>education</th>\n",
       "      <th>education_id</th>\n",
       "      <th>family_status</th>\n",
       "      <th>family_status_id</th>\n",
       "      <th>gender</th>\n",
       "      <th>income_type</th>\n",
       "      <th>debt</th>\n",
       "      <th>total_income</th>\n",
       "      <th>purpose</th>\n",
       "      <th>experience</th>\n",
       "      <th>start_career</th>\n",
       "      <th>dob_years_category</th>\n",
       "      <th>total_income_missing</th>\n",
       "    </tr>\n",
       "  </thead>\n",
       "  <tbody>\n",
       "    <tr>\n",
       "      <th>0</th>\n",
       "      <td>1</td>\n",
       "      <td>8437.673028</td>\n",
       "      <td>42</td>\n",
       "      <td>bachelor's degree</td>\n",
       "      <td>0</td>\n",
       "      <td>married</td>\n",
       "      <td>0</td>\n",
       "      <td>F</td>\n",
       "      <td>employee</td>\n",
       "      <td>0</td>\n",
       "      <td>40620.102</td>\n",
       "      <td>purchase of the house</td>\n",
       "      <td>23.0</td>\n",
       "      <td>19.0</td>\n",
       "      <td>Middle-aged Adults</td>\n",
       "      <td>40620.102</td>\n",
       "    </tr>\n",
       "    <tr>\n",
       "      <th>1</th>\n",
       "      <td>1</td>\n",
       "      <td>4024.803754</td>\n",
       "      <td>36</td>\n",
       "      <td>secondary education</td>\n",
       "      <td>1</td>\n",
       "      <td>married</td>\n",
       "      <td>0</td>\n",
       "      <td>F</td>\n",
       "      <td>employee</td>\n",
       "      <td>0</td>\n",
       "      <td>17932.802</td>\n",
       "      <td>car purchase</td>\n",
       "      <td>11.0</td>\n",
       "      <td>25.0</td>\n",
       "      <td>Middle-aged Adults</td>\n",
       "      <td>17932.802</td>\n",
       "    </tr>\n",
       "    <tr>\n",
       "      <th>2</th>\n",
       "      <td>0</td>\n",
       "      <td>5623.422610</td>\n",
       "      <td>33</td>\n",
       "      <td>secondary education</td>\n",
       "      <td>1</td>\n",
       "      <td>married</td>\n",
       "      <td>0</td>\n",
       "      <td>M</td>\n",
       "      <td>employee</td>\n",
       "      <td>0</td>\n",
       "      <td>23341.752</td>\n",
       "      <td>purchase of the house</td>\n",
       "      <td>15.0</td>\n",
       "      <td>18.0</td>\n",
       "      <td>Middle-aged Adults</td>\n",
       "      <td>23341.752</td>\n",
       "    </tr>\n",
       "    <tr>\n",
       "      <th>3</th>\n",
       "      <td>3</td>\n",
       "      <td>4124.747207</td>\n",
       "      <td>32</td>\n",
       "      <td>secondary education</td>\n",
       "      <td>1</td>\n",
       "      <td>married</td>\n",
       "      <td>0</td>\n",
       "      <td>M</td>\n",
       "      <td>employee</td>\n",
       "      <td>0</td>\n",
       "      <td>42820.568</td>\n",
       "      <td>supplementary education</td>\n",
       "      <td>11.0</td>\n",
       "      <td>21.0</td>\n",
       "      <td>Middle-aged Adults</td>\n",
       "      <td>42820.568</td>\n",
       "    </tr>\n",
       "    <tr>\n",
       "      <th>4</th>\n",
       "      <td>0</td>\n",
       "      <td>2190.000000</td>\n",
       "      <td>53</td>\n",
       "      <td>secondary education</td>\n",
       "      <td>1</td>\n",
       "      <td>civil partnership</td>\n",
       "      <td>1</td>\n",
       "      <td>F</td>\n",
       "      <td>retiree</td>\n",
       "      <td>0</td>\n",
       "      <td>25378.572</td>\n",
       "      <td>to have a wedding</td>\n",
       "      <td>932.0</td>\n",
       "      <td>-879.0</td>\n",
       "      <td>Middle-aged Adults</td>\n",
       "      <td>25378.572</td>\n",
       "    </tr>\n",
       "  </tbody>\n",
       "</table>\n",
       "</div>"
      ],
      "text/plain": [
       "   children  days_employed  dob_years            education  education_id  \\\n",
       "0         1    8437.673028         42    bachelor's degree             0   \n",
       "1         1    4024.803754         36  secondary education             1   \n",
       "2         0    5623.422610         33  secondary education             1   \n",
       "3         3    4124.747207         32  secondary education             1   \n",
       "4         0    2190.000000         53  secondary education             1   \n",
       "\n",
       "       family_status  family_status_id gender income_type  debt  total_income  \\\n",
       "0            married                 0      F    employee     0     40620.102   \n",
       "1            married                 0      F    employee     0     17932.802   \n",
       "2            married                 0      M    employee     0     23341.752   \n",
       "3            married                 0      M    employee     0     42820.568   \n",
       "4  civil partnership                 1      F     retiree     0     25378.572   \n",
       "\n",
       "                   purpose  experience  start_career  dob_years_category  \\\n",
       "0    purchase of the house        23.0          19.0  Middle-aged Adults   \n",
       "1             car purchase        11.0          25.0  Middle-aged Adults   \n",
       "2    purchase of the house        15.0          18.0  Middle-aged Adults   \n",
       "3  supplementary education        11.0          21.0  Middle-aged Adults   \n",
       "4        to have a wedding       932.0        -879.0  Middle-aged Adults   \n",
       "\n",
       "   total_income_missing  \n",
       "0             40620.102  \n",
       "1             17932.802  \n",
       "2             23341.752  \n",
       "3             42820.568  \n",
       "4             25378.572  "
      ]
     },
     "execution_count": 71,
     "metadata": {},
     "output_type": "execute_result"
    }
   ],
   "source": [
    "data.head()"
   ]
  },
  {
   "cell_type": "code",
   "execution_count": 72,
   "metadata": {},
   "outputs": [
    {
     "name": "stdout",
     "output_type": "stream",
     "text": [
      "<class 'pandas.core.frame.DataFrame'>\n",
      "RangeIndex: 21453 entries, 0 to 21452\n",
      "Data columns (total 16 columns):\n",
      " #   Column                Non-Null Count  Dtype  \n",
      "---  ------                --------------  -----  \n",
      " 0   children              21453 non-null  int64  \n",
      " 1   days_employed         21453 non-null  float64\n",
      " 2   dob_years             21453 non-null  int64  \n",
      " 3   education             21453 non-null  object \n",
      " 4   education_id          21453 non-null  int64  \n",
      " 5   family_status         21453 non-null  object \n",
      " 6   family_status_id      21453 non-null  int64  \n",
      " 7   gender                21453 non-null  object \n",
      " 8   income_type           21453 non-null  object \n",
      " 9   debt                  21453 non-null  int64  \n",
      " 10  total_income          21453 non-null  float64\n",
      " 11  purpose               21453 non-null  object \n",
      " 12  experience            19351 non-null  float64\n",
      " 13  start_career          19351 non-null  float64\n",
      " 14  dob_years_category    21453 non-null  object \n",
      " 15  total_income_missing  21453 non-null  float64\n",
      "dtypes: float64(5), int64(5), object(6)\n",
      "memory usage: 2.6+ MB\n"
     ]
    }
   ],
   "source": [
    "data.info()"
   ]
  },
  {
   "cell_type": "markdown",
   "metadata": {},
   "source": [
    "<div class=\"alert alert-block alert-info\">\n",
    "<b>Note.</b> <a class=\"tocSkip\"></a>\n",
    "    \n",
    "Proses manipulasi data Nan telah selesai dilakukan dan tidak terdapat kendala"
   ]
  },
  {
   "cell_type": "markdown",
   "metadata": {},
   "source": [
    "## Pengkategorian Data"
   ]
  },
  {
   "cell_type": "code",
   "execution_count": 73,
   "metadata": {},
   "outputs": [
    {
     "data": {
      "text/html": [
       "<div>\n",
       "<style scoped>\n",
       "    .dataframe tbody tr th:only-of-type {\n",
       "        vertical-align: middle;\n",
       "    }\n",
       "\n",
       "    .dataframe tbody tr th {\n",
       "        vertical-align: top;\n",
       "    }\n",
       "\n",
       "    .dataframe thead th {\n",
       "        text-align: right;\n",
       "    }\n",
       "</style>\n",
       "<table border=\"1\" class=\"dataframe\">\n",
       "  <thead>\n",
       "    <tr style=\"text-align: right;\">\n",
       "      <th></th>\n",
       "      <th>children</th>\n",
       "      <th>days_employed</th>\n",
       "      <th>dob_years</th>\n",
       "      <th>education</th>\n",
       "      <th>education_id</th>\n",
       "      <th>family_status</th>\n",
       "      <th>family_status_id</th>\n",
       "      <th>gender</th>\n",
       "      <th>income_type</th>\n",
       "      <th>debt</th>\n",
       "      <th>total_income</th>\n",
       "      <th>purpose</th>\n",
       "      <th>experience</th>\n",
       "      <th>start_career</th>\n",
       "      <th>dob_years_category</th>\n",
       "      <th>total_income_missing</th>\n",
       "    </tr>\n",
       "  </thead>\n",
       "  <tbody>\n",
       "    <tr>\n",
       "      <th>0</th>\n",
       "      <td>1</td>\n",
       "      <td>8437.673028</td>\n",
       "      <td>42</td>\n",
       "      <td>bachelor's degree</td>\n",
       "      <td>0</td>\n",
       "      <td>married</td>\n",
       "      <td>0</td>\n",
       "      <td>F</td>\n",
       "      <td>employee</td>\n",
       "      <td>0</td>\n",
       "      <td>40620.102</td>\n",
       "      <td>purchase of the house</td>\n",
       "      <td>23.0</td>\n",
       "      <td>19.0</td>\n",
       "      <td>Middle-aged Adults</td>\n",
       "      <td>40620.102</td>\n",
       "    </tr>\n",
       "    <tr>\n",
       "      <th>1</th>\n",
       "      <td>1</td>\n",
       "      <td>4024.803754</td>\n",
       "      <td>36</td>\n",
       "      <td>secondary education</td>\n",
       "      <td>1</td>\n",
       "      <td>married</td>\n",
       "      <td>0</td>\n",
       "      <td>F</td>\n",
       "      <td>employee</td>\n",
       "      <td>0</td>\n",
       "      <td>17932.802</td>\n",
       "      <td>car purchase</td>\n",
       "      <td>11.0</td>\n",
       "      <td>25.0</td>\n",
       "      <td>Middle-aged Adults</td>\n",
       "      <td>17932.802</td>\n",
       "    </tr>\n",
       "    <tr>\n",
       "      <th>2</th>\n",
       "      <td>0</td>\n",
       "      <td>5623.422610</td>\n",
       "      <td>33</td>\n",
       "      <td>secondary education</td>\n",
       "      <td>1</td>\n",
       "      <td>married</td>\n",
       "      <td>0</td>\n",
       "      <td>M</td>\n",
       "      <td>employee</td>\n",
       "      <td>0</td>\n",
       "      <td>23341.752</td>\n",
       "      <td>purchase of the house</td>\n",
       "      <td>15.0</td>\n",
       "      <td>18.0</td>\n",
       "      <td>Middle-aged Adults</td>\n",
       "      <td>23341.752</td>\n",
       "    </tr>\n",
       "    <tr>\n",
       "      <th>3</th>\n",
       "      <td>3</td>\n",
       "      <td>4124.747207</td>\n",
       "      <td>32</td>\n",
       "      <td>secondary education</td>\n",
       "      <td>1</td>\n",
       "      <td>married</td>\n",
       "      <td>0</td>\n",
       "      <td>M</td>\n",
       "      <td>employee</td>\n",
       "      <td>0</td>\n",
       "      <td>42820.568</td>\n",
       "      <td>supplementary education</td>\n",
       "      <td>11.0</td>\n",
       "      <td>21.0</td>\n",
       "      <td>Middle-aged Adults</td>\n",
       "      <td>42820.568</td>\n",
       "    </tr>\n",
       "    <tr>\n",
       "      <th>4</th>\n",
       "      <td>0</td>\n",
       "      <td>2190.000000</td>\n",
       "      <td>53</td>\n",
       "      <td>secondary education</td>\n",
       "      <td>1</td>\n",
       "      <td>civil partnership</td>\n",
       "      <td>1</td>\n",
       "      <td>F</td>\n",
       "      <td>retiree</td>\n",
       "      <td>0</td>\n",
       "      <td>25378.572</td>\n",
       "      <td>to have a wedding</td>\n",
       "      <td>932.0</td>\n",
       "      <td>-879.0</td>\n",
       "      <td>Middle-aged Adults</td>\n",
       "      <td>25378.572</td>\n",
       "    </tr>\n",
       "  </tbody>\n",
       "</table>\n",
       "</div>"
      ],
      "text/plain": [
       "   children  days_employed  dob_years            education  education_id  \\\n",
       "0         1    8437.673028         42    bachelor's degree             0   \n",
       "1         1    4024.803754         36  secondary education             1   \n",
       "2         0    5623.422610         33  secondary education             1   \n",
       "3         3    4124.747207         32  secondary education             1   \n",
       "4         0    2190.000000         53  secondary education             1   \n",
       "\n",
       "       family_status  family_status_id gender income_type  debt  total_income  \\\n",
       "0            married                 0      F    employee     0     40620.102   \n",
       "1            married                 0      F    employee     0     17932.802   \n",
       "2            married                 0      M    employee     0     23341.752   \n",
       "3            married                 0      M    employee     0     42820.568   \n",
       "4  civil partnership                 1      F     retiree     0     25378.572   \n",
       "\n",
       "                   purpose  experience  start_career  dob_years_category  \\\n",
       "0    purchase of the house        23.0          19.0  Middle-aged Adults   \n",
       "1             car purchase        11.0          25.0  Middle-aged Adults   \n",
       "2    purchase of the house        15.0          18.0  Middle-aged Adults   \n",
       "3  supplementary education        11.0          21.0  Middle-aged Adults   \n",
       "4        to have a wedding       932.0        -879.0  Middle-aged Adults   \n",
       "\n",
       "   total_income_missing  \n",
       "0             40620.102  \n",
       "1             17932.802  \n",
       "2             23341.752  \n",
       "3             42820.568  \n",
       "4             25378.572  "
      ]
     },
     "execution_count": 73,
     "metadata": {},
     "output_type": "execute_result"
    }
   ],
   "source": [
    "# Tampilkan nilai data yang Anda pilih untuk pengkategorian data\n",
    "data.head()"
   ]
  },
  {
   "cell_type": "code",
   "execution_count": 74,
   "metadata": {},
   "outputs": [],
   "source": [
    "target_category_column = ['days_employed', 'total_income', 'purpose', 'debt']"
   ]
  },
  {
   "cell_type": "code",
   "execution_count": 75,
   "metadata": {},
   "outputs": [
    {
     "name": "stdout",
     "output_type": "stream",
     "text": [
      "days_employed\n",
      "[8437.67302776 4024.80375385 5623.42261023 ... 2113.3468877  3112.4817052\n",
      " 1984.50758853]\n",
      "\n",
      "total_income\n",
      "[40620.102 17932.802 23341.752 ... 14347.61  39054.888 13127.587]\n",
      "\n",
      "purpose\n",
      "['purchase of the house' 'car purchase' 'supplementary education'\n",
      " 'to have a wedding' 'housing transactions' 'education' 'having a wedding'\n",
      " 'purchase of the house for my family' 'buy real estate'\n",
      " 'buy commercial real estate' 'buy residential real estate'\n",
      " 'construction of own property' 'property' 'building a property'\n",
      " 'buying a second-hand car' 'buying my own car'\n",
      " 'transactions with commercial real estate' 'building a real estate'\n",
      " 'housing' 'transactions with my real estate' 'cars' 'to become educated'\n",
      " 'second-hand car purchase' 'getting an education' 'car'\n",
      " 'wedding ceremony' 'to get a supplementary education'\n",
      " 'purchase of my own house' 'real estate transactions'\n",
      " 'getting higher education' 'to own a car' 'purchase of a car'\n",
      " 'profile education' 'university education'\n",
      " 'buying property for renting out' 'to buy a car' 'housing renovation'\n",
      " 'going to university']\n",
      "\n",
      "debt\n",
      "[0 1]\n",
      "\n"
     ]
    }
   ],
   "source": [
    "# Periksa nilai unik\n",
    "for i in target_category_column:\n",
    "    print(i)\n",
    "    print(data[i].unique())\n",
    "    print()"
   ]
  },
  {
   "cell_type": "markdown",
   "metadata": {},
   "source": [
    "<div class=\"alert alert-block alert-info\">\n",
    "<b>Note.</b> <a class=\"tocSkip\"></a>\n",
    "    \n",
    "Terdapat 4 kolom yang perlu dilakukan pengkategorian data"
   ]
  },
  {
   "cell_type": "code",
   "execution_count": 76,
   "metadata": {},
   "outputs": [],
   "source": [
    "# Mari kita menulis fungsi untuk mengkategorikan data berdasarkan topik umum\n",
    "def debt_info(value):\n",
    "    if value == 1:\n",
    "        return 'payment failed'\n",
    "    if value == 0:\n",
    "        return 'payment reached'\n",
    "    else:\n",
    "        return 'not defined'"
   ]
  },
  {
   "cell_type": "code",
   "execution_count": 77,
   "metadata": {},
   "outputs": [],
   "source": [
    "# Buat kolom dengan kategori dan hitung nilainya\n",
    "data['debt_meaning'] = data['debt'].apply(debt_info)"
   ]
  },
  {
   "cell_type": "markdown",
   "metadata": {},
   "source": [
    "<div class=\"alert alert-block alert-info\">\n",
    "<b>Note.</b> <a class=\"tocSkip\"></a>\n",
    "    \n",
    "Melakukan pengkategorian data debt yang dapat diperlukan untuk proses hipotesis"
   ]
  },
  {
   "cell_type": "code",
   "execution_count": 78,
   "metadata": {},
   "outputs": [
    {
     "data": {
      "text/plain": [
       "debt_meaning\n",
       "payment reached    19712\n",
       "payment failed      1741\n",
       "Name: count, dtype: int64"
      ]
     },
     "execution_count": 78,
     "metadata": {},
     "output_type": "execute_result"
    }
   ],
   "source": [
    "# Lihat melalui semua data numerik di kolom yang Anda pilih untuk pengkategorian\n",
    "column_num_selected = ['days_employed','dob_years','total_income']\n",
    "data['debt_meaning'].value_counts()"
   ]
  },
  {
   "cell_type": "code",
   "execution_count": 79,
   "metadata": {},
   "outputs": [
    {
     "data": {
      "text/html": [
       "<div>\n",
       "<style scoped>\n",
       "    .dataframe tbody tr th:only-of-type {\n",
       "        vertical-align: middle;\n",
       "    }\n",
       "\n",
       "    .dataframe tbody tr th {\n",
       "        vertical-align: top;\n",
       "    }\n",
       "\n",
       "    .dataframe thead th {\n",
       "        text-align: right;\n",
       "    }\n",
       "</style>\n",
       "<table border=\"1\" class=\"dataframe\">\n",
       "  <thead>\n",
       "    <tr style=\"text-align: right;\">\n",
       "      <th></th>\n",
       "      <th>days_employed</th>\n",
       "      <th>dob_years</th>\n",
       "      <th>total_income</th>\n",
       "    </tr>\n",
       "  </thead>\n",
       "  <tbody>\n",
       "    <tr>\n",
       "      <th>count</th>\n",
       "      <td>21453.000000</td>\n",
       "      <td>21453.000000</td>\n",
       "      <td>21453.000000</td>\n",
       "    </tr>\n",
       "    <tr>\n",
       "      <th>mean</th>\n",
       "      <td>2266.842391</td>\n",
       "      <td>43.469025</td>\n",
       "      <td>26437.169738</td>\n",
       "    </tr>\n",
       "    <tr>\n",
       "      <th>std</th>\n",
       "      <td>1903.780164</td>\n",
       "      <td>12.214162</td>\n",
       "      <td>15687.907748</td>\n",
       "    </tr>\n",
       "    <tr>\n",
       "      <th>min</th>\n",
       "      <td>24.141633</td>\n",
       "      <td>19.000000</td>\n",
       "      <td>3306.762000</td>\n",
       "    </tr>\n",
       "    <tr>\n",
       "      <th>25%</th>\n",
       "      <td>1012.303236</td>\n",
       "      <td>33.000000</td>\n",
       "      <td>17219.352000</td>\n",
       "    </tr>\n",
       "    <tr>\n",
       "      <th>50%</th>\n",
       "      <td>2180.801412</td>\n",
       "      <td>42.000000</td>\n",
       "      <td>23590.955500</td>\n",
       "    </tr>\n",
       "    <tr>\n",
       "      <th>75%</th>\n",
       "      <td>2464.055714</td>\n",
       "      <td>53.000000</td>\n",
       "      <td>31331.009000</td>\n",
       "    </tr>\n",
       "    <tr>\n",
       "      <th>max</th>\n",
       "      <td>16119.687737</td>\n",
       "      <td>75.000000</td>\n",
       "      <td>362496.645000</td>\n",
       "    </tr>\n",
       "  </tbody>\n",
       "</table>\n",
       "</div>"
      ],
      "text/plain": [
       "       days_employed     dob_years   total_income\n",
       "count   21453.000000  21453.000000   21453.000000\n",
       "mean     2266.842391     43.469025   26437.169738\n",
       "std      1903.780164     12.214162   15687.907748\n",
       "min        24.141633     19.000000    3306.762000\n",
       "25%      1012.303236     33.000000   17219.352000\n",
       "50%      2180.801412     42.000000   23590.955500\n",
       "75%      2464.055714     53.000000   31331.009000\n",
       "max     16119.687737     75.000000  362496.645000"
      ]
     },
     "execution_count": 79,
     "metadata": {},
     "output_type": "execute_result"
    }
   ],
   "source": [
    "# Mendapatkan kesimpulan statistik untuk kolomnya\n",
    "data[column_num_selected].describe()"
   ]
  },
  {
   "cell_type": "code",
   "execution_count": 80,
   "metadata": {},
   "outputs": [],
   "source": [
    "# Membuat fungsi untuk pengkategorian menjadi kelompok numerik yang berbeda berdasarkan rentang\n",
    "def total_income_id (value):\n",
    "    if value <= 52000:\n",
    "        return 'Low income'\n",
    "    if 52001 <= value <= 156000:\n",
    "        return 'Middle income'\n",
    "    if value >= 156000:\n",
    "        return 'Upper income'"
   ]
  },
  {
   "cell_type": "markdown",
   "metadata": {},
   "source": [
    "<div class=\"alert alert-block alert-info\">\n",
    "<b>Note.</b> <a class=\"tocSkip\"></a>\n",
    "    \n",
    "Melakukan pengkategorian data penghasilan yang mungkin diperlukan untuk proses hipotesis"
   ]
  },
  {
   "cell_type": "code",
   "execution_count": 81,
   "metadata": {},
   "outputs": [],
   "source": [
    "data['total_income_category'] = data['total_income'].apply(total_income_id)"
   ]
  },
  {
   "cell_type": "code",
   "execution_count": 82,
   "metadata": {},
   "outputs": [
    {
     "data": {
      "text/plain": [
       "array(['purchase of the house', 'car purchase', 'supplementary education',\n",
       "       'to have a wedding', 'housing transactions', 'education',\n",
       "       'having a wedding', 'purchase of the house for my family',\n",
       "       'buy real estate', 'buy commercial real estate',\n",
       "       'buy residential real estate', 'construction of own property',\n",
       "       'property', 'building a property', 'buying a second-hand car',\n",
       "       'buying my own car', 'transactions with commercial real estate',\n",
       "       'building a real estate', 'housing',\n",
       "       'transactions with my real estate', 'cars', 'to become educated',\n",
       "       'second-hand car purchase', 'getting an education', 'car',\n",
       "       'wedding ceremony', 'to get a supplementary education',\n",
       "       'purchase of my own house', 'real estate transactions',\n",
       "       'getting higher education', 'to own a car', 'purchase of a car',\n",
       "       'profile education', 'university education',\n",
       "       'buying property for renting out', 'to buy a car',\n",
       "       'housing renovation', 'going to university'], dtype=object)"
      ]
     },
     "execution_count": 82,
     "metadata": {},
     "output_type": "execute_result"
    }
   ],
   "source": [
    "data['purpose'].unique()"
   ]
  },
  {
   "cell_type": "code",
   "execution_count": 83,
   "metadata": {},
   "outputs": [],
   "source": [
    "def purpose_meaning(value):\n",
    "    for word in value.split():\n",
    "        if 'house' in word:\n",
    "            return 'house'\n",
    "        if 'real estate' in word:\n",
    "            return 'house'\n",
    "        if 'housing' in word:\n",
    "            return 'house'\n",
    "        if 'wedding' in word:\n",
    "            return 'wedding'\n",
    "        if 'car' in word:\n",
    "            return 'car'\n",
    "        if 'cars' in word:\n",
    "            return 'car'\n",
    "        if 'education' in word:\n",
    "            return 'education'\n",
    "        if 'university' in word:\n",
    "            return 'education'\n",
    "        if 'educated' in word:\n",
    "            return 'education'\n",
    "        if 'property' in word:\n",
    "            return 'property'"
   ]
  },
  {
   "cell_type": "markdown",
   "metadata": {},
   "source": [
    "<div class=\"alert alert-block alert-info\">\n",
    "<b>Note.</b> <a class=\"tocSkip\"></a>\n",
    "    \n",
    "Melakukan pengkategorian data tujuan yang mungkin diperlukan untuk proses hipotesis"
   ]
  },
  {
   "cell_type": "code",
   "execution_count": 84,
   "metadata": {},
   "outputs": [],
   "source": [
    "data['purpose_category'] = data['purpose'].apply(purpose_meaning)"
   ]
  },
  {
   "cell_type": "code",
   "execution_count": 85,
   "metadata": {},
   "outputs": [
    {
     "data": {
      "text/plain": [
       "purpose_category\n",
       "car          4306\n",
       "education    4013\n",
       "house        3809\n",
       "property     2538\n",
       "wedding      2323\n",
       "Name: count, dtype: int64"
      ]
     },
     "execution_count": 85,
     "metadata": {},
     "output_type": "execute_result"
    }
   ],
   "source": [
    "data['purpose_category'].value_counts()"
   ]
  },
  {
   "cell_type": "code",
   "execution_count": 86,
   "metadata": {},
   "outputs": [],
   "source": [
    "# Membuat kolom dengan kategori\n",
    "category_column = ['gender', 'children', 'education', 'family_status', 'income_type', 'dob_years_category', 'total_income_category', 'purpose_category', 'debt_meaning']"
   ]
  },
  {
   "cell_type": "code",
   "execution_count": 87,
   "metadata": {
    "scrolled": true
   },
   "outputs": [
    {
     "name": "stdout",
     "output_type": "stream",
     "text": [
      "gender\n",
      "gender\n",
      "F    14174\n",
      "M     7279\n",
      "Name: count, dtype: int64\n",
      "\n",
      "children\n",
      "children\n",
      "0    14090\n",
      "1     4855\n",
      "2     2128\n",
      "3      330\n",
      "4       41\n",
      "5        9\n",
      "Name: count, dtype: int64\n",
      "\n",
      "education\n",
      "education\n",
      "secondary education    15171\n",
      "bachelor's degree       5250\n",
      "some college             744\n",
      "primary education        282\n",
      "graduate degree            6\n",
      "Name: count, dtype: int64\n",
      "\n",
      "family_status\n",
      "family_status\n",
      "married              12339\n",
      "civil partnership     4150\n",
      "unmarried             2810\n",
      "divorced              1195\n",
      "widow / widower        959\n",
      "Name: count, dtype: int64\n",
      "\n",
      "income_type\n",
      "income_type\n",
      "employee                       11083\n",
      "business                        5078\n",
      "retiree                         3829\n",
      "civil servant                   1457\n",
      "unemployed                         2\n",
      "entrepreneur                       2\n",
      "student                            1\n",
      "paternity / maternity leave        1\n",
      "Name: count, dtype: int64\n",
      "\n",
      "dob_years_category\n",
      "dob_years_category\n",
      "Middle-aged Adults    19423\n",
      "Old Adults             1155\n",
      "Young Adults            875\n",
      "Name: count, dtype: int64\n",
      "\n",
      "total_income_category\n",
      "total_income_category\n",
      "Low income       20290\n",
      "Middle income     1137\n",
      "Upper income        26\n",
      "Name: count, dtype: int64\n",
      "\n",
      "purpose_category\n",
      "purpose_category\n",
      "car          4306\n",
      "education    4013\n",
      "house        3809\n",
      "property     2538\n",
      "wedding      2323\n",
      "Name: count, dtype: int64\n",
      "\n",
      "debt_meaning\n",
      "debt_meaning\n",
      "payment reached    19712\n",
      "payment failed      1741\n",
      "Name: count, dtype: int64\n",
      "\n"
     ]
    }
   ],
   "source": [
    "# Menghitung setiap nilai kategori untuk melihat pendistribusian\n",
    "for i in category_column:\n",
    "    print(i)\n",
    "    print(data[i].value_counts())\n",
    "    print()"
   ]
  },
  {
   "cell_type": "markdown",
   "metadata": {},
   "source": [
    "<div class=\"alert alert-block alert-info\">\n",
    "<b>Note.</b> <a class=\"tocSkip\"></a>\n",
    "    \n",
    "Data sudah terkategori dengan baik."
   ]
  },
  {
   "cell_type": "markdown",
   "metadata": {},
   "source": [
    "## Memeriksa Hipotesis\n"
   ]
  },
  {
   "cell_type": "markdown",
   "metadata": {},
   "source": [
    "**Apakah terdapat korelasi antara memiliki anak dengan membayar kembali tepat waktu?**"
   ]
  },
  {
   "cell_type": "code",
   "execution_count": 88,
   "metadata": {
    "scrolled": true
   },
   "outputs": [
    {
     "name": "stdout",
     "output_type": "stream",
     "text": [
      "debt_meaning  payment failed  payment reached\n",
      "children                                     \n",
      "0                     1063.0          13027.0\n",
      "1                      445.0           4410.0\n",
      "2                      202.0           1926.0\n",
      "3                       27.0            303.0\n",
      "4                        4.0             37.0\n",
      "5                        NaN              9.0\n"
     ]
    }
   ],
   "source": [
    "# Periksa data anak dan membayar kembali dengan tepat waktu\n",
    "data_pivot_children = data.pivot_table(index='children', columns='debt_meaning', values='debt', aggfunc='count')\n",
    "print(data_pivot_children)"
   ]
  },
  {
   "cell_type": "code",
   "execution_count": 89,
   "metadata": {},
   "outputs": [
    {
     "name": "stdout",
     "output_type": "stream",
     "text": [
      "children\n",
      "0    7.544358\n",
      "1    9.165808\n",
      "2    9.492481\n",
      "3    8.181818\n",
      "4    9.756098\n",
      "5         NaN\n",
      "dtype: float64\n"
     ]
    }
   ],
   "source": [
    "# Menghitung tarif otomatis berdasarkan jumlah anak\n",
    "print(data_pivot_children['payment failed'] / (data_pivot_children['payment failed'] + data_pivot_children['payment reached']) *100)"
   ]
  },
  {
   "cell_type": "markdown",
   "metadata": {},
   "source": [
    "<div class=\"alert alert-block alert-info\">\n",
    "<b>Note.</b> <a class=\"tocSkip\"></a>\n",
    "\n",
    "persentase tertinggi gagal bayar berdasarkan kategori anak terdapat pada jumlah anak 4 yaitu 9,7% dari total nasabah yang memiliki anak 4 dan terendah jumlah anak 5 yaitu 0%\n"
   ]
  },
  {
   "cell_type": "markdown",
   "metadata": {},
   "source": [
    "**Apakah terdapat korelasi antara status keluarga dengan membayar kembali tepat waktu?**"
   ]
  },
  {
   "cell_type": "code",
   "execution_count": 90,
   "metadata": {
    "scrolled": true
   },
   "outputs": [
    {
     "name": "stdout",
     "output_type": "stream",
     "text": [
      "debt_meaning                        payment failed  payment reached\n",
      "family_status_id family_status                                     \n",
      "0                married                       931            11408\n",
      "1                civil partnership             388             3762\n",
      "2                widow / widower                63              896\n",
      "3                divorced                       85             1110\n",
      "4                unmarried                     274             2536\n"
     ]
    }
   ],
   "source": [
    "# Periksa data status keluarga dan membayar kembali dengan tepat waktu\n",
    "data_pivot_family = data.pivot_table(index=['family_status_id', 'family_status'], columns='debt_meaning', values='debt', aggfunc='count')\n",
    "print(data_pivot_family)"
   ]
  },
  {
   "cell_type": "code",
   "execution_count": 91,
   "metadata": {},
   "outputs": [
    {
     "name": "stdout",
     "output_type": "stream",
     "text": [
      "family_status_id  family_status    \n",
      "0                 married              7.545182\n",
      "1                 civil partnership    9.349398\n",
      "2                 widow / widower      6.569343\n",
      "3                 divorced             7.112971\n",
      "4                 unmarried            9.750890\n",
      "dtype: float64\n"
     ]
    }
   ],
   "source": [
    "# Menghitung tarif otomatis berdasarkan status keluarga\n",
    "print(data_pivot_family['payment failed'] / (data_pivot_family['payment failed'] + data_pivot_family['payment reached']) *100)"
   ]
  },
  {
   "cell_type": "markdown",
   "metadata": {},
   "source": [
    "**Kesimpulan**\n",
    "<div class=\"alert alert-block alert-info\">\n",
    "<b>Note.</b> <a class=\"tocSkip\"></a>\n",
    "    \n",
    "persentase tertinggi gagal dalam kategori keluarga yaitu terdapat pada status keluarga yang belum menikah yaitu 9,7% dari total keseluruhan basabah yang belum menikah dan terendah dengan status janda yaitu 6,5%"
   ]
  },
  {
   "cell_type": "markdown",
   "metadata": {},
   "source": [
    "**Apakah terdapat korelasi antara tingkat pendapatan dengan membayar kembali tepat waktu?**"
   ]
  },
  {
   "cell_type": "code",
   "execution_count": 92,
   "metadata": {
    "scrolled": true
   },
   "outputs": [
    {
     "name": "stdout",
     "output_type": "stream",
     "text": [
      "debt_meaning           payment failed  payment reached\n",
      "total_income_category                                 \n",
      "Low income                       1659            18631\n",
      "Middle income                      80             1057\n",
      "Upper income                        2               24\n"
     ]
    }
   ],
   "source": [
    "# Periksa data tingkat pendapatan dan membayar kembali dengan tepat waktu\n",
    "data_pivot_income = data.pivot_table(index='total_income_category', columns='debt_meaning', values='debt', aggfunc='count')\n",
    "print(data_pivot_income)"
   ]
  },
  {
   "cell_type": "code",
   "execution_count": 93,
   "metadata": {},
   "outputs": [
    {
     "name": "stdout",
     "output_type": "stream",
     "text": [
      "total_income_category\n",
      "Low income       8.176442\n",
      "Middle income    7.036060\n",
      "Upper income     7.692308\n",
      "dtype: float64\n"
     ]
    }
   ],
   "source": [
    "# Menghitung tarif otomatis berdasarkan tingkat pendapatan\n",
    "print(data_pivot_income['payment failed'] / (data_pivot_income['payment failed'] + data_pivot_income['payment reached']) *100)"
   ]
  },
  {
   "cell_type": "markdown",
   "metadata": {},
   "source": [
    "**Kesimpulan**\n",
    "\n",
    "<div class=\"alert alert-block alert-info\">\n",
    "<b>Student answer.</b> <a class=\"tocSkip\"></a>\n",
    "    \n",
    "persentase tertinggi gagal bayar pada kategori pendapatan terdapat pada kategori pendapatan rendah yaitu 8,1% dari total keseluruhan nasabah yang memiliki pendapatan rendah dan persentase terendah dengan pendapatan menengah yaitu 7%"
   ]
  },
  {
   "cell_type": "markdown",
   "metadata": {},
   "source": [
    "**Bagaimana tujuan kredit memengaruhi tarif otomatis?**"
   ]
  },
  {
   "cell_type": "code",
   "execution_count": 94,
   "metadata": {},
   "outputs": [
    {
     "name": "stdout",
     "output_type": "stream",
     "text": [
      "debt_meaning      payment failed  payment reached\n",
      "purpose_category                                 \n",
      "car                          403             3903\n",
      "education                    370             3643\n",
      "house                        256             3553\n",
      "property                     190             2348\n",
      "wedding                      186             2137\n"
     ]
    }
   ],
   "source": [
    "data_pivot_purpose = data.pivot_table(index='purpose_category', columns='debt_meaning', values='debt', aggfunc='count')\n",
    "print(data_pivot_purpose)"
   ]
  },
  {
   "cell_type": "code",
   "execution_count": 95,
   "metadata": {},
   "outputs": [
    {
     "name": "stdout",
     "output_type": "stream",
     "text": [
      "purpose_category\n",
      "car          9.359034\n",
      "education    9.220035\n",
      "house        6.720924\n",
      "property     7.486210\n",
      "wedding      8.006888\n",
      "dtype: float64\n"
     ]
    }
   ],
   "source": [
    "print(data_pivot_purpose['payment failed'] / (data_pivot_purpose['payment failed'] + data_pivot_purpose['payment reached']) *100)"
   ]
  },
  {
   "cell_type": "markdown",
   "metadata": {},
   "source": [
    "**Kesimpulan**\n",
    "<div class=\"alert alert-block alert-info\">\n",
    "<b>Note.</b> <a class=\"tocSkip\"></a>\n",
    "    \n",
    "persentase tertinggi gagal bayar pada kategori tujuan nasabah terdapat pada tujuan membeli mobil yaitu 9,3% dari total keseluruhan nasabah yang memiliki tujuan pembelian mobil dan terendah tujuan membeli rumah yaitu 6,7%"
   ]
  },
  {
   "cell_type": "markdown",
   "metadata": {},
   "source": [
    "# Kesimpulan Umum \n",
    "<div class=\"alert alert-block alert-info\">\n",
    "<b> Note.</b> <a class=\"tocSkip\"></a>\n",
    "    \n",
    "Beberapa metode sudah dilakukan untuk melakukan investigasi data yang hilang namun tidak ditemukan pola terhadap data yang hilang. berhubung data valid lebih besar yaitu 90% maka data yang hilang tersebut akan diisi dengan nilai yang lebih masuk akan yaitu dengan median data tersebut.\n",
    "    <br/>\n",
    "    Pertama-tama data yang tersedia dilakukan investigasi terlebih dahulu berupa : <br/>\n",
    "    - pengecekan nilai hilang,<br/>\n",
    "    - Pengecekan isi data, <br/><br/>\n",
    "  berdasarkan hasil investigasi beberapa temukan masalah data ditemukan yaitu : <br/>\n",
    "1. Terdapat isi data yang hilang yaitu berupa penghasilan dan lama nasabah bekerja dengan persentase 10% dari data total <br/>\n",
    "   Adapun beberapa penanggulangan pertama yaitu <br/>\n",
    "   - melakukan pengecekan terhadap nilai yang hilang apakah terdapat pola pada nilai yang hilang, namun hasil pengecekan tidak terdapat pola pada nilai yang hilang tersebut.<br/>\n",
    "    - berhubung data valid lebih besar yaitu 90% maka data yang hilang tersebut akan diisi dengan nilai yang lebih masuk akal yaitu dengan median dari data tersebut berasarkan kategori umur untuk kedua data yang hilang. <p>\n",
    "2. Terdapat ketidakselarasan dalam penulisan pendidikan, sehingga solusi yang dilakukan yaitu merubah isi tulisan sehingga terdapat keselarasan dan memudahkan proses analisis selanjutnya.<p>\n",
    "3. Terdapat nilai negatif pada informasi durasi lamanya nasabah telah bekerja dan terdapat nilai yang telah bekerja lebih dari 36500 Hari atau 100 tahun. Solusi terhadap kendala tersebut yaitu mengubah nilai negatif menjadi positif dan melakukan  perbandingan antara lama bekerja 'days_employed' dan usia nasabah 'dob_years' dengan metode:<br/>\n",
    "    - penyelarasan perhitungan menjadi tahun agar lebih mudah dalam investigasi dengan membuat column baru.<br/>\n",
    "    - membandingkan lama bekerja dan usia pelanggan dengan argumen. Awal nasabah memulai karir yaitu 16 tahun. dengan alasan sebagian besar nasabah memiliki pendidikan akhir 'secondary education' yang artinya lulus diusia 16 tahun dan asumsi nasabah langsung bekerja setelah lulus. dan untuk value nasabah yang memulai karir kurang dari 16 tahun. lama bekerja akan diubah menjadi median dari lama bekerja.<p>\n",
    "    setelah investigasi atau manipulasi data telah selesai dilakukan, data dapat dikaji dan berikut kesimpulan yang didapat : <p>\n",
    "    1. persentase tertinggi gagal bayar berdasarkan kategori anak terdapat pada jumlah anak 4 yaitu 9,7% dari total nasabah yang memiliki anak 4 dan terendah jumlah anak 5 yaitu 0%<p>\n",
    "    2. persentase tertinggi gagal dalam kategori keluarga yaitu terdapat pada status keluarga yang belum menikah yaitu 9,7% dari total keseluruhan basabah yang belum menikah dan terendah dengan status janda yaitu 6,5% <p>\n",
    "    3. persentase tertinggi gagal bayar pada kategori pendapatan terdapat pada kategori pendapatan rendah yaitu 8,1% dari total keseluruhan nasabah yang memiliki pendapatan rendah dan persentase terendah dengan pendapatan menengah yaitu 7%.<p>\n",
    "    4. persentase tertinggi gagal bayar pada kategori tujuan nasabah terdapat pada tujuan membeli mobil yaitu 9,3% dari total keseluruhan nasabah yang memiliki tujuan pembelian mobil dan terendah tujuan membeli rumah yaitu 6,7%\n",
    "  \n",
    "</div>\n"
   ]
  }
 ],
 "metadata": {
  "ExecuteTimeLog": [
   {
    "duration": 2741,
    "start_time": "2021-10-21T01:08:49.480Z"
   },
   {
    "duration": 52,
    "start_time": "2021-10-21T01:08:53.315Z"
   },
   {
    "duration": 49,
    "start_time": "2021-10-21T01:08:57.432Z"
   },
   {
    "duration": 70,
    "start_time": "2021-10-21T01:09:07.706Z"
   },
   {
    "duration": 645,
    "start_time": "2022-09-06T12:42:02.210Z"
   },
   {
    "duration": 183,
    "start_time": "2022-09-06T12:42:22.108Z"
   },
   {
    "duration": 15,
    "start_time": "2022-09-06T12:42:44.299Z"
   },
   {
    "duration": 15,
    "start_time": "2022-09-06T12:42:51.635Z"
   },
   {
    "duration": 15,
    "start_time": "2022-09-06T12:43:02.920Z"
   },
   {
    "duration": 4,
    "start_time": "2022-09-06T12:45:03.214Z"
   },
   {
    "duration": 11,
    "start_time": "2022-09-06T12:45:33.278Z"
   },
   {
    "duration": 121,
    "start_time": "2022-09-06T12:45:43.640Z"
   },
   {
    "duration": 21,
    "start_time": "2022-09-06T12:45:56.392Z"
   },
   {
    "duration": 15,
    "start_time": "2022-09-06T12:46:27.793Z"
   },
   {
    "duration": 22,
    "start_time": "2022-09-06T12:47:41.195Z"
   },
   {
    "duration": 17,
    "start_time": "2022-09-06T12:47:57.814Z"
   },
   {
    "duration": 2,
    "start_time": "2022-09-06T12:56:32.188Z"
   },
   {
    "duration": 677,
    "start_time": "2022-09-07T11:14:05.395Z"
   },
   {
    "duration": 9,
    "start_time": "2022-09-07T11:14:10.394Z"
   },
   {
    "duration": 22,
    "start_time": "2022-09-07T11:14:12.797Z"
   },
   {
    "duration": 24,
    "start_time": "2022-09-07T11:20:40.400Z"
   },
   {
    "duration": 22,
    "start_time": "2022-09-07T11:21:04.837Z"
   },
   {
    "duration": 7,
    "start_time": "2022-09-07T11:22:32.860Z"
   },
   {
    "duration": 19,
    "start_time": "2022-09-07T11:25:27.678Z"
   },
   {
    "duration": 1570,
    "start_time": "2022-09-07T11:25:49.194Z"
   },
   {
    "duration": 1176,
    "start_time": "2022-09-07T11:25:51.728Z"
   },
   {
    "duration": 29,
    "start_time": "2022-09-07T11:43:47.899Z"
   },
   {
    "duration": 946,
    "start_time": "2022-09-07T11:45:39.693Z"
   },
   {
    "duration": 5,
    "start_time": "2022-09-07T11:46:12.489Z"
   },
   {
    "duration": 4,
    "start_time": "2022-09-07T11:46:17.092Z"
   },
   {
    "duration": 18,
    "start_time": "2022-09-07T11:46:26.125Z"
   },
   {
    "duration": 5,
    "start_time": "2022-09-07T11:46:43.284Z"
   },
   {
    "duration": 19,
    "start_time": "2022-09-07T11:50:12.497Z"
   },
   {
    "duration": 6,
    "start_time": "2022-09-07T11:51:06.834Z"
   },
   {
    "duration": 3,
    "start_time": "2022-09-07T11:51:56.803Z"
   },
   {
    "duration": 4,
    "start_time": "2022-09-07T11:52:04.996Z"
   },
   {
    "duration": 12,
    "start_time": "2022-09-07T11:52:09.132Z"
   },
   {
    "duration": 44,
    "start_time": "2022-09-07T11:52:19.690Z"
   },
   {
    "duration": 48,
    "start_time": "2022-09-07T11:53:41.325Z"
   },
   {
    "duration": 556,
    "start_time": "2022-09-07T11:53:55.638Z"
   },
   {
    "duration": 6,
    "start_time": "2022-09-07T11:54:31.389Z"
   },
   {
    "duration": 6,
    "start_time": "2022-09-07T11:54:46.392Z"
   },
   {
    "duration": 14,
    "start_time": "2022-09-07T11:54:59.589Z"
   },
   {
    "duration": 8,
    "start_time": "2022-09-07T11:55:25.946Z"
   },
   {
    "duration": 6,
    "start_time": "2022-09-07T11:55:33.176Z"
   },
   {
    "duration": 6,
    "start_time": "2022-09-07T11:55:45.855Z"
   },
   {
    "duration": 4,
    "start_time": "2022-09-07T11:56:01.070Z"
   },
   {
    "duration": 73,
    "start_time": "2022-09-07T11:56:26.525Z"
   },
   {
    "duration": 6,
    "start_time": "2022-09-07T11:56:30.382Z"
   },
   {
    "duration": 5,
    "start_time": "2022-09-07T11:56:56.990Z"
   },
   {
    "duration": 6,
    "start_time": "2022-09-07T11:57:03.930Z"
   },
   {
    "duration": 14,
    "start_time": "2022-09-07T12:02:53.639Z"
   },
   {
    "duration": 15,
    "start_time": "2022-09-07T12:03:01.785Z"
   },
   {
    "duration": 16,
    "start_time": "2022-09-07T12:09:36.722Z"
   },
   {
    "duration": 12,
    "start_time": "2022-09-07T12:28:40.098Z"
   },
   {
    "duration": 6,
    "start_time": "2022-09-07T12:29:01.495Z"
   },
   {
    "duration": 9,
    "start_time": "2022-09-07T12:29:48.623Z"
   },
   {
    "duration": 11,
    "start_time": "2022-09-07T12:32:33.104Z"
   },
   {
    "duration": 9,
    "start_time": "2022-09-07T12:32:45.129Z"
   },
   {
    "duration": 9,
    "start_time": "2022-09-07T12:32:53.674Z"
   },
   {
    "duration": 4,
    "start_time": "2022-09-07T12:33:54.377Z"
   },
   {
    "duration": 6,
    "start_time": "2022-09-07T12:34:14.577Z"
   },
   {
    "duration": 112,
    "start_time": "2022-09-07T12:34:17.605Z"
   },
   {
    "duration": 7,
    "start_time": "2022-09-07T12:34:20.569Z"
   },
   {
    "duration": 5,
    "start_time": "2022-09-07T12:34:25.577Z"
   },
   {
    "duration": 5,
    "start_time": "2022-09-07T12:36:04.201Z"
   },
   {
    "duration": 7,
    "start_time": "2022-09-07T12:36:25.048Z"
   },
   {
    "duration": 8,
    "start_time": "2022-09-07T12:36:47.678Z"
   },
   {
    "duration": 9,
    "start_time": "2022-09-07T12:36:53.106Z"
   },
   {
    "duration": 8,
    "start_time": "2022-09-07T12:36:57.682Z"
   },
   {
    "duration": 8,
    "start_time": "2022-09-07T12:37:19.635Z"
   },
   {
    "duration": 9,
    "start_time": "2022-09-07T12:37:46.750Z"
   },
   {
    "duration": 10,
    "start_time": "2022-09-07T12:38:22.744Z"
   },
   {
    "duration": 11,
    "start_time": "2022-09-07T12:39:02.768Z"
   },
   {
    "duration": 8,
    "start_time": "2022-09-07T12:39:22.416Z"
   },
   {
    "duration": 9,
    "start_time": "2022-09-07T12:39:35.536Z"
   },
   {
    "duration": 10,
    "start_time": "2022-09-07T12:39:42.681Z"
   },
   {
    "duration": 3,
    "start_time": "2022-09-07T12:39:59.289Z"
   },
   {
    "duration": 3,
    "start_time": "2022-09-07T12:40:11.712Z"
   },
   {
    "duration": 7,
    "start_time": "2022-09-07T12:40:25.077Z"
   },
   {
    "duration": 5,
    "start_time": "2022-09-07T12:40:38.227Z"
   },
   {
    "duration": 33,
    "start_time": "2022-09-07T12:47:07.243Z"
   },
   {
    "duration": 25,
    "start_time": "2022-09-07T12:48:40.135Z"
   },
   {
    "duration": 14,
    "start_time": "2022-09-07T12:50:35.347Z"
   },
   {
    "duration": 48,
    "start_time": "2022-09-07T12:50:45.006Z"
   },
   {
    "duration": 26,
    "start_time": "2022-09-07T12:51:47.941Z"
   },
   {
    "duration": 7,
    "start_time": "2022-09-07T12:56:10.254Z"
   },
   {
    "duration": 4,
    "start_time": "2022-09-07T13:00:13.604Z"
   },
   {
    "duration": 2,
    "start_time": "2022-09-07T13:00:37.917Z"
   },
   {
    "duration": 5,
    "start_time": "2022-09-07T13:00:42.255Z"
   },
   {
    "duration": 887,
    "start_time": "2022-09-09T14:09:15.864Z"
   },
   {
    "duration": 7,
    "start_time": "2022-09-09T14:09:18.547Z"
   },
   {
    "duration": 16,
    "start_time": "2022-09-09T14:09:20.163Z"
   },
   {
    "duration": 13,
    "start_time": "2022-09-09T14:09:31.003Z"
   },
   {
    "duration": 18,
    "start_time": "2022-09-09T14:09:32.172Z"
   },
   {
    "duration": 5,
    "start_time": "2022-09-09T14:09:33.310Z"
   },
   {
    "duration": 10,
    "start_time": "2022-09-09T14:09:38.641Z"
   },
   {
    "duration": 26,
    "start_time": "2022-09-09T14:09:40.544Z"
   },
   {
    "duration": 5,
    "start_time": "2022-09-09T14:10:36.083Z"
   },
   {
    "duration": 5,
    "start_time": "2022-09-09T14:10:43.761Z"
   },
   {
    "duration": 5,
    "start_time": "2022-09-09T14:11:15.283Z"
   },
   {
    "duration": 1284,
    "start_time": "2022-09-09T14:11:35.661Z"
   },
   {
    "duration": 4,
    "start_time": "2022-09-09T14:11:39.716Z"
   },
   {
    "duration": 8,
    "start_time": "2022-09-09T14:11:56.788Z"
   },
   {
    "duration": 7,
    "start_time": "2022-09-09T14:12:20.939Z"
   },
   {
    "duration": 8,
    "start_time": "2022-09-09T14:16:28.705Z"
   },
   {
    "duration": 4,
    "start_time": "2022-09-09T14:17:03.618Z"
   },
   {
    "duration": 8,
    "start_time": "2022-09-09T14:17:14.370Z"
   },
   {
    "duration": 6,
    "start_time": "2022-09-09T14:17:59.311Z"
   },
   {
    "duration": 5,
    "start_time": "2022-09-09T14:18:23.185Z"
   },
   {
    "duration": 4,
    "start_time": "2022-09-09T14:18:38.498Z"
   },
   {
    "duration": 7,
    "start_time": "2022-09-09T14:20:23.188Z"
   },
   {
    "duration": 725,
    "start_time": "2022-09-12T12:49:30.927Z"
   },
   {
    "duration": 8,
    "start_time": "2022-09-12T12:49:33.364Z"
   },
   {
    "duration": 23,
    "start_time": "2022-09-12T12:49:34.057Z"
   },
   {
    "duration": 19,
    "start_time": "2022-09-12T12:49:35.059Z"
   },
   {
    "duration": 27,
    "start_time": "2022-09-12T12:49:36.617Z"
   },
   {
    "duration": 7,
    "start_time": "2022-09-12T12:49:37.728Z"
   },
   {
    "duration": 12,
    "start_time": "2022-09-12T12:49:38.585Z"
   },
   {
    "duration": 28,
    "start_time": "2022-09-12T12:49:39.117Z"
   },
   {
    "duration": 5,
    "start_time": "2022-09-12T12:49:40.727Z"
   },
   {
    "duration": 8,
    "start_time": "2022-09-12T12:49:41.915Z"
   },
   {
    "duration": 6,
    "start_time": "2022-09-12T12:54:58.165Z"
   },
   {
    "duration": 11,
    "start_time": "2022-09-12T12:55:53.078Z"
   },
   {
    "duration": 6,
    "start_time": "2022-09-12T12:56:02.793Z"
   },
   {
    "duration": 4,
    "start_time": "2022-09-12T12:56:19.227Z"
   },
   {
    "duration": 10,
    "start_time": "2022-09-12T12:56:45.860Z"
   },
   {
    "duration": 7,
    "start_time": "2022-09-12T12:57:23.481Z"
   },
   {
    "duration": 11,
    "start_time": "2022-09-12T12:58:04.368Z"
   },
   {
    "duration": 9,
    "start_time": "2022-09-12T12:58:06.379Z"
   },
   {
    "duration": 8,
    "start_time": "2022-09-12T12:59:11.190Z"
   },
   {
    "duration": 69,
    "start_time": "2022-09-12T13:04:40.388Z"
   },
   {
    "duration": 13,
    "start_time": "2022-09-12T13:05:02.771Z"
   },
   {
    "duration": 9,
    "start_time": "2022-09-12T13:05:10.192Z"
   },
   {
    "duration": 9,
    "start_time": "2022-09-12T13:06:48.357Z"
   },
   {
    "duration": 13,
    "start_time": "2022-09-12T13:07:05.361Z"
   },
   {
    "duration": 10,
    "start_time": "2022-09-12T13:07:10.231Z"
   },
   {
    "duration": 5,
    "start_time": "2022-09-12T13:17:59.673Z"
   },
   {
    "duration": 6,
    "start_time": "2022-09-12T13:18:17.330Z"
   },
   {
    "duration": 7,
    "start_time": "2022-09-12T13:20:53.370Z"
   },
   {
    "duration": 21,
    "start_time": "2022-09-12T13:21:39.581Z"
   },
   {
    "duration": 16,
    "start_time": "2022-09-12T13:21:57.384Z"
   },
   {
    "duration": 54,
    "start_time": "2022-09-12T13:22:24.860Z"
   },
   {
    "duration": 52,
    "start_time": "2022-09-12T13:22:31.937Z"
   },
   {
    "duration": 81,
    "start_time": "2022-09-12T13:22:35.997Z"
   },
   {
    "duration": 37,
    "start_time": "2022-09-12T13:22:56.373Z"
   },
   {
    "duration": 21,
    "start_time": "2022-09-12T13:23:06.755Z"
   },
   {
    "duration": 21,
    "start_time": "2022-09-12T13:23:23.387Z"
   },
   {
    "duration": 19,
    "start_time": "2022-09-12T13:23:42.355Z"
   },
   {
    "duration": 4,
    "start_time": "2022-09-12T13:55:10.767Z"
   },
   {
    "duration": 5,
    "start_time": "2022-09-12T13:55:26.040Z"
   },
   {
    "duration": 5,
    "start_time": "2022-09-12T13:57:13.609Z"
   },
   {
    "duration": 5,
    "start_time": "2022-09-12T13:57:20.558Z"
   },
   {
    "duration": 5,
    "start_time": "2022-09-12T14:03:23.880Z"
   },
   {
    "duration": 5,
    "start_time": "2022-09-12T14:03:36.902Z"
   },
   {
    "duration": 8,
    "start_time": "2022-09-12T14:03:54.642Z"
   },
   {
    "duration": 21,
    "start_time": "2022-09-12T14:04:11.905Z"
   },
   {
    "duration": 472,
    "start_time": "2022-09-12T14:04:31.730Z"
   },
   {
    "duration": 8,
    "start_time": "2022-09-12T14:04:32.204Z"
   },
   {
    "duration": 24,
    "start_time": "2022-09-12T14:04:32.214Z"
   },
   {
    "duration": 15,
    "start_time": "2022-09-12T14:04:32.531Z"
   },
   {
    "duration": 19,
    "start_time": "2022-09-12T14:04:32.853Z"
   },
   {
    "duration": 5,
    "start_time": "2022-09-12T14:04:33.642Z"
   },
   {
    "duration": 116,
    "start_time": "2022-09-12T14:04:34.706Z"
   },
   {
    "duration": 39,
    "start_time": "2022-09-12T14:04:35.189Z"
   },
   {
    "duration": 6,
    "start_time": "2022-09-12T14:04:37.736Z"
   },
   {
    "duration": 9,
    "start_time": "2022-09-12T14:04:39.138Z"
   },
   {
    "duration": 6,
    "start_time": "2022-09-12T14:04:41.136Z"
   },
   {
    "duration": 8,
    "start_time": "2022-09-12T14:04:41.810Z"
   },
   {
    "duration": 7,
    "start_time": "2022-09-12T14:04:42.908Z"
   },
   {
    "duration": 14,
    "start_time": "2022-09-12T14:04:45.528Z"
   },
   {
    "duration": 5,
    "start_time": "2022-09-12T14:04:48.396Z"
   },
   {
    "duration": 5,
    "start_time": "2022-09-12T14:04:49.305Z"
   },
   {
    "duration": 8,
    "start_time": "2022-09-12T14:05:05.810Z"
   },
   {
    "duration": 4,
    "start_time": "2022-09-12T14:05:24.956Z"
   },
   {
    "duration": 4,
    "start_time": "2022-09-12T14:05:26.976Z"
   },
   {
    "duration": 6,
    "start_time": "2022-09-12T14:05:56.941Z"
   },
   {
    "duration": 22,
    "start_time": "2022-09-12T14:07:00.417Z"
   },
   {
    "duration": 88,
    "start_time": "2022-09-12T14:08:36.659Z"
   },
   {
    "duration": 23,
    "start_time": "2022-09-12T14:08:40.265Z"
   },
   {
    "duration": 22,
    "start_time": "2022-09-12T14:09:06.815Z"
   },
   {
    "duration": 24,
    "start_time": "2022-09-12T14:09:20.484Z"
   },
   {
    "duration": 22,
    "start_time": "2022-09-12T14:12:55.545Z"
   },
   {
    "duration": 24,
    "start_time": "2022-09-12T14:13:04.424Z"
   },
   {
    "duration": 29,
    "start_time": "2022-09-12T14:15:22.617Z"
   },
   {
    "duration": 22,
    "start_time": "2022-09-12T14:15:38.710Z"
   },
   {
    "duration": 60,
    "start_time": "2022-09-12T14:17:54.580Z"
   },
   {
    "duration": 4,
    "start_time": "2022-09-12T14:18:16.356Z"
   },
   {
    "duration": 7,
    "start_time": "2022-09-12T14:18:20.916Z"
   },
   {
    "duration": 7,
    "start_time": "2022-09-12T14:18:29.943Z"
   },
   {
    "duration": 7,
    "start_time": "2022-09-12T14:18:47.562Z"
   },
   {
    "duration": 21,
    "start_time": "2022-09-12T14:18:51.573Z"
   },
   {
    "duration": 3,
    "start_time": "2022-09-12T14:19:05.270Z"
   },
   {
    "duration": 4,
    "start_time": "2022-09-12T14:19:30.295Z"
   },
   {
    "duration": 3,
    "start_time": "2022-09-12T14:19:42.070Z"
   },
   {
    "duration": 4,
    "start_time": "2022-09-12T14:19:49.377Z"
   },
   {
    "duration": 13,
    "start_time": "2022-09-12T14:20:02.350Z"
   },
   {
    "duration": 7,
    "start_time": "2022-09-12T14:22:05.073Z"
   },
   {
    "duration": 14,
    "start_time": "2022-09-12T14:25:21.142Z"
   },
   {
    "duration": 16,
    "start_time": "2022-09-12T14:25:30.337Z"
   },
   {
    "duration": 3,
    "start_time": "2022-09-12T14:25:53.585Z"
   },
   {
    "duration": 9,
    "start_time": "2022-09-12T14:25:56.392Z"
   },
   {
    "duration": 9,
    "start_time": "2022-09-12T14:26:21.314Z"
   },
   {
    "duration": 7,
    "start_time": "2022-09-12T14:27:49.504Z"
   },
   {
    "duration": 25,
    "start_time": "2022-09-12T14:28:34.944Z"
   },
   {
    "duration": 14,
    "start_time": "2022-09-12T14:28:47.181Z"
   },
   {
    "duration": 11,
    "start_time": "2022-09-12T14:29:04.993Z"
   },
   {
    "duration": 14,
    "start_time": "2022-09-12T14:37:36.340Z"
   },
   {
    "duration": 5,
    "start_time": "2022-09-12T14:38:09.115Z"
   },
   {
    "duration": 9,
    "start_time": "2022-09-12T14:38:20.259Z"
   },
   {
    "duration": 6,
    "start_time": "2022-09-12T14:38:34.075Z"
   },
   {
    "duration": 11,
    "start_time": "2022-09-12T14:38:50.931Z"
   },
   {
    "duration": 189,
    "start_time": "2022-09-12T14:39:25.073Z"
   },
   {
    "duration": 56,
    "start_time": "2022-09-12T14:39:35.271Z"
   },
   {
    "duration": 9,
    "start_time": "2022-09-12T14:39:46.140Z"
   },
   {
    "duration": 9,
    "start_time": "2022-09-12T14:39:59.920Z"
   },
   {
    "duration": 9,
    "start_time": "2022-09-12T14:40:16.293Z"
   },
   {
    "duration": 9,
    "start_time": "2022-09-12T14:40:35.189Z"
   },
   {
    "duration": 10,
    "start_time": "2022-09-12T14:42:12.297Z"
   },
   {
    "duration": 7,
    "start_time": "2022-09-12T14:42:51.026Z"
   },
   {
    "duration": 7,
    "start_time": "2022-09-12T14:43:04.897Z"
   },
   {
    "duration": 22,
    "start_time": "2022-09-12T14:44:44.207Z"
   },
   {
    "duration": 13,
    "start_time": "2022-09-12T14:44:51.357Z"
   },
   {
    "duration": 71,
    "start_time": "2022-09-12T14:45:37.633Z"
   },
   {
    "duration": 7,
    "start_time": "2022-09-12T14:45:45.481Z"
   },
   {
    "duration": 10,
    "start_time": "2022-09-12T14:45:55.668Z"
   },
   {
    "duration": 9,
    "start_time": "2022-09-12T14:46:15.142Z"
   },
   {
    "duration": 8,
    "start_time": "2022-09-12T14:46:41.096Z"
   },
   {
    "duration": 60,
    "start_time": "2022-09-12T14:48:20.490Z"
   },
   {
    "duration": 5,
    "start_time": "2022-09-12T15:34:03.717Z"
   },
   {
    "duration": 5,
    "start_time": "2022-09-12T15:34:17.690Z"
   },
   {
    "duration": 17,
    "start_time": "2022-09-12T15:34:33.426Z"
   },
   {
    "duration": 9,
    "start_time": "2022-09-12T15:34:49.799Z"
   },
   {
    "duration": 4,
    "start_time": "2022-09-12T15:34:59.927Z"
   },
   {
    "duration": 10,
    "start_time": "2022-09-12T15:35:13.179Z"
   },
   {
    "duration": 11,
    "start_time": "2022-09-12T15:35:24.924Z"
   },
   {
    "duration": 8,
    "start_time": "2022-09-12T15:35:47.867Z"
   },
   {
    "duration": 55,
    "start_time": "2022-09-12T15:35:58.836Z"
   },
   {
    "duration": 6,
    "start_time": "2022-09-12T15:37:11.744Z"
   },
   {
    "duration": 5,
    "start_time": "2022-09-12T15:37:16.972Z"
   },
   {
    "duration": 6,
    "start_time": "2022-09-12T15:37:34.746Z"
   },
   {
    "duration": 5,
    "start_time": "2022-09-12T15:37:39.482Z"
   },
   {
    "duration": 58,
    "start_time": "2022-09-12T15:38:17.243Z"
   },
   {
    "duration": 5,
    "start_time": "2022-09-12T15:39:26.353Z"
   },
   {
    "duration": 187,
    "start_time": "2022-09-12T15:42:01.002Z"
   },
   {
    "duration": 160,
    "start_time": "2022-09-12T15:42:10.406Z"
   },
   {
    "duration": 11,
    "start_time": "2022-09-12T15:42:38.995Z"
   },
   {
    "duration": 688,
    "start_time": "2022-09-13T07:45:11.627Z"
   },
   {
    "duration": 14,
    "start_time": "2022-09-13T07:45:13.149Z"
   },
   {
    "duration": 26,
    "start_time": "2022-09-13T07:45:13.572Z"
   },
   {
    "duration": 18,
    "start_time": "2022-09-13T07:45:14.662Z"
   },
   {
    "duration": 20,
    "start_time": "2022-09-13T07:45:15.509Z"
   },
   {
    "duration": 7,
    "start_time": "2022-09-13T07:45:15.952Z"
   },
   {
    "duration": 14,
    "start_time": "2022-09-13T07:45:16.569Z"
   },
   {
    "duration": 28,
    "start_time": "2022-09-13T07:45:16.872Z"
   },
   {
    "duration": 5,
    "start_time": "2022-09-13T07:45:17.609Z"
   },
   {
    "duration": 9,
    "start_time": "2022-09-13T07:45:18.418Z"
   },
   {
    "duration": 8,
    "start_time": "2022-09-13T07:45:19.694Z"
   },
   {
    "duration": 15,
    "start_time": "2022-09-13T07:45:19.950Z"
   },
   {
    "duration": 10,
    "start_time": "2022-09-13T07:45:20.602Z"
   },
   {
    "duration": 11,
    "start_time": "2022-09-13T07:45:21.643Z"
   },
   {
    "duration": 5,
    "start_time": "2022-09-13T07:45:22.269Z"
   },
   {
    "duration": 7,
    "start_time": "2022-09-13T07:45:22.579Z"
   },
   {
    "duration": 9,
    "start_time": "2022-09-13T07:45:23.366Z"
   },
   {
    "duration": 65,
    "start_time": "2022-09-13T07:45:24.284Z"
   },
   {
    "duration": 3,
    "start_time": "2022-09-13T07:46:33.443Z"
   },
   {
    "duration": 7,
    "start_time": "2022-09-13T07:46:45.365Z"
   },
   {
    "duration": 7,
    "start_time": "2022-09-13T07:46:49.177Z"
   },
   {
    "duration": 495,
    "start_time": "2022-09-13T07:47:05.901Z"
   },
   {
    "duration": 8,
    "start_time": "2022-09-13T07:47:06.398Z"
   },
   {
    "duration": 17,
    "start_time": "2022-09-13T07:47:06.625Z"
   },
   {
    "duration": 15,
    "start_time": "2022-09-13T07:47:06.998Z"
   },
   {
    "duration": 19,
    "start_time": "2022-09-13T07:47:07.325Z"
   },
   {
    "duration": 6,
    "start_time": "2022-09-13T07:47:07.630Z"
   },
   {
    "duration": 11,
    "start_time": "2022-09-13T07:47:07.942Z"
   },
   {
    "duration": 27,
    "start_time": "2022-09-13T07:47:08.062Z"
   },
   {
    "duration": 4,
    "start_time": "2022-09-13T07:47:08.617Z"
   },
   {
    "duration": 8,
    "start_time": "2022-09-13T07:47:08.930Z"
   },
   {
    "duration": 6,
    "start_time": "2022-09-13T07:47:09.473Z"
   },
   {
    "duration": 10,
    "start_time": "2022-09-13T07:47:09.645Z"
   },
   {
    "duration": 7,
    "start_time": "2022-09-13T07:47:09.863Z"
   },
   {
    "duration": 10,
    "start_time": "2022-09-13T07:47:10.210Z"
   },
   {
    "duration": 7,
    "start_time": "2022-09-13T07:47:11.439Z"
   },
   {
    "duration": 6,
    "start_time": "2022-09-13T07:47:11.916Z"
   },
   {
    "duration": 9,
    "start_time": "2022-09-13T07:47:15.006Z"
   },
   {
    "duration": 83,
    "start_time": "2022-09-13T07:50:58.811Z"
   },
   {
    "duration": 17,
    "start_time": "2022-09-13T07:57:20.913Z"
   },
   {
    "duration": 9,
    "start_time": "2022-09-13T07:58:02.789Z"
   },
   {
    "duration": 8,
    "start_time": "2022-09-13T07:58:50.448Z"
   },
   {
    "duration": 4,
    "start_time": "2022-09-13T07:59:00.046Z"
   },
   {
    "duration": 551,
    "start_time": "2022-09-13T07:59:14.601Z"
   },
   {
    "duration": 10,
    "start_time": "2022-09-13T07:59:15.154Z"
   },
   {
    "duration": 39,
    "start_time": "2022-09-13T07:59:15.165Z"
   },
   {
    "duration": 19,
    "start_time": "2022-09-13T07:59:15.394Z"
   },
   {
    "duration": 20,
    "start_time": "2022-09-13T07:59:15.688Z"
   },
   {
    "duration": 6,
    "start_time": "2022-09-13T07:59:16.014Z"
   },
   {
    "duration": 12,
    "start_time": "2022-09-13T07:59:16.279Z"
   },
   {
    "duration": 30,
    "start_time": "2022-09-13T07:59:16.441Z"
   },
   {
    "duration": 4,
    "start_time": "2022-09-13T07:59:17.160Z"
   },
   {
    "duration": 8,
    "start_time": "2022-09-13T07:59:17.642Z"
   },
   {
    "duration": 6,
    "start_time": "2022-09-13T07:59:18.735Z"
   },
   {
    "duration": 10,
    "start_time": "2022-09-13T07:59:19.090Z"
   },
   {
    "duration": 8,
    "start_time": "2022-09-13T07:59:19.648Z"
   },
   {
    "duration": 9,
    "start_time": "2022-09-13T07:59:20.774Z"
   },
   {
    "duration": 6,
    "start_time": "2022-09-13T07:59:21.996Z"
   },
   {
    "duration": 5,
    "start_time": "2022-09-13T07:59:22.596Z"
   },
   {
    "duration": 8,
    "start_time": "2022-09-13T07:59:25.977Z"
   },
   {
    "duration": 8,
    "start_time": "2022-09-13T08:02:00.093Z"
   },
   {
    "duration": 20,
    "start_time": "2022-09-13T08:02:17.772Z"
   },
   {
    "duration": 9,
    "start_time": "2022-09-13T08:02:47.553Z"
   },
   {
    "duration": 574,
    "start_time": "2022-09-13T08:03:07.877Z"
   },
   {
    "duration": 8,
    "start_time": "2022-09-13T08:03:08.453Z"
   },
   {
    "duration": 26,
    "start_time": "2022-09-13T08:03:08.463Z"
   },
   {
    "duration": 32,
    "start_time": "2022-09-13T08:03:08.492Z"
   },
   {
    "duration": 29,
    "start_time": "2022-09-13T08:03:08.527Z"
   },
   {
    "duration": 6,
    "start_time": "2022-09-13T08:03:08.633Z"
   },
   {
    "duration": 13,
    "start_time": "2022-09-13T08:03:08.793Z"
   },
   {
    "duration": 30,
    "start_time": "2022-09-13T08:03:08.877Z"
   },
   {
    "duration": 6,
    "start_time": "2022-09-13T08:03:09.141Z"
   },
   {
    "duration": 14,
    "start_time": "2022-09-13T08:03:09.299Z"
   },
   {
    "duration": 6,
    "start_time": "2022-09-13T08:03:09.548Z"
   },
   {
    "duration": 11,
    "start_time": "2022-09-13T08:03:09.659Z"
   },
   {
    "duration": 8,
    "start_time": "2022-09-13T08:03:09.717Z"
   },
   {
    "duration": 10,
    "start_time": "2022-09-13T08:03:09.884Z"
   },
   {
    "duration": 5,
    "start_time": "2022-09-13T08:03:10.052Z"
   },
   {
    "duration": 6,
    "start_time": "2022-09-13T08:03:10.135Z"
   },
   {
    "duration": 8,
    "start_time": "2022-09-13T08:03:12.593Z"
   },
   {
    "duration": 368,
    "start_time": "2022-09-13T08:03:14.544Z"
   },
   {
    "duration": 16,
    "start_time": "2022-09-13T08:04:07.735Z"
   },
   {
    "duration": 67,
    "start_time": "2022-09-13T08:09:06.034Z"
   },
   {
    "duration": 9,
    "start_time": "2022-09-13T08:17:14.516Z"
   },
   {
    "duration": 9,
    "start_time": "2022-09-13T08:17:20.737Z"
   },
   {
    "duration": 293,
    "start_time": "2022-09-13T08:18:23.183Z"
   },
   {
    "duration": 25,
    "start_time": "2022-09-13T08:18:53.932Z"
   },
   {
    "duration": 12,
    "start_time": "2022-09-13T08:19:08.181Z"
   },
   {
    "duration": 12,
    "start_time": "2022-09-13T08:19:15.828Z"
   },
   {
    "duration": 46,
    "start_time": "2022-09-13T08:19:35.936Z"
   },
   {
    "duration": 82,
    "start_time": "2022-09-13T08:20:51.985Z"
   },
   {
    "duration": 22,
    "start_time": "2022-09-13T08:21:03.313Z"
   },
   {
    "duration": 18,
    "start_time": "2022-09-13T08:21:25.897Z"
   },
   {
    "duration": 21,
    "start_time": "2022-09-13T08:21:30.997Z"
   },
   {
    "duration": 19,
    "start_time": "2022-09-13T08:21:59.524Z"
   },
   {
    "duration": 4,
    "start_time": "2022-09-13T08:22:12.266Z"
   },
   {
    "duration": 8,
    "start_time": "2022-09-13T08:22:16.304Z"
   },
   {
    "duration": 108,
    "start_time": "2022-09-13T09:58:18.628Z"
   },
   {
    "duration": 81,
    "start_time": "2022-09-13T09:58:26.504Z"
   },
   {
    "duration": 75,
    "start_time": "2022-09-13T09:58:32.779Z"
   },
   {
    "duration": 13,
    "start_time": "2022-09-13T09:58:37.934Z"
   },
   {
    "duration": 69,
    "start_time": "2022-09-13T09:58:50.471Z"
   },
   {
    "duration": 22,
    "start_time": "2022-09-13T09:58:54.935Z"
   },
   {
    "duration": 3,
    "start_time": "2022-09-13T09:59:02.084Z"
   },
   {
    "duration": 6,
    "start_time": "2022-09-13T09:59:04.672Z"
   },
   {
    "duration": 118,
    "start_time": "2022-09-13T09:59:22.985Z"
   },
   {
    "duration": 18,
    "start_time": "2022-09-13T10:00:35.670Z"
   },
   {
    "duration": 19,
    "start_time": "2022-09-13T10:01:44.735Z"
   },
   {
    "duration": 75,
    "start_time": "2022-09-13T10:03:13.662Z"
   },
   {
    "duration": 95,
    "start_time": "2022-09-13T10:03:27.786Z"
   },
   {
    "duration": 19,
    "start_time": "2022-09-13T10:08:09.649Z"
   },
   {
    "duration": 17,
    "start_time": "2022-09-13T10:08:17.243Z"
   },
   {
    "duration": 22,
    "start_time": "2022-09-13T10:08:29.838Z"
   },
   {
    "duration": 4,
    "start_time": "2022-09-13T10:08:40.531Z"
   },
   {
    "duration": 5,
    "start_time": "2022-09-13T10:08:42.761Z"
   },
   {
    "duration": 5,
    "start_time": "2022-09-13T10:08:52.438Z"
   },
   {
    "duration": 71,
    "start_time": "2022-09-13T10:09:17.432Z"
   },
   {
    "duration": 4,
    "start_time": "2022-09-13T10:09:30.293Z"
   },
   {
    "duration": 5,
    "start_time": "2022-09-13T10:09:54.894Z"
   },
   {
    "duration": 7,
    "start_time": "2022-09-13T10:10:06.104Z"
   },
   {
    "duration": 18,
    "start_time": "2022-09-13T10:10:33.898Z"
   },
   {
    "duration": 5,
    "start_time": "2022-09-13T10:10:38.094Z"
   },
   {
    "duration": 13,
    "start_time": "2022-09-13T10:10:46.204Z"
   },
   {
    "duration": 10,
    "start_time": "2022-09-13T10:11:08.540Z"
   },
   {
    "duration": 13,
    "start_time": "2022-09-13T10:12:39.597Z"
   },
   {
    "duration": 9,
    "start_time": "2022-09-13T10:13:36.249Z"
   },
   {
    "duration": 538,
    "start_time": "2022-09-13T10:15:45.463Z"
   },
   {
    "duration": 3,
    "start_time": "2022-09-13T10:25:31.709Z"
   },
   {
    "duration": 534,
    "start_time": "2022-09-13T10:25:42.261Z"
   },
   {
    "duration": 4,
    "start_time": "2022-09-13T10:25:52.559Z"
   },
   {
    "duration": 4,
    "start_time": "2022-09-13T10:25:54.473Z"
   },
   {
    "duration": 82,
    "start_time": "2022-09-13T10:26:31.831Z"
   },
   {
    "duration": 113,
    "start_time": "2022-09-13T10:26:34.933Z"
   },
   {
    "duration": 86,
    "start_time": "2022-09-13T10:26:46.173Z"
   },
   {
    "duration": 81,
    "start_time": "2022-09-13T10:26:50.669Z"
   },
   {
    "duration": 7,
    "start_time": "2022-09-13T10:27:19.244Z"
   },
   {
    "duration": 9,
    "start_time": "2022-09-13T10:28:06.446Z"
   },
   {
    "duration": 5,
    "start_time": "2022-09-13T10:28:28.967Z"
   },
   {
    "duration": 5,
    "start_time": "2022-09-13T10:29:06.291Z"
   },
   {
    "duration": 5,
    "start_time": "2022-09-13T10:29:16.387Z"
   },
   {
    "duration": 6,
    "start_time": "2022-09-13T10:29:44.238Z"
   },
   {
    "duration": 8,
    "start_time": "2022-09-13T10:29:58.335Z"
   },
   {
    "duration": 11,
    "start_time": "2022-09-13T10:30:19.540Z"
   },
   {
    "duration": 16,
    "start_time": "2022-09-13T10:30:28.103Z"
   },
   {
    "duration": 9,
    "start_time": "2022-09-13T10:30:58.322Z"
   },
   {
    "duration": 6,
    "start_time": "2022-09-13T10:32:11.653Z"
   },
   {
    "duration": 7,
    "start_time": "2022-09-13T10:32:23.527Z"
   },
   {
    "duration": 9,
    "start_time": "2022-09-13T10:34:07.389Z"
   },
   {
    "duration": 7,
    "start_time": "2022-09-13T10:34:15.088Z"
   },
   {
    "duration": 7,
    "start_time": "2022-09-13T10:34:28.941Z"
   },
   {
    "duration": 8,
    "start_time": "2022-09-13T10:35:01.587Z"
   },
   {
    "duration": 15,
    "start_time": "2022-09-13T10:35:18.257Z"
   },
   {
    "duration": 43,
    "start_time": "2022-09-13T10:36:12.738Z"
   },
   {
    "duration": 8,
    "start_time": "2022-09-13T10:36:39.689Z"
   },
   {
    "duration": 7,
    "start_time": "2022-09-13T10:36:43.046Z"
   },
   {
    "duration": 7,
    "start_time": "2022-09-13T10:36:46.505Z"
   },
   {
    "duration": 8,
    "start_time": "2022-09-13T10:37:02.963Z"
   },
   {
    "duration": 35,
    "start_time": "2022-09-13T10:37:06.042Z"
   },
   {
    "duration": 1279,
    "start_time": "2022-09-13T11:17:00.473Z"
   },
   {
    "duration": 1222,
    "start_time": "2022-09-13T11:17:08.184Z"
   },
   {
    "duration": 1592,
    "start_time": "2022-09-13T11:17:22.250Z"
   },
   {
    "duration": 11,
    "start_time": "2022-09-13T11:17:35.656Z"
   },
   {
    "duration": 361,
    "start_time": "2022-09-13T11:18:57.706Z"
   },
   {
    "duration": 14,
    "start_time": "2022-09-13T11:19:37.283Z"
   },
   {
    "duration": 8,
    "start_time": "2022-09-13T11:19:44.659Z"
   },
   {
    "duration": 8,
    "start_time": "2022-09-13T11:19:52.950Z"
   },
   {
    "duration": 8,
    "start_time": "2022-09-13T11:19:57.952Z"
   },
   {
    "duration": 9,
    "start_time": "2022-09-13T11:20:11.054Z"
   },
   {
    "duration": 400,
    "start_time": "2022-09-13T12:31:57.587Z"
   },
   {
    "duration": 554,
    "start_time": "2022-09-13T12:32:01.764Z"
   },
   {
    "duration": 495,
    "start_time": "2022-09-13T12:32:06.926Z"
   },
   {
    "duration": 348,
    "start_time": "2022-09-13T12:32:53.210Z"
   },
   {
    "duration": 4,
    "start_time": "2022-09-13T12:38:24.464Z"
   },
   {
    "duration": 901,
    "start_time": "2022-09-13T12:38:38.052Z"
   },
   {
    "duration": 553,
    "start_time": "2022-09-13T12:38:59.105Z"
   },
   {
    "duration": 4,
    "start_time": "2022-09-13T12:40:34.612Z"
   },
   {
    "duration": 527,
    "start_time": "2022-09-13T12:40:48.256Z"
   },
   {
    "duration": 8,
    "start_time": "2022-09-13T12:40:48.785Z"
   },
   {
    "duration": 34,
    "start_time": "2022-09-13T12:40:48.794Z"
   },
   {
    "duration": 15,
    "start_time": "2022-09-13T12:40:49.056Z"
   },
   {
    "duration": 29,
    "start_time": "2022-09-13T12:40:49.392Z"
   },
   {
    "duration": 8,
    "start_time": "2022-09-13T12:40:49.701Z"
   },
   {
    "duration": 13,
    "start_time": "2022-09-13T12:40:50.000Z"
   },
   {
    "duration": 35,
    "start_time": "2022-09-13T12:40:50.151Z"
   },
   {
    "duration": 7,
    "start_time": "2022-09-13T12:40:50.767Z"
   },
   {
    "duration": 9,
    "start_time": "2022-09-13T12:40:51.155Z"
   },
   {
    "duration": 7,
    "start_time": "2022-09-13T12:40:51.771Z"
   },
   {
    "duration": 14,
    "start_time": "2022-09-13T12:40:51.972Z"
   },
   {
    "duration": 8,
    "start_time": "2022-09-13T12:40:52.178Z"
   },
   {
    "duration": 10,
    "start_time": "2022-09-13T12:40:52.676Z"
   },
   {
    "duration": 6,
    "start_time": "2022-09-13T12:40:53.759Z"
   },
   {
    "duration": 6,
    "start_time": "2022-09-13T12:40:55.552Z"
   },
   {
    "duration": 9,
    "start_time": "2022-09-13T12:40:57.655Z"
   },
   {
    "duration": 77,
    "start_time": "2022-09-13T12:40:59.933Z"
   },
   {
    "duration": 4,
    "start_time": "2022-09-13T12:41:04.108Z"
   },
   {
    "duration": 6,
    "start_time": "2022-09-13T12:41:10.892Z"
   },
   {
    "duration": 5,
    "start_time": "2022-09-13T12:41:15.696Z"
   },
   {
    "duration": 5,
    "start_time": "2022-09-13T12:41:16.863Z"
   },
   {
    "duration": 8,
    "start_time": "2022-09-13T12:41:22.099Z"
   },
   {
    "duration": 2,
    "start_time": "2022-09-13T12:41:23.717Z"
   },
   {
    "duration": 5,
    "start_time": "2022-09-13T12:41:24.125Z"
   },
   {
    "duration": 482,
    "start_time": "2022-09-13T12:41:46.305Z"
   },
   {
    "duration": 33,
    "start_time": "2022-09-13T12:41:50.217Z"
   },
   {
    "duration": 18,
    "start_time": "2022-09-13T12:42:03.955Z"
   },
   {
    "duration": 17,
    "start_time": "2022-09-13T12:42:16.063Z"
   },
   {
    "duration": 24,
    "start_time": "2022-09-13T12:42:18.987Z"
   },
   {
    "duration": 8,
    "start_time": "2022-09-13T12:42:26.789Z"
   },
   {
    "duration": 8,
    "start_time": "2022-09-13T12:53:08.971Z"
   },
   {
    "duration": 12,
    "start_time": "2022-09-13T12:53:28.888Z"
   },
   {
    "duration": 35,
    "start_time": "2022-09-13T13:58:01.655Z"
   },
   {
    "duration": 544,
    "start_time": "2022-09-13T13:58:11.859Z"
   },
   {
    "duration": 8,
    "start_time": "2022-09-13T13:58:12.405Z"
   },
   {
    "duration": 26,
    "start_time": "2022-09-13T13:58:12.415Z"
   },
   {
    "duration": 16,
    "start_time": "2022-09-13T13:58:12.443Z"
   },
   {
    "duration": 38,
    "start_time": "2022-09-13T13:58:12.460Z"
   },
   {
    "duration": 5,
    "start_time": "2022-09-13T13:58:12.610Z"
   },
   {
    "duration": 12,
    "start_time": "2022-09-13T13:58:12.776Z"
   },
   {
    "duration": 29,
    "start_time": "2022-09-13T13:58:12.861Z"
   },
   {
    "duration": 5,
    "start_time": "2022-09-13T13:58:13.112Z"
   },
   {
    "duration": 10,
    "start_time": "2022-09-13T13:58:13.278Z"
   },
   {
    "duration": 6,
    "start_time": "2022-09-13T13:58:13.550Z"
   },
   {
    "duration": 10,
    "start_time": "2022-09-13T13:58:13.609Z"
   },
   {
    "duration": 7,
    "start_time": "2022-09-13T13:58:13.693Z"
   },
   {
    "duration": 11,
    "start_time": "2022-09-13T13:58:13.858Z"
   },
   {
    "duration": 5,
    "start_time": "2022-09-13T13:58:14.047Z"
   },
   {
    "duration": 6,
    "start_time": "2022-09-13T13:58:14.110Z"
   },
   {
    "duration": 8,
    "start_time": "2022-09-13T13:58:14.291Z"
   },
   {
    "duration": 88,
    "start_time": "2022-09-13T13:58:18.846Z"
   },
   {
    "duration": 38,
    "start_time": "2022-09-13T13:59:01.962Z"
   },
   {
    "duration": 587,
    "start_time": "2022-09-13T14:00:42.819Z"
   },
   {
    "duration": 685,
    "start_time": "2022-09-13T14:00:53.051Z"
   },
   {
    "duration": 764,
    "start_time": "2022-09-13T14:01:01.054Z"
   },
   {
    "duration": 5,
    "start_time": "2022-09-13T14:01:28.994Z"
   },
   {
    "duration": 7,
    "start_time": "2022-09-13T14:01:56.159Z"
   },
   {
    "duration": 11,
    "start_time": "2022-09-13T14:04:07.983Z"
   },
   {
    "duration": 9,
    "start_time": "2022-09-13T14:04:45.884Z"
   },
   {
    "duration": 9,
    "start_time": "2022-09-13T14:05:33.608Z"
   },
   {
    "duration": 88,
    "start_time": "2022-09-13T14:05:58.518Z"
   },
   {
    "duration": 31,
    "start_time": "2022-09-13T14:06:15.014Z"
   },
   {
    "duration": 51,
    "start_time": "2022-09-13T14:07:18.774Z"
   },
   {
    "duration": 27,
    "start_time": "2022-09-13T14:07:23.816Z"
   },
   {
    "duration": 16,
    "start_time": "2022-09-13T14:07:50.117Z"
   },
   {
    "duration": 17,
    "start_time": "2022-09-13T14:07:56.176Z"
   },
   {
    "duration": 26,
    "start_time": "2022-09-13T14:08:13.985Z"
   },
   {
    "duration": 23,
    "start_time": "2022-09-13T14:14:24.760Z"
   },
   {
    "duration": 27,
    "start_time": "2022-09-13T14:14:37.385Z"
   },
   {
    "duration": 23,
    "start_time": "2022-09-13T14:14:45.893Z"
   },
   {
    "duration": 9,
    "start_time": "2022-09-13T14:14:50.640Z"
   },
   {
    "duration": 15,
    "start_time": "2022-09-13T14:15:10.966Z"
   },
   {
    "duration": 13,
    "start_time": "2022-09-13T14:15:17.257Z"
   },
   {
    "duration": 9,
    "start_time": "2022-09-13T14:17:24.258Z"
   },
   {
    "duration": 16,
    "start_time": "2022-09-13T14:19:45.785Z"
   },
   {
    "duration": 7,
    "start_time": "2022-09-13T14:20:00.136Z"
   },
   {
    "duration": 8,
    "start_time": "2022-09-13T14:20:06.972Z"
   },
   {
    "duration": 11,
    "start_time": "2022-09-13T14:21:21.937Z"
   },
   {
    "duration": 19,
    "start_time": "2022-09-13T14:21:41.333Z"
   },
   {
    "duration": 7,
    "start_time": "2022-09-13T14:22:05.947Z"
   },
   {
    "duration": 12,
    "start_time": "2022-09-13T14:22:13.514Z"
   },
   {
    "duration": 8,
    "start_time": "2022-09-13T14:22:16.699Z"
   },
   {
    "duration": 8,
    "start_time": "2022-09-13T14:22:43.522Z"
   },
   {
    "duration": 8,
    "start_time": "2022-09-13T14:23:26.817Z"
   },
   {
    "duration": 94,
    "start_time": "2022-09-13T14:25:25.748Z"
   },
   {
    "duration": 31,
    "start_time": "2022-09-13T14:25:53.585Z"
   },
   {
    "duration": 19,
    "start_time": "2022-09-13T14:26:08.855Z"
   },
   {
    "duration": 9,
    "start_time": "2022-09-13T14:26:13.440Z"
   },
   {
    "duration": 7,
    "start_time": "2022-09-13T14:26:46.744Z"
   },
   {
    "duration": 4,
    "start_time": "2022-09-13T14:26:55.843Z"
   },
   {
    "duration": 7,
    "start_time": "2022-09-13T14:30:40.841Z"
   },
   {
    "duration": 4,
    "start_time": "2022-09-13T14:30:44.732Z"
   },
   {
    "duration": 485,
    "start_time": "2022-09-13T14:31:25.439Z"
   },
   {
    "duration": 8,
    "start_time": "2022-09-13T14:31:25.927Z"
   },
   {
    "duration": 26,
    "start_time": "2022-09-13T14:31:25.937Z"
   },
   {
    "duration": 32,
    "start_time": "2022-09-13T14:31:25.965Z"
   },
   {
    "duration": 21,
    "start_time": "2022-09-13T14:31:26.013Z"
   },
   {
    "duration": 7,
    "start_time": "2022-09-13T14:31:26.182Z"
   },
   {
    "duration": 13,
    "start_time": "2022-09-13T14:31:26.352Z"
   },
   {
    "duration": 30,
    "start_time": "2022-09-13T14:31:26.437Z"
   },
   {
    "duration": 5,
    "start_time": "2022-09-13T14:31:26.683Z"
   },
   {
    "duration": 9,
    "start_time": "2022-09-13T14:31:26.850Z"
   },
   {
    "duration": 7,
    "start_time": "2022-09-13T14:31:27.103Z"
   },
   {
    "duration": 16,
    "start_time": "2022-09-13T14:31:27.191Z"
   },
   {
    "duration": 7,
    "start_time": "2022-09-13T14:31:27.271Z"
   },
   {
    "duration": 12,
    "start_time": "2022-09-13T14:31:27.437Z"
   },
   {
    "duration": 5,
    "start_time": "2022-09-13T14:31:27.606Z"
   },
   {
    "duration": 6,
    "start_time": "2022-09-13T14:31:27.746Z"
   },
   {
    "duration": 9,
    "start_time": "2022-09-13T14:31:27.854Z"
   },
   {
    "duration": 12,
    "start_time": "2022-09-13T14:31:28.023Z"
   },
   {
    "duration": 6,
    "start_time": "2022-09-13T14:31:28.108Z"
   },
   {
    "duration": 8,
    "start_time": "2022-09-13T14:31:28.277Z"
   },
   {
    "duration": 736,
    "start_time": "2022-09-13T14:36:00.696Z"
   },
   {
    "duration": 9,
    "start_time": "2022-09-13T14:36:01.434Z"
   },
   {
    "duration": 52,
    "start_time": "2022-09-13T14:36:01.445Z"
   },
   {
    "duration": 24,
    "start_time": "2022-09-13T14:36:01.500Z"
   },
   {
    "duration": 44,
    "start_time": "2022-09-13T14:36:01.526Z"
   },
   {
    "duration": 16,
    "start_time": "2022-09-13T14:36:01.573Z"
   },
   {
    "duration": 20,
    "start_time": "2022-09-13T14:36:01.616Z"
   },
   {
    "duration": 31,
    "start_time": "2022-09-13T14:36:01.698Z"
   },
   {
    "duration": 7,
    "start_time": "2022-09-13T14:36:01.951Z"
   },
   {
    "duration": 15,
    "start_time": "2022-09-13T14:36:02.117Z"
   },
   {
    "duration": 8,
    "start_time": "2022-09-13T14:36:02.366Z"
   },
   {
    "duration": 12,
    "start_time": "2022-09-13T14:36:02.450Z"
   },
   {
    "duration": 7,
    "start_time": "2022-09-13T14:36:02.539Z"
   },
   {
    "duration": 11,
    "start_time": "2022-09-13T14:36:02.698Z"
   },
   {
    "duration": 5,
    "start_time": "2022-09-13T14:36:02.867Z"
   },
   {
    "duration": 5,
    "start_time": "2022-09-13T14:36:02.950Z"
   },
   {
    "duration": 9,
    "start_time": "2022-09-13T14:36:11.499Z"
   },
   {
    "duration": 13,
    "start_time": "2022-09-13T14:36:14.096Z"
   },
   {
    "duration": 5,
    "start_time": "2022-09-13T14:36:37.485Z"
   },
   {
    "duration": 15,
    "start_time": "2022-09-13T14:49:37.344Z"
   },
   {
    "duration": 5,
    "start_time": "2022-09-13T14:49:39.649Z"
   },
   {
    "duration": 9,
    "start_time": "2022-09-13T14:49:42.213Z"
   },
   {
    "duration": 5,
    "start_time": "2022-09-13T14:49:47.947Z"
   },
   {
    "duration": 7,
    "start_time": "2022-09-13T14:50:08.647Z"
   },
   {
    "duration": 8,
    "start_time": "2022-09-13T14:50:11.957Z"
   },
   {
    "duration": 15,
    "start_time": "2022-09-13T14:50:52.040Z"
   },
   {
    "duration": 23,
    "start_time": "2022-09-13T14:51:41.579Z"
   },
   {
    "duration": 8,
    "start_time": "2022-09-13T14:51:48.369Z"
   },
   {
    "duration": 7,
    "start_time": "2022-09-13T14:51:56.048Z"
   },
   {
    "duration": 10,
    "start_time": "2022-09-13T14:52:11.901Z"
   },
   {
    "duration": 113,
    "start_time": "2022-09-13T14:53:08.510Z"
   },
   {
    "duration": 69,
    "start_time": "2022-09-13T14:53:10.965Z"
   },
   {
    "duration": 26,
    "start_time": "2022-09-13T14:53:32.640Z"
   },
   {
    "duration": 6,
    "start_time": "2022-09-13T14:55:09.034Z"
   },
   {
    "duration": 7,
    "start_time": "2022-09-13T14:55:14.144Z"
   },
   {
    "duration": 3,
    "start_time": "2022-09-13T14:55:14.806Z"
   },
   {
    "duration": 10,
    "start_time": "2022-09-13T14:55:15.797Z"
   },
   {
    "duration": 28,
    "start_time": "2022-09-13T14:55:29.804Z"
   },
   {
    "duration": 9,
    "start_time": "2022-09-13T14:55:39.896Z"
   },
   {
    "duration": 5,
    "start_time": "2022-09-13T14:55:44.962Z"
   },
   {
    "duration": 4,
    "start_time": "2022-09-13T14:55:47.681Z"
   },
   {
    "duration": 5,
    "start_time": "2022-09-13T14:55:51.000Z"
   },
   {
    "duration": 9,
    "start_time": "2022-09-13T14:55:52.762Z"
   },
   {
    "duration": 463,
    "start_time": "2022-09-13T14:56:02.840Z"
   },
   {
    "duration": 9,
    "start_time": "2022-09-13T14:56:03.305Z"
   },
   {
    "duration": 21,
    "start_time": "2022-09-13T14:56:03.317Z"
   },
   {
    "duration": 17,
    "start_time": "2022-09-13T14:56:03.340Z"
   },
   {
    "duration": 23,
    "start_time": "2022-09-13T14:56:03.419Z"
   },
   {
    "duration": 6,
    "start_time": "2022-09-13T14:56:03.584Z"
   },
   {
    "duration": 11,
    "start_time": "2022-09-13T14:56:03.753Z"
   },
   {
    "duration": 30,
    "start_time": "2022-09-13T14:56:03.847Z"
   },
   {
    "duration": 5,
    "start_time": "2022-09-13T14:56:04.087Z"
   },
   {
    "duration": 8,
    "start_time": "2022-09-13T14:56:04.253Z"
   },
   {
    "duration": 6,
    "start_time": "2022-09-13T14:56:04.503Z"
   },
   {
    "duration": 13,
    "start_time": "2022-09-13T14:56:04.588Z"
   },
   {
    "duration": 7,
    "start_time": "2022-09-13T14:56:04.672Z"
   },
   {
    "duration": 11,
    "start_time": "2022-09-13T14:56:04.846Z"
   },
   {
    "duration": 6,
    "start_time": "2022-09-13T14:56:05.007Z"
   },
   {
    "duration": 7,
    "start_time": "2022-09-13T14:56:05.093Z"
   },
   {
    "duration": 9,
    "start_time": "2022-09-13T14:56:05.261Z"
   },
   {
    "duration": 14,
    "start_time": "2022-09-13T14:56:05.438Z"
   },
   {
    "duration": 5,
    "start_time": "2022-09-13T14:56:05.512Z"
   },
   {
    "duration": 8,
    "start_time": "2022-09-13T14:56:05.677Z"
   },
   {
    "duration": 5,
    "start_time": "2022-09-13T14:56:05.850Z"
   },
   {
    "duration": 5,
    "start_time": "2022-09-13T14:56:05.939Z"
   },
   {
    "duration": 7,
    "start_time": "2022-09-13T14:56:06.097Z"
   },
   {
    "duration": 2,
    "start_time": "2022-09-13T14:56:07.317Z"
   },
   {
    "duration": 6,
    "start_time": "2022-09-13T14:56:08.752Z"
   },
   {
    "duration": 13,
    "start_time": "2022-09-13T14:56:12.581Z"
   },
   {
    "duration": 17,
    "start_time": "2022-09-13T14:56:14.986Z"
   },
   {
    "duration": 8,
    "start_time": "2022-09-13T14:56:16.553Z"
   },
   {
    "duration": 30,
    "start_time": "2022-09-13T15:00:49.655Z"
   },
   {
    "duration": 2,
    "start_time": "2022-09-13T15:01:28.875Z"
   },
   {
    "duration": 7,
    "start_time": "2022-09-13T15:01:45.122Z"
   },
   {
    "duration": 37,
    "start_time": "2022-09-13T15:11:00.989Z"
   },
   {
    "duration": 52,
    "start_time": "2022-09-13T15:11:08.144Z"
   },
   {
    "duration": 500,
    "start_time": "2022-09-13T15:11:35.014Z"
   },
   {
    "duration": 9,
    "start_time": "2022-09-13T15:11:35.516Z"
   },
   {
    "duration": 21,
    "start_time": "2022-09-13T15:11:35.526Z"
   },
   {
    "duration": 15,
    "start_time": "2022-09-13T15:11:35.549Z"
   },
   {
    "duration": 23,
    "start_time": "2022-09-13T15:11:35.602Z"
   },
   {
    "duration": 7,
    "start_time": "2022-09-13T15:11:35.767Z"
   },
   {
    "duration": 16,
    "start_time": "2022-09-13T15:11:35.945Z"
   },
   {
    "duration": 37,
    "start_time": "2022-09-13T15:11:36.022Z"
   },
   {
    "duration": 5,
    "start_time": "2022-09-13T15:11:36.270Z"
   },
   {
    "duration": 8,
    "start_time": "2022-09-13T15:11:36.441Z"
   },
   {
    "duration": 6,
    "start_time": "2022-09-13T15:11:36.686Z"
   },
   {
    "duration": 9,
    "start_time": "2022-09-13T15:11:36.770Z"
   },
   {
    "duration": 7,
    "start_time": "2022-09-13T15:11:36.853Z"
   },
   {
    "duration": 12,
    "start_time": "2022-09-13T15:11:37.019Z"
   },
   {
    "duration": 7,
    "start_time": "2022-09-13T15:11:37.186Z"
   },
   {
    "duration": 5,
    "start_time": "2022-09-13T15:11:37.269Z"
   },
   {
    "duration": 8,
    "start_time": "2022-09-13T15:11:37.446Z"
   },
   {
    "duration": 17,
    "start_time": "2022-09-13T15:11:37.604Z"
   },
   {
    "duration": 4,
    "start_time": "2022-09-13T15:11:37.691Z"
   },
   {
    "duration": 8,
    "start_time": "2022-09-13T15:11:37.854Z"
   },
   {
    "duration": 6,
    "start_time": "2022-09-13T15:11:38.021Z"
   },
   {
    "duration": 5,
    "start_time": "2022-09-13T15:11:38.105Z"
   },
   {
    "duration": 7,
    "start_time": "2022-09-13T15:11:39.171Z"
   },
   {
    "duration": 2,
    "start_time": "2022-09-13T15:11:39.548Z"
   },
   {
    "duration": 5,
    "start_time": "2022-09-13T15:11:40.047Z"
   },
   {
    "duration": 12,
    "start_time": "2022-09-13T15:11:40.983Z"
   },
   {
    "duration": 16,
    "start_time": "2022-09-13T15:11:41.274Z"
   },
   {
    "duration": 10,
    "start_time": "2022-09-13T15:11:41.767Z"
   },
   {
    "duration": 7,
    "start_time": "2022-09-13T15:11:44.756Z"
   },
   {
    "duration": 2,
    "start_time": "2022-09-13T15:11:46.303Z"
   },
   {
    "duration": 7,
    "start_time": "2022-09-13T15:11:46.688Z"
   },
   {
    "duration": 62,
    "start_time": "2022-09-13T15:11:47.665Z"
   },
   {
    "duration": 510,
    "start_time": "2022-09-13T15:12:05.650Z"
   },
   {
    "duration": 9,
    "start_time": "2022-09-13T15:12:06.162Z"
   },
   {
    "duration": 20,
    "start_time": "2022-09-13T15:12:06.173Z"
   },
   {
    "duration": 15,
    "start_time": "2022-09-13T15:12:06.195Z"
   },
   {
    "duration": 19,
    "start_time": "2022-09-13T15:12:06.219Z"
   },
   {
    "duration": 7,
    "start_time": "2022-09-13T15:12:06.387Z"
   },
   {
    "duration": 14,
    "start_time": "2022-09-13T15:12:06.555Z"
   },
   {
    "duration": 32,
    "start_time": "2022-09-13T15:12:06.646Z"
   },
   {
    "duration": 5,
    "start_time": "2022-09-13T15:12:06.890Z"
   },
   {
    "duration": 9,
    "start_time": "2022-09-13T15:12:07.059Z"
   },
   {
    "duration": 6,
    "start_time": "2022-09-13T15:12:07.310Z"
   },
   {
    "duration": 13,
    "start_time": "2022-09-13T15:12:07.392Z"
   },
   {
    "duration": 11,
    "start_time": "2022-09-13T15:12:07.493Z"
   },
   {
    "duration": 13,
    "start_time": "2022-09-13T15:12:07.647Z"
   },
   {
    "duration": 8,
    "start_time": "2022-09-13T15:12:07.812Z"
   },
   {
    "duration": 8,
    "start_time": "2022-09-13T15:12:07.895Z"
   },
   {
    "duration": 11,
    "start_time": "2022-09-13T15:12:08.062Z"
   },
   {
    "duration": 16,
    "start_time": "2022-09-13T15:12:08.251Z"
   },
   {
    "duration": 10,
    "start_time": "2022-09-13T15:12:08.311Z"
   },
   {
    "duration": 7,
    "start_time": "2022-09-13T15:12:08.478Z"
   },
   {
    "duration": 6,
    "start_time": "2022-09-13T15:12:08.654Z"
   },
   {
    "duration": 5,
    "start_time": "2022-09-13T15:12:08.747Z"
   },
   {
    "duration": 7,
    "start_time": "2022-09-13T15:12:08.896Z"
   },
   {
    "duration": 2,
    "start_time": "2022-09-13T15:12:08.980Z"
   },
   {
    "duration": 6,
    "start_time": "2022-09-13T15:12:09.075Z"
   },
   {
    "duration": 13,
    "start_time": "2022-09-13T15:12:09.247Z"
   },
   {
    "duration": 18,
    "start_time": "2022-09-13T15:12:09.316Z"
   },
   {
    "duration": 9,
    "start_time": "2022-09-13T15:12:09.404Z"
   },
   {
    "duration": 7,
    "start_time": "2022-09-13T15:12:09.565Z"
   },
   {
    "duration": 3,
    "start_time": "2022-09-13T15:12:09.653Z"
   },
   {
    "duration": 8,
    "start_time": "2022-09-13T15:12:09.758Z"
   },
   {
    "duration": 62,
    "start_time": "2022-09-13T15:12:09.901Z"
   },
   {
    "duration": 4,
    "start_time": "2022-09-13T15:12:09.984Z"
   },
   {
    "duration": 3,
    "start_time": "2022-09-13T15:12:10.069Z"
   },
   {
    "duration": 3,
    "start_time": "2022-09-13T15:12:10.159Z"
   },
   {
    "duration": 2,
    "start_time": "2022-09-13T15:12:10.487Z"
   },
   {
    "duration": 4,
    "start_time": "2022-09-13T15:12:10.758Z"
   },
   {
    "duration": 3,
    "start_time": "2022-09-13T15:12:10.823Z"
   },
   {
    "duration": 2,
    "start_time": "2022-09-13T15:12:10.906Z"
   },
   {
    "duration": 3,
    "start_time": "2022-09-13T15:12:10.989Z"
   },
   {
    "duration": 3,
    "start_time": "2022-09-13T15:12:11.256Z"
   },
   {
    "duration": 3,
    "start_time": "2022-09-13T15:12:11.329Z"
   },
   {
    "duration": 3,
    "start_time": "2022-09-13T15:12:11.410Z"
   },
   {
    "duration": 3,
    "start_time": "2022-09-13T15:12:11.663Z"
   },
   {
    "duration": 3,
    "start_time": "2022-09-13T15:12:11.746Z"
   },
   {
    "duration": 3,
    "start_time": "2022-09-13T15:12:11.852Z"
   },
   {
    "duration": 3,
    "start_time": "2022-09-13T15:12:11.914Z"
   },
   {
    "duration": 2,
    "start_time": "2022-09-13T15:12:12.081Z"
   },
   {
    "duration": 3,
    "start_time": "2022-09-13T15:12:12.263Z"
   },
   {
    "duration": 2,
    "start_time": "2022-09-13T15:12:12.497Z"
   },
   {
    "duration": 2,
    "start_time": "2022-09-13T15:12:12.580Z"
   },
   {
    "duration": 2,
    "start_time": "2022-09-13T15:12:12.755Z"
   },
   {
    "duration": 2,
    "start_time": "2022-09-13T15:12:12.855Z"
   },
   {
    "duration": 3,
    "start_time": "2022-09-13T15:12:12.924Z"
   },
   {
    "duration": 2,
    "start_time": "2022-09-13T15:12:12.998Z"
   },
   {
    "duration": 2,
    "start_time": "2022-09-13T15:12:13.080Z"
   },
   {
    "duration": 2,
    "start_time": "2022-09-13T15:12:13.263Z"
   },
   {
    "duration": 2,
    "start_time": "2022-09-13T15:12:14.164Z"
   },
   {
    "duration": 2,
    "start_time": "2022-09-13T15:12:14.547Z"
   },
   {
    "duration": 3,
    "start_time": "2022-09-13T15:12:14.955Z"
   },
   {
    "duration": 2,
    "start_time": "2022-09-13T15:12:15.115Z"
   },
   {
    "duration": 2,
    "start_time": "2022-09-13T15:12:15.478Z"
   },
   {
    "duration": 2,
    "start_time": "2022-09-13T15:12:15.653Z"
   },
   {
    "duration": 3,
    "start_time": "2022-09-13T15:12:16.006Z"
   },
   {
    "duration": 3,
    "start_time": "2022-09-13T15:12:16.194Z"
   },
   {
    "duration": 2,
    "start_time": "2022-09-13T15:12:16.372Z"
   },
   {
    "duration": 2,
    "start_time": "2022-09-13T15:12:16.958Z"
   },
   {
    "duration": 2,
    "start_time": "2022-09-13T15:12:17.859Z"
   },
   {
    "duration": 3,
    "start_time": "2022-09-13T15:12:18.597Z"
   },
   {
    "duration": 2,
    "start_time": "2022-09-13T15:12:19.601Z"
   },
   {
    "duration": 34,
    "start_time": "2022-09-13T15:13:18.913Z"
   },
   {
    "duration": 51,
    "start_time": "2022-09-13T15:13:25.062Z"
   },
   {
    "duration": 494,
    "start_time": "2022-09-13T15:15:30.651Z"
   },
   {
    "duration": 548,
    "start_time": "2022-09-13T15:15:57.657Z"
   },
   {
    "duration": 35,
    "start_time": "2022-09-13T15:16:17.871Z"
   },
   {
    "duration": 4,
    "start_time": "2022-09-13T15:16:27.665Z"
   },
   {
    "duration": 4,
    "start_time": "2022-09-13T15:16:30.397Z"
   },
   {
    "duration": 6,
    "start_time": "2022-09-13T15:16:37.813Z"
   },
   {
    "duration": 495,
    "start_time": "2022-09-13T15:19:12.404Z"
   },
   {
    "duration": 8,
    "start_time": "2022-09-13T15:19:12.901Z"
   },
   {
    "duration": 33,
    "start_time": "2022-09-13T15:19:12.910Z"
   },
   {
    "duration": 35,
    "start_time": "2022-09-13T15:19:12.945Z"
   },
   {
    "duration": 24,
    "start_time": "2022-09-13T15:19:12.987Z"
   },
   {
    "duration": 8,
    "start_time": "2022-09-13T15:19:13.158Z"
   },
   {
    "duration": 16,
    "start_time": "2022-09-13T15:19:13.322Z"
   },
   {
    "duration": 30,
    "start_time": "2022-09-13T15:19:13.411Z"
   },
   {
    "duration": 6,
    "start_time": "2022-09-13T15:19:13.657Z"
   },
   {
    "duration": 11,
    "start_time": "2022-09-13T15:19:13.824Z"
   },
   {
    "duration": 8,
    "start_time": "2022-09-13T15:19:14.092Z"
   },
   {
    "duration": 14,
    "start_time": "2022-09-13T15:19:14.160Z"
   },
   {
    "duration": 11,
    "start_time": "2022-09-13T15:19:14.250Z"
   },
   {
    "duration": 13,
    "start_time": "2022-09-13T15:19:14.411Z"
   },
   {
    "duration": 6,
    "start_time": "2022-09-13T15:19:14.593Z"
   },
   {
    "duration": 7,
    "start_time": "2022-09-13T15:19:14.676Z"
   },
   {
    "duration": 10,
    "start_time": "2022-09-13T15:19:14.851Z"
   },
   {
    "duration": 15,
    "start_time": "2022-09-13T15:19:14.997Z"
   },
   {
    "duration": 5,
    "start_time": "2022-09-13T15:19:15.082Z"
   },
   {
    "duration": 7,
    "start_time": "2022-09-13T15:19:15.256Z"
   },
   {
    "duration": 6,
    "start_time": "2022-09-13T15:19:15.416Z"
   },
   {
    "duration": 6,
    "start_time": "2022-09-13T15:19:15.498Z"
   },
   {
    "duration": 7,
    "start_time": "2022-09-13T15:19:15.667Z"
   },
   {
    "duration": 3,
    "start_time": "2022-09-13T15:19:16.462Z"
   },
   {
    "duration": 7,
    "start_time": "2022-09-13T15:19:16.862Z"
   },
   {
    "duration": 13,
    "start_time": "2022-09-13T15:19:17.256Z"
   },
   {
    "duration": 18,
    "start_time": "2022-09-13T15:19:17.450Z"
   },
   {
    "duration": 8,
    "start_time": "2022-09-13T15:19:17.761Z"
   },
   {
    "duration": 7,
    "start_time": "2022-09-13T15:19:18.607Z"
   },
   {
    "duration": 3,
    "start_time": "2022-09-13T15:19:18.932Z"
   },
   {
    "duration": 9,
    "start_time": "2022-09-13T15:19:19.374Z"
   },
   {
    "duration": 36,
    "start_time": "2022-09-13T15:19:23.321Z"
   },
   {
    "duration": 18,
    "start_time": "2022-09-13T15:19:31.500Z"
   },
   {
    "duration": 6,
    "start_time": "2022-09-13T15:20:18.204Z"
   },
   {
    "duration": 6,
    "start_time": "2022-09-13T15:20:30.757Z"
   },
   {
    "duration": 24,
    "start_time": "2022-09-13T15:20:41.549Z"
   },
   {
    "duration": 4,
    "start_time": "2022-09-13T15:21:06.859Z"
   },
   {
    "duration": 37,
    "start_time": "2022-09-13T15:21:09.623Z"
   },
   {
    "duration": 92,
    "start_time": "2022-09-13T15:21:16.276Z"
   },
   {
    "duration": 4,
    "start_time": "2022-09-13T15:21:21.425Z"
   },
   {
    "duration": 33,
    "start_time": "2022-09-13T15:21:27.678Z"
   },
   {
    "duration": 36,
    "start_time": "2022-09-13T15:21:35.163Z"
   },
   {
    "duration": 34,
    "start_time": "2022-09-13T15:21:41.404Z"
   },
   {
    "duration": 33,
    "start_time": "2022-09-13T15:21:50.485Z"
   },
   {
    "duration": 55,
    "start_time": "2022-09-13T15:22:01.871Z"
   },
   {
    "duration": 34,
    "start_time": "2022-09-13T15:48:49.639Z"
   },
   {
    "duration": 35,
    "start_time": "2022-09-13T15:48:59.154Z"
   },
   {
    "duration": 510,
    "start_time": "2022-09-13T16:08:44.474Z"
   },
   {
    "duration": 8,
    "start_time": "2022-09-13T16:08:44.987Z"
   },
   {
    "duration": 56,
    "start_time": "2022-09-13T16:08:44.997Z"
   },
   {
    "duration": 24,
    "start_time": "2022-09-13T16:08:45.055Z"
   },
   {
    "duration": 44,
    "start_time": "2022-09-13T16:08:45.081Z"
   },
   {
    "duration": 6,
    "start_time": "2022-09-13T16:08:45.224Z"
   },
   {
    "duration": 11,
    "start_time": "2022-09-13T16:08:45.395Z"
   },
   {
    "duration": 29,
    "start_time": "2022-09-13T16:08:45.476Z"
   },
   {
    "duration": 5,
    "start_time": "2022-09-13T16:08:45.724Z"
   },
   {
    "duration": 11,
    "start_time": "2022-09-13T16:08:45.902Z"
   },
   {
    "duration": 8,
    "start_time": "2022-09-13T16:08:46.145Z"
   },
   {
    "duration": 11,
    "start_time": "2022-09-13T16:08:46.225Z"
   },
   {
    "duration": 8,
    "start_time": "2022-09-13T16:08:46.307Z"
   },
   {
    "duration": 10,
    "start_time": "2022-09-13T16:08:46.474Z"
   },
   {
    "duration": 5,
    "start_time": "2022-09-13T16:08:46.643Z"
   },
   {
    "duration": 5,
    "start_time": "2022-09-13T16:08:46.723Z"
   },
   {
    "duration": 8,
    "start_time": "2022-09-13T16:08:46.892Z"
   },
   {
    "duration": 13,
    "start_time": "2022-09-13T16:08:47.763Z"
   },
   {
    "duration": 4,
    "start_time": "2022-09-13T16:08:48.011Z"
   },
   {
    "duration": 9,
    "start_time": "2022-09-13T16:08:48.362Z"
   },
   {
    "duration": 5,
    "start_time": "2022-09-13T16:08:48.681Z"
   },
   {
    "duration": 5,
    "start_time": "2022-09-13T16:08:48.813Z"
   },
   {
    "duration": 6,
    "start_time": "2022-09-13T16:08:49.397Z"
   },
   {
    "duration": 2,
    "start_time": "2022-09-13T16:08:49.484Z"
   },
   {
    "duration": 5,
    "start_time": "2022-09-13T16:08:49.569Z"
   },
   {
    "duration": 12,
    "start_time": "2022-09-13T16:08:49.740Z"
   },
   {
    "duration": 18,
    "start_time": "2022-09-13T16:08:49.815Z"
   },
   {
    "duration": 7,
    "start_time": "2022-09-13T16:08:49.901Z"
   },
   {
    "duration": 8,
    "start_time": "2022-09-13T16:08:50.070Z"
   },
   {
    "duration": 2,
    "start_time": "2022-09-13T16:08:50.347Z"
   },
   {
    "duration": 8,
    "start_time": "2022-09-13T16:08:50.567Z"
   },
   {
    "duration": 49,
    "start_time": "2022-09-13T16:08:50.914Z"
   },
   {
    "duration": 45,
    "start_time": "2022-09-13T16:08:51.087Z"
   },
   {
    "duration": 35,
    "start_time": "2022-09-13T16:08:51.245Z"
   },
   {
    "duration": 482,
    "start_time": "2022-09-13T16:09:00.419Z"
   },
   {
    "duration": 7,
    "start_time": "2022-09-13T16:09:00.903Z"
   },
   {
    "duration": 36,
    "start_time": "2022-09-13T16:09:00.912Z"
   },
   {
    "duration": 39,
    "start_time": "2022-09-13T16:09:00.950Z"
   },
   {
    "duration": 20,
    "start_time": "2022-09-13T16:09:01.002Z"
   },
   {
    "duration": 6,
    "start_time": "2022-09-13T16:09:01.180Z"
   },
   {
    "duration": 13,
    "start_time": "2022-09-13T16:09:01.344Z"
   },
   {
    "duration": 31,
    "start_time": "2022-09-13T16:09:01.425Z"
   },
   {
    "duration": 5,
    "start_time": "2022-09-13T16:09:01.679Z"
   },
   {
    "duration": 12,
    "start_time": "2022-09-13T16:09:01.848Z"
   },
   {
    "duration": 7,
    "start_time": "2022-09-13T16:09:02.092Z"
   },
   {
    "duration": 10,
    "start_time": "2022-09-13T16:09:02.181Z"
   },
   {
    "duration": 8,
    "start_time": "2022-09-13T16:09:02.267Z"
   },
   {
    "duration": 12,
    "start_time": "2022-09-13T16:09:02.447Z"
   },
   {
    "duration": 5,
    "start_time": "2022-09-13T16:09:02.596Z"
   },
   {
    "duration": 5,
    "start_time": "2022-09-13T16:09:02.681Z"
   },
   {
    "duration": 9,
    "start_time": "2022-09-13T16:09:02.847Z"
   },
   {
    "duration": 12,
    "start_time": "2022-09-13T16:09:03.013Z"
   },
   {
    "duration": 4,
    "start_time": "2022-09-13T16:09:03.097Z"
   },
   {
    "duration": 7,
    "start_time": "2022-09-13T16:09:03.266Z"
   },
   {
    "duration": 5,
    "start_time": "2022-09-13T16:09:03.443Z"
   },
   {
    "duration": 5,
    "start_time": "2022-09-13T16:09:03.520Z"
   },
   {
    "duration": 10,
    "start_time": "2022-09-13T16:09:03.686Z"
   },
   {
    "duration": 2,
    "start_time": "2022-09-13T16:09:03.771Z"
   },
   {
    "duration": 7,
    "start_time": "2022-09-13T16:09:03.854Z"
   },
   {
    "duration": 20,
    "start_time": "2022-09-13T16:09:05.174Z"
   },
   {
    "duration": 24,
    "start_time": "2022-09-13T16:09:05.864Z"
   },
   {
    "duration": 8,
    "start_time": "2022-09-13T16:09:08.208Z"
   },
   {
    "duration": 9,
    "start_time": "2022-09-13T16:09:11.541Z"
   },
   {
    "duration": 2,
    "start_time": "2022-09-13T16:09:14.548Z"
   },
   {
    "duration": 6,
    "start_time": "2022-09-13T16:09:26.968Z"
   },
   {
    "duration": 2,
    "start_time": "2022-09-13T16:09:27.442Z"
   },
   {
    "duration": 8,
    "start_time": "2022-09-13T16:09:28.191Z"
   },
   {
    "duration": 65,
    "start_time": "2022-09-13T16:09:48.081Z"
   },
   {
    "duration": 73,
    "start_time": "2022-09-13T16:12:14.048Z"
   },
   {
    "duration": 67,
    "start_time": "2022-09-13T16:13:30.671Z"
   },
   {
    "duration": 67,
    "start_time": "2022-09-13T16:14:42.122Z"
   },
   {
    "duration": 2,
    "start_time": "2022-09-13T16:14:42.974Z"
   },
   {
    "duration": 2,
    "start_time": "2022-09-13T16:14:43.862Z"
   },
   {
    "duration": 4,
    "start_time": "2022-09-13T16:14:56.338Z"
   },
   {
    "duration": 6,
    "start_time": "2022-09-13T16:36:03.874Z"
   },
   {
    "duration": 61,
    "start_time": "2022-09-13T16:37:08.027Z"
   },
   {
    "duration": 8,
    "start_time": "2022-09-13T16:37:41.812Z"
   },
   {
    "duration": 7,
    "start_time": "2022-09-13T16:37:48.512Z"
   },
   {
    "duration": 5,
    "start_time": "2022-09-13T16:37:53.886Z"
   },
   {
    "duration": 14,
    "start_time": "2022-09-13T16:40:02.955Z"
   },
   {
    "duration": 33,
    "start_time": "2022-09-13T16:42:48.703Z"
   },
   {
    "duration": 49,
    "start_time": "2022-09-13T16:43:26.136Z"
   },
   {
    "duration": 461,
    "start_time": "2022-09-13T16:43:34.046Z"
   },
   {
    "duration": 9,
    "start_time": "2022-09-13T16:43:34.509Z"
   },
   {
    "duration": 23,
    "start_time": "2022-09-13T16:43:34.519Z"
   },
   {
    "duration": 16,
    "start_time": "2022-09-13T16:43:34.544Z"
   },
   {
    "duration": 22,
    "start_time": "2022-09-13T16:43:34.634Z"
   },
   {
    "duration": 7,
    "start_time": "2022-09-13T16:43:34.802Z"
   },
   {
    "duration": 16,
    "start_time": "2022-09-13T16:43:34.970Z"
   },
   {
    "duration": 35,
    "start_time": "2022-09-13T16:43:35.054Z"
   },
   {
    "duration": 6,
    "start_time": "2022-09-13T16:43:35.304Z"
   },
   {
    "duration": 12,
    "start_time": "2022-09-13T16:43:35.473Z"
   },
   {
    "duration": 8,
    "start_time": "2022-09-13T16:43:35.725Z"
   },
   {
    "duration": 13,
    "start_time": "2022-09-13T16:43:35.809Z"
   },
   {
    "duration": 11,
    "start_time": "2022-09-13T16:43:35.892Z"
   },
   {
    "duration": 13,
    "start_time": "2022-09-13T16:43:36.060Z"
   },
   {
    "duration": 7,
    "start_time": "2022-09-13T16:43:36.228Z"
   },
   {
    "duration": 7,
    "start_time": "2022-09-13T16:43:36.311Z"
   },
   {
    "duration": 10,
    "start_time": "2022-09-13T16:43:36.479Z"
   },
   {
    "duration": 13,
    "start_time": "2022-09-13T16:43:36.646Z"
   },
   {
    "duration": 4,
    "start_time": "2022-09-13T16:43:36.729Z"
   },
   {
    "duration": 7,
    "start_time": "2022-09-13T16:43:36.899Z"
   },
   {
    "duration": 6,
    "start_time": "2022-09-13T16:43:37.066Z"
   },
   {
    "duration": 5,
    "start_time": "2022-09-13T16:43:37.154Z"
   },
   {
    "duration": 7,
    "start_time": "2022-09-13T16:43:37.321Z"
   },
   {
    "duration": 3,
    "start_time": "2022-09-13T16:43:37.403Z"
   },
   {
    "duration": 6,
    "start_time": "2022-09-13T16:43:37.485Z"
   },
   {
    "duration": 18,
    "start_time": "2022-09-13T16:43:37.654Z"
   },
   {
    "duration": 22,
    "start_time": "2022-09-13T16:43:37.739Z"
   },
   {
    "duration": 9,
    "start_time": "2022-09-13T16:43:37.821Z"
   },
   {
    "duration": 10,
    "start_time": "2022-09-13T16:43:40.872Z"
   },
   {
    "duration": 3,
    "start_time": "2022-09-13T16:43:41.054Z"
   },
   {
    "duration": 9,
    "start_time": "2022-09-13T16:43:41.232Z"
   },
   {
    "duration": 91,
    "start_time": "2022-09-13T16:43:45.452Z"
   },
   {
    "duration": 2,
    "start_time": "2022-09-13T16:43:46.459Z"
   },
   {
    "duration": 3,
    "start_time": "2022-09-13T16:43:47.578Z"
   },
   {
    "duration": 3,
    "start_time": "2022-09-13T16:43:47.956Z"
   },
   {
    "duration": 15,
    "start_time": "2022-09-13T16:43:51.636Z"
   },
   {
    "duration": 17,
    "start_time": "2022-09-13T16:43:53.879Z"
   },
   {
    "duration": 10,
    "start_time": "2022-09-13T16:44:32.391Z"
   },
   {
    "duration": 11,
    "start_time": "2022-09-13T16:44:44.466Z"
   },
   {
    "duration": 9,
    "start_time": "2022-09-13T16:44:49.018Z"
   },
   {
    "duration": 9,
    "start_time": "2022-09-13T16:45:01.238Z"
   },
   {
    "duration": 516,
    "start_time": "2022-09-13T16:45:13.094Z"
   },
   {
    "duration": 9,
    "start_time": "2022-09-13T16:45:13.612Z"
   },
   {
    "duration": 20,
    "start_time": "2022-09-13T16:45:13.622Z"
   },
   {
    "duration": 15,
    "start_time": "2022-09-13T16:45:13.644Z"
   },
   {
    "duration": 20,
    "start_time": "2022-09-13T16:45:13.681Z"
   },
   {
    "duration": 7,
    "start_time": "2022-09-13T16:45:13.853Z"
   },
   {
    "duration": 13,
    "start_time": "2022-09-13T16:45:14.018Z"
   },
   {
    "duration": 29,
    "start_time": "2022-09-13T16:45:14.114Z"
   },
   {
    "duration": 5,
    "start_time": "2022-09-13T16:45:14.355Z"
   },
   {
    "duration": 8,
    "start_time": "2022-09-13T16:45:14.522Z"
   },
   {
    "duration": 6,
    "start_time": "2022-09-13T16:45:14.776Z"
   },
   {
    "duration": 10,
    "start_time": "2022-09-13T16:45:14.856Z"
   },
   {
    "duration": 8,
    "start_time": "2022-09-13T16:45:14.941Z"
   },
   {
    "duration": 11,
    "start_time": "2022-09-13T16:45:15.108Z"
   },
   {
    "duration": 6,
    "start_time": "2022-09-13T16:45:15.276Z"
   },
   {
    "duration": 6,
    "start_time": "2022-09-13T16:45:15.360Z"
   },
   {
    "duration": 8,
    "start_time": "2022-09-13T16:45:15.540Z"
   },
   {
    "duration": 13,
    "start_time": "2022-09-13T16:45:15.694Z"
   },
   {
    "duration": 4,
    "start_time": "2022-09-13T16:45:15.777Z"
   },
   {
    "duration": 8,
    "start_time": "2022-09-13T16:45:16.251Z"
   },
   {
    "duration": 5,
    "start_time": "2022-09-13T16:45:16.899Z"
   },
   {
    "duration": 5,
    "start_time": "2022-09-13T16:45:16.975Z"
   },
   {
    "duration": 8,
    "start_time": "2022-09-13T16:45:17.143Z"
   },
   {
    "duration": 2,
    "start_time": "2022-09-13T16:45:17.224Z"
   },
   {
    "duration": 6,
    "start_time": "2022-09-13T16:45:17.309Z"
   },
   {
    "duration": 15,
    "start_time": "2022-09-13T16:45:17.478Z"
   },
   {
    "duration": 18,
    "start_time": "2022-09-13T16:45:17.560Z"
   },
   {
    "duration": 7,
    "start_time": "2022-09-13T16:45:17.646Z"
   },
   {
    "duration": 10,
    "start_time": "2022-09-13T16:45:18.898Z"
   },
   {
    "duration": 2,
    "start_time": "2022-09-13T16:45:19.131Z"
   },
   {
    "duration": 7,
    "start_time": "2022-09-13T16:45:19.305Z"
   },
   {
    "duration": 78,
    "start_time": "2022-09-13T16:45:19.885Z"
   },
   {
    "duration": 3,
    "start_time": "2022-09-13T16:45:20.559Z"
   },
   {
    "duration": 2,
    "start_time": "2022-09-13T16:45:21.197Z"
   },
   {
    "duration": 6,
    "start_time": "2022-09-13T16:45:21.582Z"
   },
   {
    "duration": 11,
    "start_time": "2022-09-13T16:45:24.740Z"
   },
   {
    "duration": 20,
    "start_time": "2022-09-13T16:45:33.575Z"
   },
   {
    "duration": 4,
    "start_time": "2022-09-13T16:45:47.766Z"
   },
   {
    "duration": 12,
    "start_time": "2022-09-13T16:45:54.866Z"
   },
   {
    "duration": 537,
    "start_time": "2022-09-13T16:46:24.962Z"
   },
   {
    "duration": 10,
    "start_time": "2022-09-13T16:46:25.501Z"
   },
   {
    "duration": 20,
    "start_time": "2022-09-13T16:46:25.513Z"
   },
   {
    "duration": 16,
    "start_time": "2022-09-13T16:46:25.535Z"
   },
   {
    "duration": 46,
    "start_time": "2022-09-13T16:46:25.553Z"
   },
   {
    "duration": 7,
    "start_time": "2022-09-13T16:46:25.711Z"
   },
   {
    "duration": 12,
    "start_time": "2022-09-13T16:46:25.878Z"
   },
   {
    "duration": 28,
    "start_time": "2022-09-13T16:46:25.962Z"
   },
   {
    "duration": 6,
    "start_time": "2022-09-13T16:46:26.209Z"
   },
   {
    "duration": 10,
    "start_time": "2022-09-13T16:46:26.379Z"
   },
   {
    "duration": 5,
    "start_time": "2022-09-13T16:46:26.627Z"
   },
   {
    "duration": 10,
    "start_time": "2022-09-13T16:46:26.711Z"
   },
   {
    "duration": 6,
    "start_time": "2022-09-13T16:46:26.796Z"
   },
   {
    "duration": 10,
    "start_time": "2022-09-13T16:46:26.963Z"
   },
   {
    "duration": 5,
    "start_time": "2022-09-13T16:46:27.129Z"
   },
   {
    "duration": 5,
    "start_time": "2022-09-13T16:46:27.212Z"
   },
   {
    "duration": 9,
    "start_time": "2022-09-13T16:46:27.380Z"
   },
   {
    "duration": 12,
    "start_time": "2022-09-13T16:46:27.545Z"
   },
   {
    "duration": 4,
    "start_time": "2022-09-13T16:46:27.627Z"
   },
   {
    "duration": 9,
    "start_time": "2022-09-13T16:46:27.795Z"
   },
   {
    "duration": 6,
    "start_time": "2022-09-13T16:46:27.961Z"
   },
   {
    "duration": 5,
    "start_time": "2022-09-13T16:46:28.045Z"
   },
   {
    "duration": 7,
    "start_time": "2022-09-13T16:46:28.213Z"
   },
   {
    "duration": 3,
    "start_time": "2022-09-13T16:46:28.293Z"
   },
   {
    "duration": 5,
    "start_time": "2022-09-13T16:46:28.378Z"
   },
   {
    "duration": 12,
    "start_time": "2022-09-13T16:46:28.788Z"
   },
   {
    "duration": 17,
    "start_time": "2022-09-13T16:46:29.653Z"
   },
   {
    "duration": 8,
    "start_time": "2022-09-13T16:46:30.123Z"
   },
   {
    "duration": 7,
    "start_time": "2022-09-13T16:46:30.522Z"
   },
   {
    "duration": 3,
    "start_time": "2022-09-13T16:46:30.892Z"
   },
   {
    "duration": 8,
    "start_time": "2022-09-13T16:46:31.418Z"
   },
   {
    "duration": 91,
    "start_time": "2022-09-13T16:46:32.223Z"
   },
   {
    "duration": 2,
    "start_time": "2022-09-13T16:46:33.123Z"
   },
   {
    "duration": 2,
    "start_time": "2022-09-13T16:46:33.924Z"
   },
   {
    "duration": 4,
    "start_time": "2022-09-13T16:46:34.262Z"
   },
   {
    "duration": 12,
    "start_time": "2022-09-13T16:46:36.351Z"
   },
   {
    "duration": 20,
    "start_time": "2022-09-13T16:46:37.575Z"
   },
   {
    "duration": 5,
    "start_time": "2022-09-13T16:46:39.986Z"
   },
   {
    "duration": 10,
    "start_time": "2022-09-13T16:47:49.989Z"
   },
   {
    "duration": 19,
    "start_time": "2022-09-13T16:47:52.306Z"
   },
   {
    "duration": 5,
    "start_time": "2022-09-13T16:47:54.449Z"
   },
   {
    "duration": 134,
    "start_time": "2022-09-13T16:48:02.809Z"
   },
   {
    "duration": 4,
    "start_time": "2022-09-13T16:48:02.974Z"
   },
   {
    "duration": 15,
    "start_time": "2022-09-13T16:48:03.057Z"
   },
   {
    "duration": 16,
    "start_time": "2022-09-13T16:48:03.230Z"
   },
   {
    "duration": 21,
    "start_time": "2022-09-13T16:48:03.394Z"
   },
   {
    "duration": 6,
    "start_time": "2022-09-13T16:48:03.561Z"
   },
   {
    "duration": 11,
    "start_time": "2022-09-13T16:48:03.728Z"
   },
   {
    "duration": 27,
    "start_time": "2022-09-13T16:48:03.811Z"
   },
   {
    "duration": 5,
    "start_time": "2022-09-13T16:48:05.914Z"
   },
   {
    "duration": 8,
    "start_time": "2022-09-13T16:48:07.331Z"
   },
   {
    "duration": 6,
    "start_time": "2022-09-13T16:48:09.188Z"
   },
   {
    "duration": 10,
    "start_time": "2022-09-13T16:48:10.335Z"
   },
   {
    "duration": 7,
    "start_time": "2022-09-13T16:48:10.739Z"
   },
   {
    "duration": 10,
    "start_time": "2022-09-13T16:48:14.704Z"
   },
   {
    "duration": 5,
    "start_time": "2022-09-13T16:48:16.309Z"
   },
   {
    "duration": 442,
    "start_time": "2022-09-13T16:50:14.435Z"
   },
   {
    "duration": 8,
    "start_time": "2022-09-13T16:50:14.909Z"
   },
   {
    "duration": 21,
    "start_time": "2022-09-13T16:50:14.919Z"
   },
   {
    "duration": 16,
    "start_time": "2022-09-13T16:50:14.942Z"
   },
   {
    "duration": 21,
    "start_time": "2022-09-13T16:50:15.022Z"
   },
   {
    "duration": 6,
    "start_time": "2022-09-13T16:50:15.195Z"
   },
   {
    "duration": 12,
    "start_time": "2022-09-13T16:50:15.664Z"
   },
   {
    "duration": 29,
    "start_time": "2022-09-13T16:50:15.678Z"
   },
   {
    "duration": 4,
    "start_time": "2022-09-13T16:50:15.709Z"
   },
   {
    "duration": 9,
    "start_time": "2022-09-13T16:50:16.576Z"
   },
   {
    "duration": 6,
    "start_time": "2022-09-13T16:50:17.920Z"
   },
   {
    "duration": 9,
    "start_time": "2022-09-13T16:50:18.791Z"
   },
   {
    "duration": 6,
    "start_time": "2022-09-13T16:50:19.081Z"
   },
   {
    "duration": 9,
    "start_time": "2022-09-13T16:50:19.659Z"
   },
   {
    "duration": 5,
    "start_time": "2022-09-13T16:50:19.824Z"
   },
   {
    "duration": 6,
    "start_time": "2022-09-13T16:50:19.910Z"
   },
   {
    "duration": 8,
    "start_time": "2022-09-13T16:50:20.076Z"
   },
   {
    "duration": 13,
    "start_time": "2022-09-13T16:50:20.243Z"
   },
   {
    "duration": 5,
    "start_time": "2022-09-13T16:50:20.327Z"
   },
   {
    "duration": 7,
    "start_time": "2022-09-13T16:50:20.498Z"
   },
   {
    "duration": 6,
    "start_time": "2022-09-13T16:50:20.662Z"
   },
   {
    "duration": 5,
    "start_time": "2022-09-13T16:50:20.744Z"
   },
   {
    "duration": 7,
    "start_time": "2022-09-13T16:50:20.912Z"
   },
   {
    "duration": 2,
    "start_time": "2022-09-13T16:50:20.995Z"
   },
   {
    "duration": 5,
    "start_time": "2022-09-13T16:50:21.083Z"
   },
   {
    "duration": 18,
    "start_time": "2022-09-13T16:50:21.250Z"
   },
   {
    "duration": 16,
    "start_time": "2022-09-13T16:50:21.331Z"
   },
   {
    "duration": 6,
    "start_time": "2022-09-13T16:50:21.416Z"
   },
   {
    "duration": 8,
    "start_time": "2022-09-13T16:50:21.583Z"
   },
   {
    "duration": 2,
    "start_time": "2022-09-13T16:50:21.664Z"
   },
   {
    "duration": 6,
    "start_time": "2022-09-13T16:50:21.749Z"
   },
   {
    "duration": 75,
    "start_time": "2022-09-13T16:50:22.359Z"
   },
   {
    "duration": 2,
    "start_time": "2022-09-13T16:50:22.785Z"
   },
   {
    "duration": 2,
    "start_time": "2022-09-13T16:50:23.303Z"
   },
   {
    "duration": 3,
    "start_time": "2022-09-13T16:50:23.679Z"
   },
   {
    "duration": 11,
    "start_time": "2022-09-13T16:50:27.306Z"
   },
   {
    "duration": 19,
    "start_time": "2022-09-13T16:50:29.220Z"
   },
   {
    "duration": 4,
    "start_time": "2022-09-13T16:50:31.388Z"
   },
   {
    "duration": 11,
    "start_time": "2022-09-13T16:50:42.194Z"
   },
   {
    "duration": 10,
    "start_time": "2022-09-13T16:51:42.392Z"
   },
   {
    "duration": 8,
    "start_time": "2022-09-13T16:51:43.264Z"
   },
   {
    "duration": 4,
    "start_time": "2022-09-13T16:51:44.369Z"
   },
   {
    "duration": 85,
    "start_time": "2022-09-13T17:06:05.583Z"
   },
   {
    "duration": 3,
    "start_time": "2022-09-13T17:06:09.263Z"
   },
   {
    "duration": 4,
    "start_time": "2022-09-13T17:06:13.380Z"
   },
   {
    "duration": 4,
    "start_time": "2022-09-13T17:06:21.340Z"
   },
   {
    "duration": 3,
    "start_time": "2022-09-13T17:07:04.369Z"
   },
   {
    "duration": 3,
    "start_time": "2022-09-13T17:07:05.234Z"
   },
   {
    "duration": 3,
    "start_time": "2022-09-13T17:07:23.554Z"
   },
   {
    "duration": 9,
    "start_time": "2022-09-13T17:08:49.347Z"
   },
   {
    "duration": 6,
    "start_time": "2022-09-13T17:09:02.014Z"
   },
   {
    "duration": 20,
    "start_time": "2022-09-13T17:09:09.861Z"
   },
   {
    "duration": 7,
    "start_time": "2022-09-13T17:10:27.995Z"
   },
   {
    "duration": 67,
    "start_time": "2022-09-13T17:11:54.487Z"
   },
   {
    "duration": 10,
    "start_time": "2022-09-13T17:12:01.645Z"
   },
   {
    "duration": 10,
    "start_time": "2022-09-13T17:12:11.606Z"
   },
   {
    "duration": 34,
    "start_time": "2022-09-13T17:14:05.929Z"
   },
   {
    "duration": 8,
    "start_time": "2022-09-13T17:14:30.175Z"
   },
   {
    "duration": 9,
    "start_time": "2022-09-13T17:14:43.613Z"
   },
   {
    "duration": 5,
    "start_time": "2022-09-13T17:15:53.326Z"
   },
   {
    "duration": 8,
    "start_time": "2022-09-13T17:16:15.720Z"
   },
   {
    "duration": 5,
    "start_time": "2022-09-13T17:18:20.654Z"
   },
   {
    "duration": 6,
    "start_time": "2022-09-13T17:18:32.624Z"
   },
   {
    "duration": 77,
    "start_time": "2022-09-13T17:29:59.737Z"
   },
   {
    "duration": 8,
    "start_time": "2022-09-13T17:30:03.137Z"
   },
   {
    "duration": 16,
    "start_time": "2022-09-13T17:30:41.292Z"
   },
   {
    "duration": 17,
    "start_time": "2022-09-13T17:31:01.373Z"
   },
   {
    "duration": 25,
    "start_time": "2022-09-13T17:31:20.588Z"
   },
   {
    "duration": 14,
    "start_time": "2022-09-13T17:31:44.952Z"
   },
   {
    "duration": 19,
    "start_time": "2022-09-13T17:31:53.181Z"
   },
   {
    "duration": 16,
    "start_time": "2022-09-13T17:32:03.609Z"
   }
  ],
  "kernelspec": {
   "display_name": "Python 3 (ipykernel)",
   "language": "python",
   "name": "python3"
  },
  "language_info": {
   "codemirror_mode": {
    "name": "ipython",
    "version": 3
   },
   "file_extension": ".py",
   "mimetype": "text/x-python",
   "name": "python",
   "nbconvert_exporter": "python",
   "pygments_lexer": "ipython3",
   "version": "3.12.3"
  },
  "toc": {
   "base_numbering": 1,
   "nav_menu": {},
   "number_sections": true,
   "sideBar": true,
   "skip_h1_title": true,
   "title_cell": "Table of Contents",
   "title_sidebar": "Contents",
   "toc_cell": false,
   "toc_position": {
    "height": "calc(100% - 180px)",
    "left": "10px",
    "top": "150px",
    "width": "165px"
   },
   "toc_section_display": true,
   "toc_window_display": false
  }
 },
 "nbformat": 4,
 "nbformat_minor": 2
}
